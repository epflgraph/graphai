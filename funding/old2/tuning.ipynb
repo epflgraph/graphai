{
 "cells": [
  {
   "cell_type": "code",
   "execution_count": 1,
   "id": "e4a28a59-5bb1-4d23-b179-2303b73b7010",
   "metadata": {},
   "outputs": [],
   "source": [
    "%load_ext autoreload\n",
    "%autoreload 2"
   ]
  },
  {
   "cell_type": "code",
   "execution_count": 2,
   "id": "31c04acd-328a-4715-b931-d32bd2cd2662",
   "metadata": {},
   "outputs": [],
   "source": [
    "from sklearn.model_selection import train_test_split, cross_val_score, RepeatedKFold\n",
    "\n",
    "from xgboost import XGBRegressor\n",
    "\n",
    "from funding.preprocessing import build_time_series, split_last_year\n",
    "from funding.training import extract_features\n",
    "from funding.validation import evaluate\n",
    "from funding.io import load_features\n",
    "\n",
    "from interfaces.db import DB\n",
    "from utils.text.io import log"
   ]
  },
  {
   "cell_type": "markdown",
   "id": "a65287d0-e4b2-42a3-880f-cd60413921d2",
   "metadata": {
    "tags": []
   },
   "source": [
    "## Build data from DB"
   ]
  },
  {
   "cell_type": "code",
   "execution_count": 3,
   "id": "1cbca2f0-25cc-4ad1-afdb-7e25cf185891",
   "metadata": {},
   "outputs": [],
   "source": [
    "min_year = 2018\n",
    "max_year = 2021\n",
    "\n",
    "debug = True\n",
    "\n",
    "name = f'simple_{min_year}_{max_year}'"
   ]
  },
  {
   "cell_type": "code",
   "execution_count": 4,
   "id": "b9cac3e9-d1cf-45de-ab6d-c4d1bc570af0",
   "metadata": {},
   "outputs": [
    {
     "name": "stdout",
     "output_type": "stream",
     "text": [
      "Creating time series for time window 2018-2021...\n",
      "Loading model features from disk...\n",
      "Extracting model features...\n"
     ]
    },
    {
     "name": "stderr",
     "output_type": "stream",
     "text": [
      "Feature Extraction: 100%|█████████████████████████████████████████████████████████████████████████████████████████████████████████████████████████████████████████████████████████████████████████████████████████████████████████████████████████████████████████████████████████████████████| 25/25 [00:02<00:00,  9.41it/s]"
     ]
    },
    {
     "name": "stdout",
     "output_type": "stream",
     "text": [
      "Shape of df after feature extraction:  (685, 122)\n"
     ]
    },
    {
     "name": "stderr",
     "output_type": "stream",
     "text": [
      "\n"
     ]
    }
   ],
   "source": [
    "db = DB()\n",
    "concept_ids = db.get_crunchbase_concept_ids()\n",
    "\n",
    "# Create time series with data from database\n",
    "log(f'Creating time series for time window {min_year}-{max_year}...', debug)\n",
    "df = build_time_series(min_year, max_year, concept_ids=concept_ids, debug=False)\n",
    "\n",
    "# Split df rows into < max_year (training data) and = max_year (response variable)\n",
    "df, y = split_last_year(df, max_year)\n",
    "\n",
    "# Load features\n",
    "log(f'Loading model features from disk...', debug)\n",
    "features = load_features(name)\n",
    "\n",
    "# Extract model features\n",
    "log(f'Extracting model features...', debug)\n",
    "X = extract_features(df, features)"
   ]
  },
  {
   "cell_type": "markdown",
   "id": "39dd2732-6273-4443-af70-ee947a3403b9",
   "metadata": {
    "tags": []
   },
   "source": [
    "## Step 1: Set high`learning_rate` to determine `n_estimators`\n",
    "\n",
    "Start with general, sensible parameters, with high learning rate and n_estimators.\n",
    "\n",
    "After `early_stopping_rounds` iterations with no improvement in validation, training will stop.\n",
    "\n",
    "That will give an idea of a good value for `n_estimators`."
   ]
  },
  {
   "cell_type": "code",
   "execution_count": 44,
   "id": "f5f470ee-5ff2-4efb-be4d-b1683640fd5a",
   "metadata": {},
   "outputs": [],
   "source": [
    "xgb_params = {\n",
    "    'n_estimators': 1000,\n",
    "    'max_depth': 6,\n",
    "    'learning_rate': 0.1,\n",
    "    'gamma': 0,\n",
    "    'min_child_weight': 1,\n",
    "    'subsample': 0.8,\n",
    "    'colsample_bytree': 0.8,\n",
    "    'reg_alpha': 0,\n",
    "    'reg_lambda': 1,\n",
    "    'early_stopping_rounds': 50\n",
    "}"
   ]
  },
  {
   "cell_type": "code",
   "execution_count": 49,
   "id": "038800d5-967e-4c17-a178-2438f5f579e7",
   "metadata": {},
   "outputs": [
    {
     "name": "stdout",
     "output_type": "stream",
     "text": [
      "Optimal number of trees, averaged over all cv folds and rounded: 9\n",
      "CV SCORE [R2 score (1 - (residual sum squares)/(total sum squares))] after 10x3 cross-validation: -0.16105932081775104\n",
      "TRAIN SCORE [R2 score (1 - (residual sum squares)/(total sum squares))]: 0.421005631844809\n",
      "TEST SCORE [R2 score (1 - (residual sum squares)/(total sum squares))]: -0.09325017468324237\n"
     ]
    },
    {
     "data": {
      "text/plain": [
       "{'train': 0.421005631844809,\n",
       " 'cv': -0.16105932081775104,\n",
       " 'test': -0.09325017468324237,\n",
       " 'diff-train-cv': 0.5820649526625601,\n",
       " 'diff-train-test': 0.5142558065280514,\n",
       " 'diff-test-cv': 0.06780914613450867}"
      ]
     },
     "execution_count": 49,
     "metadata": {},
     "output_type": "execute_result"
    }
   ],
   "source": [
    "evaluate(X, y, xgb_params, debug=True)"
   ]
  },
  {
   "cell_type": "markdown",
   "id": "b61a4e55-97e7-46c4-bb0e-d01f31254171",
   "metadata": {},
   "source": [
    "We observe the optimal number of estimators for this set of parameters is **9**."
   ]
  },
  {
   "cell_type": "code",
   "execution_count": 50,
   "id": "2c4f0183-da5e-41f7-8230-d478ef3e909a",
   "metadata": {},
   "outputs": [],
   "source": [
    "xgb_params['n_estimators'] = 9"
   ]
  },
  {
   "cell_type": "markdown",
   "id": "b678c311-a9af-4ef2-b213-c99f17cbfb68",
   "metadata": {
    "tags": []
   },
   "source": [
    "## Step 2: Tune `max_depth` and `min_child_weight`\n",
    "\n",
    "We tune these two parameters as they typically have the highest impact."
   ]
  },
  {
   "cell_type": "code",
   "execution_count": 91,
   "id": "c9f12e16-bd8a-421f-8e41-91401eda1118",
   "metadata": {},
   "outputs": [
    {
     "name": "stdout",
     "output_type": "stream",
     "text": [
      "max_depth=3 min_child_weight=1 cv_score=-0.08219119594139777\n",
      "max_depth=3 min_child_weight=3 cv_score=-0.08074599557530335\n",
      "max_depth=3 min_child_weight=5 cv_score=-0.09764373880024536\n",
      "max_depth=5 min_child_weight=1 cv_score=-0.12203864954541305\n",
      "max_depth=5 min_child_weight=3 cv_score=-0.11272164637649976\n",
      "max_depth=5 min_child_weight=5 cv_score=-0.11237204439930831\n",
      "max_depth=7 min_child_weight=1 cv_score=-0.1326823629285182\n",
      "max_depth=7 min_child_weight=3 cv_score=-0.12439632809325461\n",
      "max_depth=7 min_child_weight=5 cv_score=-0.11657140065761344\n",
      "max_depth=9 min_child_weight=1 cv_score=-0.15707277908311781\n",
      "max_depth=9 min_child_weight=3 cv_score=-0.1280681044370781\n",
      "max_depth=9 min_child_weight=5 cv_score=-0.12170612066190362\n",
      "\n",
      "Best combination:\n",
      "max_depth=3 min_child_weight=3 cv_score=-0.08074599557530335\n"
     ]
    }
   ],
   "source": [
    "max_depth_grid = [3, 5, 7, 9]\n",
    "min_child_weight_grid = [1, 3, 5]\n",
    "\n",
    "best_score = None\n",
    "best_combination = None\n",
    "for max_depth in max_depth_grid:\n",
    "    xgb_params['max_depth'] = max_depth\n",
    "    for min_child_weight in min_child_weight_grid:\n",
    "        xgb_params['min_child_weight'] = min_child_weight\n",
    "        cv_score = evaluate(X, y, xgb_params, debug=False)['cv']\n",
    "        \n",
    "        if best_score is None or best_score < cv_score:\n",
    "            best_score = cv_score\n",
    "            best_combination = (max_depth, min_child_weight)\n",
    "\n",
    "        print(f'max_depth={max_depth}', f'min_child_weight={min_child_weight}', f'cv_score={cv_score}')\n",
    "\n",
    "print()\n",
    "print('Best combination:')\n",
    "print(f'max_depth={best_combination[0]}', f'min_child_weight={best_combination[1]}', f'cv_score={best_score}')"
   ]
  },
  {
   "cell_type": "markdown",
   "id": "0ecf323f-9ced-4d2a-9558-8cd0c657e3ab",
   "metadata": {},
   "source": [
    "The combination yielding the best results is `max_depth=3`, `min_child_weight=5`. We repeat the process with different grids closer to the obtained values."
   ]
  },
  {
   "cell_type": "code",
   "execution_count": 92,
   "id": "d2dc597e-b0e5-4960-9096-c941eeca8a08",
   "metadata": {},
   "outputs": [
    {
     "name": "stdout",
     "output_type": "stream",
     "text": [
      "max_depth=1 min_child_weight=5 cv_score=-0.10081788517237976\n",
      "max_depth=1 min_child_weight=6 cv_score=-0.09723244190873709\n",
      "max_depth=1 min_child_weight=7 cv_score=-0.09175427541912443\n",
      "max_depth=1 min_child_weight=8 cv_score=-0.09488333835800894\n",
      "max_depth=1 min_child_weight=9 cv_score=-0.09752685052864672\n",
      "max_depth=2 min_child_weight=5 cv_score=-0.08692708540423962\n",
      "max_depth=2 min_child_weight=6 cv_score=-0.08074101856412606\n",
      "max_depth=2 min_child_weight=7 cv_score=-0.0804149931528667\n",
      "max_depth=2 min_child_weight=8 cv_score=-0.07926998468428562\n",
      "max_depth=2 min_child_weight=9 cv_score=-0.08596118576353028\n",
      "max_depth=3 min_child_weight=5 cv_score=-0.09764373880024536\n",
      "max_depth=3 min_child_weight=6 cv_score=-0.08586318168909876\n",
      "max_depth=3 min_child_weight=7 cv_score=-0.08573641682769831\n",
      "max_depth=3 min_child_weight=8 cv_score=-0.08252533659939267\n",
      "max_depth=3 min_child_weight=9 cv_score=-0.09473510027140279\n",
      "max_depth=4 min_child_weight=5 cv_score=-0.10828229845131544\n",
      "max_depth=4 min_child_weight=6 cv_score=-0.09694524584260801\n",
      "max_depth=4 min_child_weight=7 cv_score=-0.09626444138638025\n",
      "max_depth=4 min_child_weight=8 cv_score=-0.094408305640951\n",
      "max_depth=4 min_child_weight=9 cv_score=-0.0902683909577884\n",
      "\n",
      "Best combination:\n",
      "max_depth=2 min_child_weight=8 cv_score=-0.07926998468428562\n"
     ]
    }
   ],
   "source": [
    "max_depth_grid = [1, 2, 3, 4]\n",
    "min_child_weight_grid = [5, 6, 7, 8, 9]\n",
    "\n",
    "best_score = None\n",
    "best_combination = None\n",
    "for max_depth in max_depth_grid:\n",
    "    xgb_params['max_depth'] = max_depth\n",
    "    for min_child_weight in min_child_weight_grid:\n",
    "        xgb_params['min_child_weight'] = min_child_weight\n",
    "        cv_score = evaluate(X, y, xgb_params, debug=False)['cv']\n",
    "        \n",
    "        if best_score is None or best_score < cv_score:\n",
    "            best_score = cv_score\n",
    "            best_combination = (max_depth, min_child_weight)\n",
    "\n",
    "        print(f'max_depth={max_depth}', f'min_child_weight={min_child_weight}', f'cv_score={cv_score}')\n",
    "\n",
    "print()\n",
    "print('Best combination:')\n",
    "print(f'max_depth={best_combination[0]}', f'min_child_weight={best_combination[1]}', f'cv_score={best_score}')"
   ]
  },
  {
   "cell_type": "markdown",
   "id": "73ad8998-cb0b-4ae0-9aba-6554ab4c128a",
   "metadata": {},
   "source": [
    "The combination yielding the best results is `max_depth=1`, `min_child_weight=8`. We keep these values for the moment."
   ]
  },
  {
   "cell_type": "code",
   "execution_count": 64,
   "id": "96b57741-30e9-46c8-ad48-899e3c61cb60",
   "metadata": {},
   "outputs": [],
   "source": [
    "xgb_params['max_depth'] = 1\n",
    "xgb_params['min_child_weight'] = 8"
   ]
  },
  {
   "cell_type": "markdown",
   "id": "e4f969a3-a8fe-43f3-a4b4-b9e63436eb50",
   "metadata": {
    "jp-MarkdownHeadingCollapsed": true,
    "tags": []
   },
   "source": [
    "## Step 3: Tune `gamma`"
   ]
  },
  {
   "cell_type": "code",
   "execution_count": 69,
   "id": "b960d06f-fb9a-439f-81e5-9f976fdef063",
   "metadata": {},
   "outputs": [
    {
     "name": "stdout",
     "output_type": "stream",
     "text": [
      "gamma=0 cv_score=-0.04869845177376186\n",
      "gamma=0.5 cv_score=-0.04869845177376186\n",
      "gamma=1 cv_score=-0.04869845177376186\n",
      "gamma=1.5 cv_score=-0.04869845177376186\n",
      "gamma=2 cv_score=-0.04869845177376186\n",
      "gamma=2.5 cv_score=-0.04869845177376186\n",
      "\n",
      "Best parameter:\n",
      "gamma=0 cv_score=-0.04869845177376186\n"
     ]
    }
   ],
   "source": [
    "gamma_grid = [0, 0.5, 1, 1.5, 2, 2.5]\n",
    "\n",
    "best_score = None\n",
    "best_param = None\n",
    "for gamma in gamma_grid:\n",
    "    xgb_params['gamma'] = gamma\n",
    "    cv_score = evaluate(X, y, xgb_params, debug=False)['cv']\n",
    "\n",
    "    if best_score is None or best_score < cv_score:\n",
    "        best_score = cv_score\n",
    "        best_param = gamma\n",
    "\n",
    "    print(f'gamma={gamma}', f'cv_score={cv_score}')\n",
    "\n",
    "print()\n",
    "print('Best parameter:')\n",
    "print(f'gamma={best_param}', f'cv_score={best_score}')"
   ]
  },
  {
   "cell_type": "markdown",
   "id": "64eca220-4131-41b0-a49b-296b84121a40",
   "metadata": {},
   "source": [
    "`gamma` does not seem to affect the cv score. We set it back to 0, the default value."
   ]
  },
  {
   "cell_type": "code",
   "execution_count": 71,
   "id": "5b614bdc-87b8-4961-a6c5-8616da0eb96e",
   "metadata": {},
   "outputs": [],
   "source": [
    "xgb_params['gamma'] = 0"
   ]
  },
  {
   "cell_type": "markdown",
   "id": "fbddb751-4dce-4fc6-8d2d-4e39a4bc4fc2",
   "metadata": {
    "tags": []
   },
   "source": [
    "## Step 4: Recalibrate the number of estimators"
   ]
  },
  {
   "cell_type": "code",
   "execution_count": 72,
   "id": "a60a076b-36fe-451d-bd5e-f111c15b7998",
   "metadata": {},
   "outputs": [
    {
     "name": "stdout",
     "output_type": "stream",
     "text": [
      "Optimal number of trees, averaged over all cv folds and rounded: 9\n",
      "CV SCORE [R2 score (1 - (residual sum squares)/(total sum squares))] after 10x3 cross-validation: -0.04869845177376186\n",
      "TRAIN SCORE [R2 score (1 - (residual sum squares)/(total sum squares))]: 0.005808709889873809\n",
      "TEST SCORE [R2 score (1 - (residual sum squares)/(total sum squares))]: -0.054544020256831915\n"
     ]
    },
    {
     "data": {
      "text/plain": [
       "{'train': 0.005808709889873809,\n",
       " 'cv': -0.04869845177376186,\n",
       " 'test': -0.054544020256831915,\n",
       " 'diff-train-cv': 0.054507161663635666,\n",
       " 'diff-train-test': 0.060352730146705724,\n",
       " 'diff-test-cv': 0.0058455684830700586}"
      ]
     },
     "execution_count": 72,
     "metadata": {},
     "output_type": "execute_result"
    }
   ],
   "source": [
    "evaluate(X, y, xgb_params, debug=True)"
   ]
  },
  {
   "cell_type": "markdown",
   "id": "eb9dc173-2767-4f1f-9c46-4ee50e69b008",
   "metadata": {},
   "source": [
    "Still the optimal value is 9, nothing to change."
   ]
  },
  {
   "cell_type": "markdown",
   "id": "6802f538-222f-4f67-ace1-ab371dd02688",
   "metadata": {
    "jp-MarkdownHeadingCollapsed": true,
    "tags": []
   },
   "source": [
    "## Step 5: Tune `subsample`, `colsample_bytree`"
   ]
  },
  {
   "cell_type": "code",
   "execution_count": 73,
   "id": "20318f21-379b-4f63-99cb-a0abe492810e",
   "metadata": {},
   "outputs": [
    {
     "name": "stdout",
     "output_type": "stream",
     "text": [
      "subsample=0.6 colsample_bytree=0.6 cv_score=-0.05418126225145467\n",
      "subsample=0.6 colsample_bytree=0.7 cv_score=-0.05524874709341067\n",
      "subsample=0.6 colsample_bytree=0.8 cv_score=-0.05547567420876541\n",
      "subsample=0.6 colsample_bytree=0.9 cv_score=-0.056724076206346494\n",
      "subsample=0.7 colsample_bytree=0.6 cv_score=-0.05396833870079646\n",
      "subsample=0.7 colsample_bytree=0.7 cv_score=-0.054015747246429074\n",
      "subsample=0.7 colsample_bytree=0.8 cv_score=-0.055535598742020735\n",
      "subsample=0.7 colsample_bytree=0.9 cv_score=-0.05395721838972627\n",
      "subsample=0.8 colsample_bytree=0.6 cv_score=-0.04849489716382564\n",
      "subsample=0.8 colsample_bytree=0.7 cv_score=-0.04810394114652001\n",
      "subsample=0.8 colsample_bytree=0.8 cv_score=-0.04869845177376186\n",
      "subsample=0.8 colsample_bytree=0.9 cv_score=-0.04811103033285473\n",
      "subsample=0.9 colsample_bytree=0.6 cv_score=-0.047483232271403684\n",
      "subsample=0.9 colsample_bytree=0.7 cv_score=-0.04680245879418173\n",
      "subsample=0.9 colsample_bytree=0.8 cv_score=-0.047514253526024564\n",
      "subsample=0.9 colsample_bytree=0.9 cv_score=-0.049023185821794504\n",
      "\n",
      "Best combination:\n",
      "subsample=0.9 colsample_bytree=0.7 cv_score=-0.04680245879418173\n"
     ]
    }
   ],
   "source": [
    "subsample_grid = [0.6, 0.7, 0.8, 0.9]\n",
    "colsample_bytree_grid = [0.6, 0.7, 0.8, 0.9]\n",
    "\n",
    "best_score = None\n",
    "best_combination = None\n",
    "for subsample in subsample_grid:\n",
    "    xgb_params['subsample'] = subsample\n",
    "    for colsample_bytree in colsample_bytree_grid:\n",
    "        xgb_params['colsample_bytree'] = colsample_bytree\n",
    "        cv_score = evaluate(X, y, xgb_params, debug=False)['cv']\n",
    "        \n",
    "        if best_score is None or best_score < cv_score:\n",
    "            best_score = cv_score\n",
    "            best_combination = (subsample, colsample_bytree)\n",
    "\n",
    "        print(f'subsample={subsample}', f'colsample_bytree={colsample_bytree}', f'cv_score={cv_score}')\n",
    "\n",
    "print()\n",
    "print('Best combination:')\n",
    "print(f'subsample={best_combination[0]}', f'colsample_bytree={best_combination[1]}', f'cv_score={best_score}')"
   ]
  },
  {
   "cell_type": "markdown",
   "id": "bde08c89-adff-4344-9911-87fd93f17e33",
   "metadata": {},
   "source": [
    "Best combination: `subsample=0.9` and `colsample_bytree=0.7`. We repeat the process with a finer grid."
   ]
  },
  {
   "cell_type": "code",
   "execution_count": 74,
   "id": "72ee25de-d6e3-48ea-bb8d-6c00a267625e",
   "metadata": {},
   "outputs": [
    {
     "name": "stdout",
     "output_type": "stream",
     "text": [
      "subsample=0.82 colsample_bytree=0.62 cv_score=-0.04814284300456329\n",
      "subsample=0.82 colsample_bytree=0.64 cv_score=-0.04729786197205464\n",
      "subsample=0.82 colsample_bytree=0.66 cv_score=-0.047870108776347446\n",
      "subsample=0.82 colsample_bytree=0.68 cv_score=-0.047870108776347446\n",
      "subsample=0.82 colsample_bytree=0.7 cv_score=-0.04965653698639308\n",
      "subsample=0.82 colsample_bytree=0.72 cv_score=-0.04965653698639308\n",
      "subsample=0.82 colsample_bytree=0.74 cv_score=-0.04848344746168098\n",
      "subsample=0.82 colsample_bytree=0.76 cv_score=-0.04854092395846531\n",
      "subsample=0.82 colsample_bytree=0.78 cv_score=-0.04901971713871885\n",
      "subsample=0.84 colsample_bytree=0.62 cv_score=-0.046125924877266654\n",
      "subsample=0.84 colsample_bytree=0.64 cv_score=-0.045876204739272425\n",
      "subsample=0.84 colsample_bytree=0.66 cv_score=-0.0464071730143792\n",
      "subsample=0.84 colsample_bytree=0.68 cv_score=-0.0464071730143792\n",
      "subsample=0.84 colsample_bytree=0.7 cv_score=-0.047747591255027415\n",
      "subsample=0.84 colsample_bytree=0.72 cv_score=-0.047747591255027415\n",
      "subsample=0.84 colsample_bytree=0.74 cv_score=-0.04824769023557521\n",
      "subsample=0.84 colsample_bytree=0.76 cv_score=-0.048365914666618444\n",
      "subsample=0.84 colsample_bytree=0.78 cv_score=-0.04833753173882453\n",
      "subsample=0.86 colsample_bytree=0.62 cv_score=-0.04725389679110339\n",
      "subsample=0.86 colsample_bytree=0.64 cv_score=-0.04608627981884662\n",
      "subsample=0.86 colsample_bytree=0.66 cv_score=-0.0474599747470853\n",
      "subsample=0.86 colsample_bytree=0.68 cv_score=-0.0474599747470853\n",
      "subsample=0.86 colsample_bytree=0.7 cv_score=-0.04799128267925811\n",
      "subsample=0.86 colsample_bytree=0.72 cv_score=-0.04799128267925811\n",
      "subsample=0.86 colsample_bytree=0.74 cv_score=-0.048460593154021396\n",
      "subsample=0.86 colsample_bytree=0.76 cv_score=-0.04860335528980856\n",
      "subsample=0.86 colsample_bytree=0.78 cv_score=-0.04841993883894939\n",
      "subsample=0.88 colsample_bytree=0.62 cv_score=-0.04631211070484432\n",
      "subsample=0.88 colsample_bytree=0.64 cv_score=-0.045978882047255795\n",
      "subsample=0.88 colsample_bytree=0.66 cv_score=-0.04635342196267888\n",
      "subsample=0.88 colsample_bytree=0.68 cv_score=-0.04635342196267888\n",
      "subsample=0.88 colsample_bytree=0.7 cv_score=-0.047290628223870604\n",
      "subsample=0.88 colsample_bytree=0.72 cv_score=-0.047290628223870604\n",
      "subsample=0.88 colsample_bytree=0.74 cv_score=-0.047669946035905686\n",
      "subsample=0.88 colsample_bytree=0.76 cv_score=-0.04781824572297722\n",
      "subsample=0.88 colsample_bytree=0.78 cv_score=-0.047571960489811396\n",
      "subsample=0.9 colsample_bytree=0.62 cv_score=-0.04752123898142803\n",
      "subsample=0.9 colsample_bytree=0.64 cv_score=-0.04621406733958897\n",
      "subsample=0.9 colsample_bytree=0.66 cv_score=-0.04578278364243649\n",
      "subsample=0.9 colsample_bytree=0.68 cv_score=-0.04578278364243649\n",
      "subsample=0.9 colsample_bytree=0.7 cv_score=-0.04680245879418173\n",
      "subsample=0.9 colsample_bytree=0.72 cv_score=-0.04680245879418173\n",
      "subsample=0.9 colsample_bytree=0.74 cv_score=-0.04757559122749739\n",
      "subsample=0.9 colsample_bytree=0.76 cv_score=-0.047716300878183834\n",
      "subsample=0.9 colsample_bytree=0.78 cv_score=-0.047514253526024564\n",
      "subsample=0.92 colsample_bytree=0.62 cv_score=-0.049855141055223505\n",
      "subsample=0.92 colsample_bytree=0.64 cv_score=-0.049266455956055194\n",
      "subsample=0.92 colsample_bytree=0.66 cv_score=-0.04977807538609762\n",
      "subsample=0.92 colsample_bytree=0.68 cv_score=-0.04977807538609762\n",
      "subsample=0.92 colsample_bytree=0.7 cv_score=-0.04842618497820309\n",
      "subsample=0.92 colsample_bytree=0.72 cv_score=-0.04842618497820309\n",
      "subsample=0.92 colsample_bytree=0.74 cv_score=-0.048025654547199495\n",
      "subsample=0.92 colsample_bytree=0.76 cv_score=-0.04826626705749513\n",
      "subsample=0.92 colsample_bytree=0.78 cv_score=-0.04881780411392071\n",
      "subsample=0.94 colsample_bytree=0.62 cv_score=-0.04906624909907221\n",
      "subsample=0.94 colsample_bytree=0.64 cv_score=-0.04844994071121788\n",
      "subsample=0.94 colsample_bytree=0.66 cv_score=-0.049311224435382335\n",
      "subsample=0.94 colsample_bytree=0.68 cv_score=-0.049311224435382335\n",
      "subsample=0.94 colsample_bytree=0.7 cv_score=-0.04851034177348841\n",
      "subsample=0.94 colsample_bytree=0.72 cv_score=-0.04851034177348841\n",
      "subsample=0.94 colsample_bytree=0.74 cv_score=-0.05038138561319099\n",
      "subsample=0.94 colsample_bytree=0.76 cv_score=-0.05048353524035256\n",
      "subsample=0.94 colsample_bytree=0.78 cv_score=-0.05081270348786197\n",
      "subsample=0.96 colsample_bytree=0.62 cv_score=-0.04910756219772179\n",
      "subsample=0.96 colsample_bytree=0.64 cv_score=-0.0487362747464792\n",
      "subsample=0.96 colsample_bytree=0.66 cv_score=-0.048849818590852044\n",
      "subsample=0.96 colsample_bytree=0.68 cv_score=-0.048849818590852044\n",
      "subsample=0.96 colsample_bytree=0.7 cv_score=-0.048787793953467676\n",
      "subsample=0.96 colsample_bytree=0.72 cv_score=-0.048787793953467676\n",
      "subsample=0.96 colsample_bytree=0.74 cv_score=-0.0500385731238446\n",
      "subsample=0.96 colsample_bytree=0.76 cv_score=-0.05017597770181401\n",
      "subsample=0.96 colsample_bytree=0.78 cv_score=-0.05107182256551947\n",
      "subsample=0.98 colsample_bytree=0.62 cv_score=-0.04896572570164136\n",
      "subsample=0.98 colsample_bytree=0.64 cv_score=-0.048980411549897\n",
      "subsample=0.98 colsample_bytree=0.66 cv_score=-0.04898429439388236\n",
      "subsample=0.98 colsample_bytree=0.68 cv_score=-0.04898429439388236\n",
      "subsample=0.98 colsample_bytree=0.7 cv_score=-0.048507115007114895\n",
      "subsample=0.98 colsample_bytree=0.72 cv_score=-0.048507115007114895\n",
      "subsample=0.98 colsample_bytree=0.74 cv_score=-0.04957236313584387\n",
      "subsample=0.98 colsample_bytree=0.76 cv_score=-0.04957236313584387\n",
      "subsample=0.98 colsample_bytree=0.78 cv_score=-0.05019102268671416\n",
      "\n",
      "Best combination:\n",
      "subsample=0.9 colsample_bytree=0.66 cv_score=-0.04578278364243649\n"
     ]
    }
   ],
   "source": [
    "subsample_grid = [0.82, 0.84, 0.86, 0.88, 0.9, 0.92, 0.94, 0.96, 0.98]\n",
    "colsample_bytree_grid = [0.62, 0.64, 0.66, 0.68, 0.7, 0.72, 0.74, 0.76, 0.78]\n",
    "\n",
    "best_score = None\n",
    "best_combination = None\n",
    "for subsample in subsample_grid:\n",
    "    xgb_params['subsample'] = subsample\n",
    "    for colsample_bytree in colsample_bytree_grid:\n",
    "        xgb_params['colsample_bytree'] = colsample_bytree\n",
    "        cv_score = evaluate(X, y, xgb_params, debug=False)['cv']\n",
    "        \n",
    "        if best_score is None or best_score < cv_score:\n",
    "            best_score = cv_score\n",
    "            best_combination = (subsample, colsample_bytree)\n",
    "\n",
    "        print(f'subsample={subsample}', f'colsample_bytree={colsample_bytree}', f'cv_score={cv_score}')\n",
    "\n",
    "print()\n",
    "print('Best combination:')\n",
    "print(f'subsample={best_combination[0]}', f'colsample_bytree={best_combination[1]}', f'cv_score={best_score}')"
   ]
  },
  {
   "cell_type": "markdown",
   "id": "f90b679a-7e3a-4450-a9f7-b23aa1b37271",
   "metadata": {},
   "source": [
    "We set the values to `subsample=0.9` and `colsample_bytree=0.66`"
   ]
  },
  {
   "cell_type": "code",
   "execution_count": 75,
   "id": "33e37608-f84c-4dff-830d-5a6eacf67300",
   "metadata": {},
   "outputs": [],
   "source": [
    "xgb_params['subsample'] = 0.9\n",
    "xgb_params['colsample_bytree'] = 0.66"
   ]
  },
  {
   "cell_type": "markdown",
   "id": "81046889-3666-4ea2-8636-8b0ec87ee19f",
   "metadata": {
    "jp-MarkdownHeadingCollapsed": true,
    "tags": []
   },
   "source": [
    "## Step 6: Tune regularization parameters `reg_alpha` and `reg_lambda`"
   ]
  },
  {
   "cell_type": "code",
   "execution_count": 76,
   "id": "8a5b1e1c-c125-457a-808e-aea1cb93e563",
   "metadata": {},
   "outputs": [
    {
     "name": "stdout",
     "output_type": "stream",
     "text": [
      "reg_alpha=1e-05 reg_lambda=1 cv_score=-0.04578278364243649\n",
      "reg_alpha=1e-05 reg_lambda=2 cv_score=-0.047945825763791666\n",
      "reg_alpha=1e-05 reg_lambda=4 cv_score=-0.046920397674903504\n",
      "reg_alpha=1e-05 reg_lambda=8 cv_score=-0.04841047165461595\n",
      "reg_alpha=1e-05 reg_lambda=16 cv_score=-0.047778442263431115\n",
      "reg_alpha=0.0001 reg_lambda=1 cv_score=-0.04578278354502468\n",
      "reg_alpha=0.0001 reg_lambda=2 cv_score=-0.047945825763791666\n",
      "reg_alpha=0.0001 reg_lambda=4 cv_score=-0.046920397674903504\n",
      "reg_alpha=0.0001 reg_lambda=8 cv_score=-0.04841047165461595\n",
      "reg_alpha=0.0001 reg_lambda=16 cv_score=-0.047778442263431115\n",
      "reg_alpha=0.001 reg_lambda=1 cv_score=-0.04578278354502468\n",
      "reg_alpha=0.001 reg_lambda=2 cv_score=-0.047945825763791666\n",
      "reg_alpha=0.001 reg_lambda=4 cv_score=-0.046920397674903504\n",
      "reg_alpha=0.001 reg_lambda=8 cv_score=-0.04841047165461595\n",
      "reg_alpha=0.001 reg_lambda=16 cv_score=-0.047778442263431115\n",
      "reg_alpha=0.01 reg_lambda=1 cv_score=-0.04578278354502468\n",
      "reg_alpha=0.01 reg_lambda=2 cv_score=-0.047945825763791666\n",
      "reg_alpha=0.01 reg_lambda=4 cv_score=-0.046920397674903504\n",
      "reg_alpha=0.01 reg_lambda=8 cv_score=-0.04841047165461595\n",
      "reg_alpha=0.01 reg_lambda=16 cv_score=-0.047778442263431115\n",
      "reg_alpha=0.1 reg_lambda=1 cv_score=-0.04578278354502468\n",
      "reg_alpha=0.1 reg_lambda=2 cv_score=-0.047945825763791666\n",
      "reg_alpha=0.1 reg_lambda=4 cv_score=-0.046920397674903504\n",
      "reg_alpha=0.1 reg_lambda=8 cv_score=-0.04841047165461595\n",
      "reg_alpha=0.1 reg_lambda=16 cv_score=-0.047778442263431115\n",
      "reg_alpha=1 reg_lambda=1 cv_score=-0.04578278354502468\n",
      "reg_alpha=1 reg_lambda=2 cv_score=-0.047945825763791666\n",
      "reg_alpha=1 reg_lambda=4 cv_score=-0.046920397674903504\n",
      "reg_alpha=1 reg_lambda=8 cv_score=-0.04841047165461595\n",
      "reg_alpha=1 reg_lambda=16 cv_score=-0.047778442263431115\n",
      "reg_alpha=10 reg_lambda=1 cv_score=-0.04578278354502468\n",
      "reg_alpha=10 reg_lambda=2 cv_score=-0.047945825763791666\n",
      "reg_alpha=10 reg_lambda=4 cv_score=-0.046920397674903504\n",
      "reg_alpha=10 reg_lambda=8 cv_score=-0.04841047165461595\n",
      "reg_alpha=10 reg_lambda=16 cv_score=-0.047778442263431115\n",
      "reg_alpha=100 reg_lambda=1 cv_score=-0.04578278354502468\n",
      "reg_alpha=100 reg_lambda=2 cv_score=-0.047945825763791666\n",
      "reg_alpha=100 reg_lambda=4 cv_score=-0.046920397674903504\n",
      "reg_alpha=100 reg_lambda=8 cv_score=-0.04841047165461595\n",
      "reg_alpha=100 reg_lambda=16 cv_score=-0.047778442263431115\n",
      "\n",
      "Best combination:\n",
      "reg_alpha=0.0001 reg_lambda=1 cv_score=-0.04578278354502468\n"
     ]
    }
   ],
   "source": [
    "reg_alpha_grid = [1e-5, 1e-4, 1e-3, 1e-2, 1e-1, 1, 10, 100]\n",
    "reg_lambda_grid = [1, 2, 4, 8, 16]\n",
    "\n",
    "best_score = None\n",
    "best_combination = None\n",
    "for reg_alpha in reg_alpha_grid:\n",
    "    xgb_params['reg_alpha'] = reg_alpha\n",
    "    for reg_lambda in reg_lambda_grid:\n",
    "        xgb_params['reg_lambda'] = reg_lambda\n",
    "        cv_score = evaluate(X, y, xgb_params, debug=False)['cv']\n",
    "        \n",
    "        if best_score is None or best_score < cv_score:\n",
    "            best_score = cv_score\n",
    "            best_combination = (reg_alpha, reg_lambda)\n",
    "\n",
    "        print(f'reg_alpha={reg_alpha}', f'reg_lambda={reg_lambda}', f'cv_score={cv_score}')\n",
    "\n",
    "print()\n",
    "print('Best combination:')\n",
    "print(f'reg_alpha={best_combination[0]}', f'reg_lambda={best_combination[1]}', f'cv_score={best_score}')"
   ]
  },
  {
   "cell_type": "markdown",
   "id": "7537d64d-7477-445f-b245-8987315ca314",
   "metadata": {},
   "source": [
    "Best combination is `reg_alpha=1e-4` and `reg_lambda=1`. We repeat the process with a finer grid."
   ]
  },
  {
   "cell_type": "code",
   "execution_count": 78,
   "id": "7ccab665-ce3d-42a0-a4c2-2b345bde833e",
   "metadata": {},
   "outputs": [
    {
     "name": "stdout",
     "output_type": "stream",
     "text": [
      "reg_alpha=1e-05 reg_lambda=1 cv_score=-0.04578278364243649\n",
      "reg_alpha=1e-05 reg_lambda=1.1 cv_score=-0.04578273104510148\n",
      "reg_alpha=1e-05 reg_lambda=1.2 cv_score=-0.04548284746598081\n",
      "reg_alpha=1e-05 reg_lambda=1.3 cv_score=-0.045643120417889954\n",
      "reg_alpha=1e-05 reg_lambda=1.4 cv_score=-0.046375086918695484\n",
      "reg_alpha=2e-05 reg_lambda=1 cv_score=-0.04578278364243649\n",
      "reg_alpha=2e-05 reg_lambda=1.1 cv_score=-0.04578273104510148\n",
      "reg_alpha=2e-05 reg_lambda=1.2 cv_score=-0.04548284746598081\n",
      "reg_alpha=2e-05 reg_lambda=1.3 cv_score=-0.045643120417889954\n",
      "reg_alpha=2e-05 reg_lambda=1.4 cv_score=-0.046375086918695484\n",
      "reg_alpha=5e-05 reg_lambda=1 cv_score=-0.04578278354502468\n",
      "reg_alpha=5e-05 reg_lambda=1.1 cv_score=-0.04578273104510148\n",
      "reg_alpha=5e-05 reg_lambda=1.2 cv_score=-0.04548284746598081\n",
      "reg_alpha=5e-05 reg_lambda=1.3 cv_score=-0.045643120417889954\n",
      "reg_alpha=5e-05 reg_lambda=1.4 cv_score=-0.046375086918695484\n",
      "reg_alpha=0.0001 reg_lambda=1 cv_score=-0.04578278354502468\n",
      "reg_alpha=0.0001 reg_lambda=1.1 cv_score=-0.04578273104510148\n",
      "reg_alpha=0.0001 reg_lambda=1.2 cv_score=-0.04548284746598081\n",
      "reg_alpha=0.0001 reg_lambda=1.3 cv_score=-0.045643120417889954\n",
      "reg_alpha=0.0001 reg_lambda=1.4 cv_score=-0.046375086918695484\n",
      "reg_alpha=0.0002 reg_lambda=1 cv_score=-0.04578278354502468\n",
      "reg_alpha=0.0002 reg_lambda=1.1 cv_score=-0.04578273104510148\n",
      "reg_alpha=0.0002 reg_lambda=1.2 cv_score=-0.04548284746598081\n",
      "reg_alpha=0.0002 reg_lambda=1.3 cv_score=-0.045643120417889954\n",
      "reg_alpha=0.0002 reg_lambda=1.4 cv_score=-0.046375086918695484\n",
      "reg_alpha=0.0005 reg_lambda=1 cv_score=-0.04578278354502468\n",
      "reg_alpha=0.0005 reg_lambda=1.1 cv_score=-0.04578273104510148\n",
      "reg_alpha=0.0005 reg_lambda=1.2 cv_score=-0.04548284746598081\n",
      "reg_alpha=0.0005 reg_lambda=1.3 cv_score=-0.045643120417889954\n",
      "reg_alpha=0.0005 reg_lambda=1.4 cv_score=-0.046375086918695484\n",
      "\n",
      "Best combination:\n",
      "reg_alpha=1e-05 reg_lambda=1.2 cv_score=-0.04548284746598081\n"
     ]
    }
   ],
   "source": [
    "reg_alpha_grid = [1e-5, 2e-5, 5e-5, 1e-4, 2e-4, 5e-4]\n",
    "reg_lambda_grid = [1, 1.1, 1.2, 1.3, 1.4]\n",
    "\n",
    "best_score = None\n",
    "best_combination = None\n",
    "for reg_alpha in reg_alpha_grid:\n",
    "    xgb_params['reg_alpha'] = reg_alpha\n",
    "    for reg_lambda in reg_lambda_grid:\n",
    "        xgb_params['reg_lambda'] = reg_lambda\n",
    "        cv_score = evaluate(X, y, xgb_params, debug=False)['cv']\n",
    "        \n",
    "        if best_score is None or best_score < cv_score:\n",
    "            best_score = cv_score\n",
    "            best_combination = (reg_alpha, reg_lambda)\n",
    "\n",
    "        print(f'reg_alpha={reg_alpha}', f'reg_lambda={reg_lambda}', f'cv_score={cv_score}')\n",
    "\n",
    "print()\n",
    "print('Best combination:')\n",
    "print(f'reg_alpha={best_combination[0]}', f'reg_lambda={best_combination[1]}', f'cv_score={best_score}')"
   ]
  },
  {
   "cell_type": "markdown",
   "id": "c1d09121-f4ba-4ac9-a127-772cc1b8284b",
   "metadata": {},
   "source": [
    "Now the optimal combination is `reg_alpha=1e-5` and `reg_lambda=1.2`. We repeat once again since we never tried values for `reg_alpha` under `1e-5`."
   ]
  },
  {
   "cell_type": "code",
   "execution_count": 81,
   "id": "30e76e71-3453-4aea-a67d-bf74a941f472",
   "metadata": {},
   "outputs": [
    {
     "name": "stdout",
     "output_type": "stream",
     "text": [
      "reg_alpha=0 reg_lambda=1.14 cv_score=-0.04575066737345572\n",
      "reg_alpha=0 reg_lambda=1.16 cv_score=-0.045739285173386254\n",
      "reg_alpha=0 reg_lambda=1.18 cv_score=-0.04549778908046519\n",
      "reg_alpha=0 reg_lambda=1.2 cv_score=-0.04548284746598081\n",
      "reg_alpha=0 reg_lambda=1.22 cv_score=-0.04515917307731445\n",
      "reg_alpha=0 reg_lambda=1.24 cv_score=-0.04514891002530697\n",
      "reg_alpha=0 reg_lambda=1.26 cv_score=-0.04567284011247232\n",
      "reg_alpha=1e-07 reg_lambda=1.14 cv_score=-0.04575066737345572\n",
      "reg_alpha=1e-07 reg_lambda=1.16 cv_score=-0.045739285173386254\n",
      "reg_alpha=1e-07 reg_lambda=1.18 cv_score=-0.04549778908046519\n",
      "reg_alpha=1e-07 reg_lambda=1.2 cv_score=-0.04548284746598081\n",
      "reg_alpha=1e-07 reg_lambda=1.22 cv_score=-0.04515917307731445\n",
      "reg_alpha=1e-07 reg_lambda=1.24 cv_score=-0.04514891002530697\n",
      "reg_alpha=1e-07 reg_lambda=1.26 cv_score=-0.04567284011247232\n",
      "reg_alpha=2e-07 reg_lambda=1.14 cv_score=-0.04575066737345572\n",
      "reg_alpha=2e-07 reg_lambda=1.16 cv_score=-0.045739285173386254\n",
      "reg_alpha=2e-07 reg_lambda=1.18 cv_score=-0.04549778908046519\n",
      "reg_alpha=2e-07 reg_lambda=1.2 cv_score=-0.04548284746598081\n",
      "reg_alpha=2e-07 reg_lambda=1.22 cv_score=-0.04515917307731445\n",
      "reg_alpha=2e-07 reg_lambda=1.24 cv_score=-0.04514891002530697\n",
      "reg_alpha=2e-07 reg_lambda=1.26 cv_score=-0.04567284011247232\n",
      "reg_alpha=5e-07 reg_lambda=1.14 cv_score=-0.04575066737345572\n",
      "reg_alpha=5e-07 reg_lambda=1.16 cv_score=-0.045739285173386254\n",
      "reg_alpha=5e-07 reg_lambda=1.18 cv_score=-0.04549778908046519\n",
      "reg_alpha=5e-07 reg_lambda=1.2 cv_score=-0.04548284746598081\n",
      "reg_alpha=5e-07 reg_lambda=1.22 cv_score=-0.04515917307731445\n",
      "reg_alpha=5e-07 reg_lambda=1.24 cv_score=-0.04514891002530697\n",
      "reg_alpha=5e-07 reg_lambda=1.26 cv_score=-0.04567284011247232\n",
      "reg_alpha=1e-06 reg_lambda=1.14 cv_score=-0.04575066737345572\n",
      "reg_alpha=1e-06 reg_lambda=1.16 cv_score=-0.045739285173386254\n",
      "reg_alpha=1e-06 reg_lambda=1.18 cv_score=-0.04549778908046519\n",
      "reg_alpha=1e-06 reg_lambda=1.2 cv_score=-0.04548284746598081\n",
      "reg_alpha=1e-06 reg_lambda=1.22 cv_score=-0.04515917307731445\n",
      "reg_alpha=1e-06 reg_lambda=1.24 cv_score=-0.04514891002530697\n",
      "reg_alpha=1e-06 reg_lambda=1.26 cv_score=-0.04567284011247232\n",
      "reg_alpha=2e-06 reg_lambda=1.14 cv_score=-0.04575066737345572\n",
      "reg_alpha=2e-06 reg_lambda=1.16 cv_score=-0.045739285173386254\n",
      "reg_alpha=2e-06 reg_lambda=1.18 cv_score=-0.04549778908046519\n",
      "reg_alpha=2e-06 reg_lambda=1.2 cv_score=-0.04548284746598081\n",
      "reg_alpha=2e-06 reg_lambda=1.22 cv_score=-0.04515917307731445\n",
      "reg_alpha=2e-06 reg_lambda=1.24 cv_score=-0.04514891002530697\n",
      "reg_alpha=2e-06 reg_lambda=1.26 cv_score=-0.04567284011247232\n",
      "reg_alpha=5e-06 reg_lambda=1.14 cv_score=-0.04575066737345572\n",
      "reg_alpha=5e-06 reg_lambda=1.16 cv_score=-0.045739285173386254\n",
      "reg_alpha=5e-06 reg_lambda=1.18 cv_score=-0.04549778908046519\n",
      "reg_alpha=5e-06 reg_lambda=1.2 cv_score=-0.04548284746598081\n",
      "reg_alpha=5e-06 reg_lambda=1.22 cv_score=-0.04515917307731445\n",
      "reg_alpha=5e-06 reg_lambda=1.24 cv_score=-0.04514891002530697\n",
      "reg_alpha=5e-06 reg_lambda=1.26 cv_score=-0.04567284011247232\n",
      "reg_alpha=1e-05 reg_lambda=1.14 cv_score=-0.04575066737345572\n",
      "reg_alpha=1e-05 reg_lambda=1.16 cv_score=-0.045739285173386254\n",
      "reg_alpha=1e-05 reg_lambda=1.18 cv_score=-0.04549778908046519\n",
      "reg_alpha=1e-05 reg_lambda=1.2 cv_score=-0.04548284746598081\n",
      "reg_alpha=1e-05 reg_lambda=1.22 cv_score=-0.04515917307731445\n",
      "reg_alpha=1e-05 reg_lambda=1.24 cv_score=-0.04514891002530697\n",
      "reg_alpha=1e-05 reg_lambda=1.26 cv_score=-0.04567284011247232\n",
      "reg_alpha=2e-05 reg_lambda=1.14 cv_score=-0.04575066737345572\n",
      "reg_alpha=2e-05 reg_lambda=1.16 cv_score=-0.045739285173386254\n",
      "reg_alpha=2e-05 reg_lambda=1.18 cv_score=-0.04549778908046519\n",
      "reg_alpha=2e-05 reg_lambda=1.2 cv_score=-0.04548284746598081\n",
      "reg_alpha=2e-05 reg_lambda=1.22 cv_score=-0.04515917307731445\n",
      "reg_alpha=2e-05 reg_lambda=1.24 cv_score=-0.04514891002530697\n",
      "reg_alpha=2e-05 reg_lambda=1.26 cv_score=-0.04567284011247232\n",
      "\n",
      "Best combination:\n",
      "reg_alpha=0 reg_lambda=1.24 cv_score=-0.04514891002530697\n"
     ]
    }
   ],
   "source": [
    "reg_alpha_grid = [0, 1e-7, 2e-7, 5e-7, 1e-6, 2e-6, 5e-6, 1e-5, 2e-5]\n",
    "reg_lambda_grid = [1.14, 1.16, 1.18, 1.2, 1.22, 1.24, 1.26]\n",
    "\n",
    "best_score = None\n",
    "best_combination = None\n",
    "for reg_alpha in reg_alpha_grid:\n",
    "    xgb_params['reg_alpha'] = reg_alpha\n",
    "    for reg_lambda in reg_lambda_grid:\n",
    "        xgb_params['reg_lambda'] = reg_lambda\n",
    "        cv_score = evaluate(X, y, xgb_params, debug=False)['cv']\n",
    "        \n",
    "        if best_score is None or best_score < cv_score:\n",
    "            best_score = cv_score\n",
    "            best_combination = (reg_alpha, reg_lambda)\n",
    "\n",
    "        print(f'reg_alpha={reg_alpha}', f'reg_lambda={reg_lambda}', f'cv_score={cv_score}')\n",
    "\n",
    "print()\n",
    "print('Best combination:')\n",
    "print(f'reg_alpha={best_combination[0]}', f'reg_lambda={best_combination[1]}', f'cv_score={best_score}')"
   ]
  },
  {
   "cell_type": "markdown",
   "id": "60ea9feb-f063-4e94-bfb8-bead794ef92e",
   "metadata": {},
   "source": [
    "We set the optimal values for `reg_alpha=0` and `reg_lambda=1.24`."
   ]
  },
  {
   "cell_type": "code",
   "execution_count": 82,
   "id": "97a1b646-4fb1-4361-be83-858bcf2531ae",
   "metadata": {},
   "outputs": [],
   "source": [
    "xgb_params['reg_alpha'] = 0\n",
    "xgb_params['reg_lambda'] = 1.24"
   ]
  },
  {
   "cell_type": "markdown",
   "id": "724cb2a8-c0bd-4e2d-a5e9-5ec956bffa8f",
   "metadata": {
    "tags": []
   },
   "source": [
    "## Step 7: Recalibrate the number of estimators (again)"
   ]
  },
  {
   "cell_type": "code",
   "execution_count": 87,
   "id": "92cde180-890c-4f3a-9dc1-695437ed236c",
   "metadata": {},
   "outputs": [
    {
     "name": "stdout",
     "output_type": "stream",
     "text": [
      "Optimal number of trees, averaged over all cv folds and rounded: 9\n",
      "CV SCORE [R2 score (1 - (residual sum squares)/(total sum squares))] after 10x3 cross-validation: -0.04514891002530697\n",
      "TRAIN SCORE [R2 score (1 - (residual sum squares)/(total sum squares))]: 0.0027635814097973777\n",
      "TEST SCORE [R2 score (1 - (residual sum squares)/(total sum squares))]: -0.05640941874324645\n"
     ]
    },
    {
     "data": {
      "text/plain": [
       "{'train': 0.0027635814097973777,\n",
       " 'cv': -0.04514891002530697,\n",
       " 'test': -0.05640941874324645,\n",
       " 'diff-train-cv': 0.04791249143510435,\n",
       " 'diff-train-test': 0.05917300015304383,\n",
       " 'diff-test-cv': 0.011260508717939481}"
      ]
     },
     "execution_count": 87,
     "metadata": {},
     "output_type": "execute_result"
    }
   ],
   "source": [
    "evaluate(X, y, xgb_params, debug=True)"
   ]
  },
  {
   "cell_type": "markdown",
   "id": "5a2c064a-5792-428a-85d4-6f1b2f7e0cfb",
   "metadata": {},
   "source": [
    "Still the optimal number of estimators has not changed. However, we see a much better relation between the train, cv and test scores, indicating that the overfitting we had might be mitigated."
   ]
  },
  {
   "cell_type": "markdown",
   "id": "4a98ca6d-26e1-461b-be59-f5761f90abc2",
   "metadata": {},
   "source": [
    "## Step 8: Reduce the learning rate\n",
    "\n",
    "We now reduce the learning rate and set once again a big number of estimators."
   ]
  },
  {
   "cell_type": "code",
   "execution_count": 88,
   "id": "2c38b441-077d-4a26-9a47-67777de83a31",
   "metadata": {},
   "outputs": [],
   "source": [
    "xgb_params['learning_rate'] = 0.01\n",
    "xgb_params['n_estimators'] = 1000"
   ]
  },
  {
   "cell_type": "code",
   "execution_count": 89,
   "id": "01af25d3-c538-4c31-9b91-6636a08374b8",
   "metadata": {},
   "outputs": [
    {
     "name": "stdout",
     "output_type": "stream",
     "text": [
      "Optimal number of trees, averaged over all cv folds and rounded: 322\n",
      "CV SCORE [R2 score (1 - (residual sum squares)/(total sum squares))] after 10x3 cross-validation: -0.09520274743278513\n",
      "TRAIN SCORE [R2 score (1 - (residual sum squares)/(total sum squares))]: 0.05598475635551403\n",
      "TEST SCORE [R2 score (1 - (residual sum squares)/(total sum squares))]: -0.03382896941352853\n"
     ]
    },
    {
     "data": {
      "text/plain": [
       "{'train': 0.05598475635551403,\n",
       " 'cv': -0.09520274743278513,\n",
       " 'test': -0.03382896941352853,\n",
       " 'diff-train-cv': 0.15118750378829915,\n",
       " 'diff-train-test': 0.08981372576904256,\n",
       " 'diff-test-cv': 0.0613737780192566}"
      ]
     },
     "execution_count": 89,
     "metadata": {},
     "output_type": "execute_result"
    }
   ],
   "source": [
    "evaluate(X, y, xgb_params, debug=True)"
   ]
  },
  {
   "cell_type": "markdown",
   "id": "2d4e507c-69f8-456f-bc6f-a26481926c6f",
   "metadata": {},
   "source": [
    "Lowering the learning rate yields an optimal number of estimators of 322. We update this parameter."
   ]
  },
  {
   "cell_type": "code",
   "execution_count": 90,
   "id": "4e2ff07e-3bf9-46ff-93a7-e0c4256b7a86",
   "metadata": {},
   "outputs": [],
   "source": [
    "xgb_params['n_estimators'] = 322"
   ]
  },
  {
   "cell_type": "code",
   "execution_count": 93,
   "id": "1695b7fb-3ad8-47e7-9a78-e81d263d3961",
   "metadata": {},
   "outputs": [
    {
     "data": {
      "text/plain": [
       "{'n_estimators': 322,\n",
       " 'max_depth': 4,\n",
       " 'learning_rate': 0.01,\n",
       " 'gamma': 0,\n",
       " 'min_child_weight': 9,\n",
       " 'subsample': 0.9,\n",
       " 'colsample_bytree': 0.66,\n",
       " 'reg_alpha': 0,\n",
       " 'reg_lambda': 1.24,\n",
       " 'early_stopping_rounds': 50}"
      ]
     },
     "execution_count": 93,
     "metadata": {},
     "output_type": "execute_result"
    }
   ],
   "source": [
    "xgb_params"
   ]
  },
  {
   "cell_type": "code",
   "execution_count": null,
   "id": "fc152b95-f0ed-4463-8e4b-592b030c9486",
   "metadata": {},
   "outputs": [],
   "source": []
  }
 ],
 "metadata": {
  "kernelspec": {
   "display_name": "Python 3 (ipykernel)",
   "language": "python",
   "name": "python3"
  },
  "language_info": {
   "codemirror_mode": {
    "name": "ipython",
    "version": 3
   },
   "file_extension": ".py",
   "mimetype": "text/x-python",
   "name": "python",
   "nbconvert_exporter": "python",
   "pygments_lexer": "ipython3",
   "version": "3.8.13"
  }
 },
 "nbformat": 4,
 "nbformat_minor": 5
}
