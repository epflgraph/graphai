{
 "cells": [
  {
   "cell_type": "code",
   "execution_count": 1,
   "id": "e4a28a59-5bb1-4d23-b179-2303b73b7010",
   "metadata": {},
   "outputs": [],
   "source": [
    "%load_ext autoreload\n",
    "%autoreload 2"
   ]
  },
  {
   "cell_type": "code",
   "execution_count": 2,
   "id": "31c04acd-328a-4715-b931-d32bd2cd2662",
   "metadata": {},
   "outputs": [],
   "source": [
    "from sklearn.model_selection import train_test_split, cross_val_score, RepeatedKFold\n",
    "\n",
    "from xgboost import XGBRegressor\n",
    "\n",
    "from funding.preprocessing import build_time_series, split_last_year\n",
    "from funding.training import extract_features\n",
    "from funding.validation import evaluate\n",
    "from funding.io import load_features\n",
    "\n",
    "from interfaces.db import DB\n",
    "from utils.text.io import log"
   ]
  },
  {
   "cell_type": "markdown",
   "id": "a65287d0-e4b2-42a3-880f-cd60413921d2",
   "metadata": {},
   "source": [
    "## Build data from DB"
   ]
  },
  {
   "cell_type": "code",
   "execution_count": 3,
   "id": "1cbca2f0-25cc-4ad1-afdb-7e25cf185891",
   "metadata": {},
   "outputs": [],
   "source": [
    "min_year = 2018\n",
    "max_year = 2021\n",
    "\n",
    "debug = True\n",
    "\n",
    "name = f'simple_{min_year}_{max_year}'"
   ]
  },
  {
   "cell_type": "code",
   "execution_count": 4,
   "id": "b9cac3e9-d1cf-45de-ab6d-c4d1bc570af0",
   "metadata": {},
   "outputs": [
    {
     "name": "stdout",
     "output_type": "stream",
     "text": [
      "Creating time series for time window 2018-2021...\n",
      "Loading model features from disk...\n",
      "Extracting model features...\n"
     ]
    },
    {
     "name": "stderr",
     "output_type": "stream",
     "text": [
      "Feature Extraction: 100%|█████████████████████████████████████████████████████████████████████████████████████████████████████████████████████████████████████████████████████████████████████████████████████████████████████████████████████████████████████████████████████████████████████| 25/25 [00:02<00:00,  9.41it/s]"
     ]
    },
    {
     "name": "stdout",
     "output_type": "stream",
     "text": [
      "Shape of df after feature extraction:  (685, 122)\n"
     ]
    },
    {
     "name": "stderr",
     "output_type": "stream",
     "text": [
      "\n"
     ]
    }
   ],
   "source": [
    "db = DB()\n",
    "concept_ids = db.get_crunchbase_concept_ids()\n",
    "\n",
    "# Create time series with data from database\n",
    "log(f'Creating time series for time window {min_year}-{max_year}...', debug)\n",
    "df = build_time_series(min_year, max_year, concept_ids=concept_ids, debug=False)\n",
    "\n",
    "# Split df rows into < max_year (training data) and = max_year (response variable)\n",
    "df, y = split_last_year(df, max_year)\n",
    "\n",
    "# Load features\n",
    "log(f'Loading model features from disk...', debug)\n",
    "features = load_features(name)\n",
    "\n",
    "# Extract model features\n",
    "log(f'Extracting model features...', debug)\n",
    "X = extract_features(df, features)"
   ]
  },
  {
   "cell_type": "markdown",
   "id": "39dd2732-6273-4443-af70-ee947a3403b9",
   "metadata": {},
   "source": [
    "## Step 1: Set high`learning_rate` to determine `n_estimators`\n",
    "\n",
    "Start with general, sensible parameters, with high learning rate and n_estimators.\n",
    "\n",
    "After `early_stopping_rounds` iterations with no improvement in validation, training will stop.\n",
    "\n",
    "That will give an idea of a good value for `n_estimators`."
   ]
  },
  {
   "cell_type": "code",
   "execution_count": 44,
   "id": "f5f470ee-5ff2-4efb-be4d-b1683640fd5a",
   "metadata": {},
   "outputs": [],
   "source": [
    "xgb_params = {\n",
    "    'n_estimators': 1000,\n",
    "    'max_depth': 6,\n",
    "    'learning_rate': 0.1,\n",
    "    'gamma': 0,\n",
    "    'min_child_weight': 1,\n",
    "    'subsample': 0.8,\n",
    "    'colsample_bytree': 0.8,\n",
    "    'reg_alpha': 0,\n",
    "    'reg_lambda': 1,\n",
    "    'early_stopping_rounds': 50\n",
    "}"
   ]
  },
  {
   "cell_type": "code",
   "execution_count": 49,
   "id": "038800d5-967e-4c17-a178-2438f5f579e7",
   "metadata": {},
   "outputs": [
    {
     "name": "stdout",
     "output_type": "stream",
     "text": [
      "Optimal number of trees, averaged over all cv folds and rounded: 9\n",
      "CV SCORE [R2 score (1 - (residual sum squares)/(total sum squares))] after 10x3 cross-validation: -0.16105932081775104\n",
      "TRAIN SCORE [R2 score (1 - (residual sum squares)/(total sum squares))]: 0.421005631844809\n",
      "TEST SCORE [R2 score (1 - (residual sum squares)/(total sum squares))]: -0.09325017468324237\n"
     ]
    },
    {
     "data": {
      "text/plain": [
       "{'train': 0.421005631844809,\n",
       " 'cv': -0.16105932081775104,\n",
       " 'test': -0.09325017468324237,\n",
       " 'diff-train-cv': 0.5820649526625601,\n",
       " 'diff-train-test': 0.5142558065280514,\n",
       " 'diff-test-cv': 0.06780914613450867}"
      ]
     },
     "execution_count": 49,
     "metadata": {},
     "output_type": "execute_result"
    }
   ],
   "source": [
    "evaluate(X, y, xgb_params, debug=True)"
   ]
  },
  {
   "cell_type": "markdown",
   "id": "b61a4e55-97e7-46c4-bb0e-d01f31254171",
   "metadata": {},
   "source": [
    "We observe the optimal number of estimators for this set of parameters is **9**."
   ]
  },
  {
   "cell_type": "code",
   "execution_count": 50,
   "id": "2c4f0183-da5e-41f7-8230-d478ef3e909a",
   "metadata": {},
   "outputs": [],
   "source": [
    "xgb_params['n_estimators'] = 9"
   ]
  },
  {
   "cell_type": "markdown",
   "id": "b678c311-a9af-4ef2-b213-c99f17cbfb68",
   "metadata": {},
   "source": [
    "## Step 2: Tune `max_depth` and `min_child_weight`\n",
    "\n",
    "We tune these two parameters as they typically have the highest impact."
   ]
  },
  {
   "cell_type": "code",
   "execution_count": 57,
   "id": "c9f12e16-bd8a-421f-8e41-91401eda1118",
   "metadata": {},
   "outputs": [
    {
     "name": "stdout",
     "output_type": "stream",
     "text": [
      "max_depth=1 min_child_weight=1 cv_score=-0.055073602484757206\n",
      "max_depth=1 min_child_weight=3 cv_score=-0.05521409866921561\n",
      "max_depth=1 min_child_weight=5 cv_score=-0.051496680131384955\n",
      "max_depth=1 min_child_weight=7 cv_score=-0.04893860816275363\n",
      "max_depth=3 min_child_weight=1 cv_score=-0.107592893366294\n",
      "max_depth=3 min_child_weight=3 cv_score=-0.10286554882292513\n",
      "max_depth=3 min_child_weight=5 cv_score=-0.098778984834914\n",
      "max_depth=3 min_child_weight=7 cv_score=-0.08843891880564311\n",
      "max_depth=5 min_child_weight=1 cv_score=-0.1452005904239301\n",
      "max_depth=5 min_child_weight=3 cv_score=-0.12546054761202122\n",
      "max_depth=5 min_child_weight=5 cv_score=-0.10804882408993777\n",
      "max_depth=5 min_child_weight=7 cv_score=-0.10747981603818926\n",
      "max_depth=7 min_child_weight=1 cv_score=-0.19008435074954233\n",
      "max_depth=7 min_child_weight=3 cv_score=-0.13985268469561404\n",
      "max_depth=7 min_child_weight=5 cv_score=-0.13518870983091671\n",
      "max_depth=7 min_child_weight=7 cv_score=-0.12125489572216737\n",
      "max_depth=9 min_child_weight=1 cv_score=-0.18457897996190162\n",
      "max_depth=9 min_child_weight=3 cv_score=-0.14434938812779646\n",
      "max_depth=9 min_child_weight=5 cv_score=-0.1302254891330297\n",
      "max_depth=9 min_child_weight=7 cv_score=-0.12427359634425976\n"
     ]
    }
   ],
   "source": [
    "max_depth_grid = [1, 3, 5, 7, 9]\n",
    "min_child_weight_grid = [1, 3, 5, 7]\n",
    "\n",
    "for max_depth in max_depth_grid:\n",
    "    xgb_params['max_depth'] = max_depth\n",
    "    for min_child_weight in min_child_weight_grid:\n",
    "        xgb_params['min_child_weight'] = min_child_weight\n",
    "        cv_score = evaluate(X, y, xgb_params, debug=False)['cv']\n",
    "        print(f'max_depth={max_depth}', f'min_child_weight={min_child_weight}', f'cv_score={cv_score}')"
   ]
  },
  {
   "cell_type": "markdown",
   "id": "0ecf323f-9ced-4d2a-9558-8cd0c657e3ab",
   "metadata": {},
   "source": [
    "The combination yielding the best results is `max_depth=3`, `min_child_weight=5`."
   ]
  },
  {
   "cell_type": "code",
   "execution_count": null,
   "id": "d2dc597e-b0e5-4960-9096-c941eeca8a08",
   "metadata": {},
   "outputs": [],
   "source": []
  }
 ],
 "metadata": {
  "kernelspec": {
   "display_name": "Python 3 (ipykernel)",
   "language": "python",
   "name": "python3"
  },
  "language_info": {
   "codemirror_mode": {
    "name": "ipython",
    "version": 3
   },
   "file_extension": ".py",
   "mimetype": "text/x-python",
   "name": "python",
   "nbconvert_exporter": "python",
   "pygments_lexer": "ipython3",
   "version": "3.8.13"
  }
 },
 "nbformat": 4,
 "nbformat_minor": 5
}
