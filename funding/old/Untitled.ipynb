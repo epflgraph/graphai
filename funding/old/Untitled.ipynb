{
 "cells": [
  {
   "cell_type": "code",
   "execution_count": null,
   "id": "21f8e979-56cb-4f3c-a84c-a1221e47a703",
   "metadata": {},
   "outputs": [],
   "source": [
    "import math\n",
    "import numpy as np\n",
    "import pandas as pd\n",
    "\n",
    "# x\n",
    "def id(x):\n",
    "    return x\n",
    "\n",
    "# x^2\n",
    "def sq(x):\n",
    "    return x**2\n",
    "\n",
    "def err():\n",
    "    return np.random.normal()/10\n",
    "\n",
    "def load_data(length, seed=None):\n",
    "    if seed is not None:\n",
    "        np.seed(seed)\n",
    "\n",
    "    x = list(range(length))\n",
    "    \n",
    "    df = []\n",
    "    y = []\n",
    "    i = 0\n",
    "    for f in [id, trig]:\n",
    "        for x_0 in x:\n",
    "            value = f(x_0) * (1 + err())\n",
    "            df.append([i, x_0, value])\n",
    "        i += 1\n",
    "        y.append(f(length))\n",
    "\n",
    "    df = pd.DataFrame(df, columns=['id', 'time', 'value'])\n",
    "    y = pd.Series(y)\n",
    "    \n",
    "    return df, y\n",
    "\n",
    "\n",
    "df, y = load_data(10)\n",
    "\n",
    "print(df)\n",
    "print(y)\n",
    "\n"
   ]
  }
 ],
 "metadata": {
  "kernelspec": {
   "display_name": "Python 3 (ipykernel)",
   "language": "python",
   "name": "python3"
  },
  "language_info": {
   "codemirror_mode": {
    "name": "ipython",
    "version": 3
   },
   "file_extension": ".py",
   "mimetype": "text/x-python",
   "name": "python",
   "nbconvert_exporter": "python",
   "pygments_lexer": "ipython3",
   "version": "3.8.13"
  }
 },
 "nbformat": 4,
 "nbformat_minor": 5
}
