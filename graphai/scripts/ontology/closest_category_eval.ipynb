{
 "cells": [
  {
   "cell_type": "markdown",
   "source": [
    "# Ontology closest category evaluation"
   ],
   "metadata": {
    "collapsed": false
   },
   "id": "ea4d7d1014669936"
  },
  {
   "cell_type": "code",
   "execution_count": 45,
   "outputs": [],
   "source": [
    "from graphai.core.common.ontology_utils.data import OntologyData, db_results_to_pandas_df\n",
    "from db_cache_manager.db import DB\n",
    "from graphai.core.common.config import config\n",
    "import numpy as np\n",
    "import itertools\n",
    "import pandas as pd\n",
    "import matplotlib.pyplot as plt"
   ],
   "metadata": {
    "collapsed": false,
    "ExecuteTime": {
     "end_time": "2024-01-22T13:31:13.580742Z",
     "start_time": "2024-01-22T13:31:13.546546Z"
    }
   },
   "id": "e8783f46dd984790"
  },
  {
   "cell_type": "code",
   "execution_count": 46,
   "outputs": [],
   "source": [
    "db_manager = DB(config['database'])"
   ],
   "metadata": {
    "collapsed": false,
    "ExecuteTime": {
     "end_time": "2024-01-22T13:31:15.612686Z",
     "start_time": "2024-01-22T13:31:15.590439Z"
    }
   },
   "id": "14bbf40c3b1b1747"
  },
  {
   "cell_type": "code",
   "execution_count": 2,
   "outputs": [
    {
     "name": "stdout",
     "output_type": "stream",
     "text": [
      "1497301 1497301 1497301\n"
     ]
    }
   ],
   "source": [
    "ontology_data = OntologyData(test_mode=True, test_ratio=0.3, random_state=20)\n",
    "ontology_data.load_data()"
   ],
   "metadata": {
    "collapsed": false,
    "ExecuteTime": {
     "end_time": "2024-01-18T12:04:39.416402Z",
     "start_time": "2024-01-18T12:02:18.366398Z"
    }
   },
   "id": "9ed15b1e0c59d038"
  },
  {
   "cell_type": "markdown",
   "source": [
    "Let's see the size of the test and training sets:"
   ],
   "metadata": {
    "collapsed": false
   },
   "id": "9b5aec8c6e276008"
  },
  {
   "cell_type": "code",
   "execution_count": 3,
   "outputs": [
    {
     "name": "stdout",
     "output_type": "stream",
     "text": [
      "5921 13818\n"
     ]
    }
   ],
   "source": [
    "print(ontology_data.get_test_category_concept().shape[0], ontology_data.get_category_concept_table().shape[0])"
   ],
   "metadata": {
    "collapsed": false,
    "ExecuteTime": {
     "end_time": "2024-01-18T12:04:39.431999Z",
     "start_time": "2024-01-18T12:04:39.419445Z"
    }
   },
   "id": "91cfb16523b78455"
  },
  {
   "cell_type": "code",
   "execution_count": 4,
   "outputs": [],
   "source": [
    "test_category_concept = ontology_data.get_test_category_concept()\n",
    "test_concepts = test_category_concept['to_id'].values.tolist()\n",
    "test_labels = test_category_concept['from_id'].values.tolist()"
   ],
   "metadata": {
    "collapsed": false,
    "ExecuteTime": {
     "end_time": "2024-01-18T12:04:39.450422Z",
     "start_time": "2024-01-18T12:04:39.434542Z"
    }
   },
   "id": "3062eca816568f8e"
  },
  {
   "cell_type": "code",
   "execution_count": 5,
   "outputs": [],
   "source": [
    "def predict_all(model: OntologyData, x: list, avg='linear', coeffs=(1, 4), top_down=True, n=5):\n",
    "    y = list()\n",
    "    for p in x:\n",
    "        best_cats, best_scores, selected_d3_category, best_clusters = \\\n",
    "            model.get_concept_closest_category(p, avg=avg, coeffs=coeffs, top_n=n, use_depth_3=top_down,\n",
    "                                               return_clusters=None)\n",
    "        if best_cats is None:\n",
    "            best_cats = list()\n",
    "        y.append(best_cats)\n",
    "    return y\n",
    "\n",
    "def get_top_k_list_of_lists(res, k):\n",
    "    max_k = max([len(x) for x in res])\n",
    "    if k > max_k:\n",
    "        print('Maximum n is %d, cannot return evaluation metrics @ %d' % (max_k, k))\n",
    "        return None\n",
    "    return [set(x[:k]) for x in res]\n",
    "\n",
    "def eval_at_k(res, labels, k):\n",
    "    results_to_evaluate = get_top_k_list_of_lists(res, k)\n",
    "    n_correct = sum([1 if labels[i] in results_to_evaluate[i] else 0 for i in range(len(results_to_evaluate))])\n",
    "    n_total = len(labels)\n",
    "    acc = n_correct / n_total\n",
    "    return acc\n",
    "\n",
    "def get_errors_at_k(res, concepts, labels, k):\n",
    "    results_to_evaluate = get_top_k_list_of_lists(res, k)\n",
    "    error_indices = [i for i in range(len(results_to_evaluate)) if labels[i] not in results_to_evaluate[i]]\n",
    "    return [concepts[i] for i in error_indices]\n",
    "\n",
    "def get_max_accuracy(res):\n",
    "    return len([x for x in res if len(x) > 0]) / len(res)\n",
    "    "
   ],
   "metadata": {
    "collapsed": false,
    "ExecuteTime": {
     "end_time": "2024-01-18T12:04:39.495812Z",
     "start_time": "2024-01-18T12:04:39.450260Z"
    }
   },
   "id": "2cdc29b26d643132"
  },
  {
   "cell_type": "markdown",
   "source": [
    "## Evaluating different combinations"
   ],
   "metadata": {
    "collapsed": false
   },
   "id": "55997758d2049e79"
  },
  {
   "cell_type": "code",
   "execution_count": 6,
   "outputs": [],
   "source": [
    "parameter_list = list(\n",
    "    itertools.product(['log', 'linear'], [(1, 1), (10, 1), (1, 10), (1, 100), (0, 1)],\n",
    "                      [False, True])\n",
    ")"
   ],
   "metadata": {
    "collapsed": false,
    "ExecuteTime": {
     "end_time": "2024-01-18T12:04:39.512352Z",
     "start_time": "2024-01-18T12:04:39.460088Z"
    }
   },
   "id": "25ea9380646e9364"
  },
  {
   "cell_type": "code",
   "execution_count": 7,
   "outputs": [],
   "source": [
    "all_results = [\n",
    "    predict_all(ontology_data, test_concepts, avg=params[0], coeffs=params[1], top_down=params[2], n=10)\n",
    "    for params in parameter_list\n",
    "]"
   ],
   "metadata": {
    "collapsed": false,
    "ExecuteTime": {
     "end_time": "2024-01-18T12:07:19.639607Z",
     "start_time": "2024-01-18T12:04:39.470807Z"
    }
   },
   "id": "f46a51817c00cfad"
  },
  {
   "cell_type": "code",
   "execution_count": 8,
   "outputs": [],
   "source": [
    "all_eval_at_1 = [eval_at_k(results, test_labels, 1) for results in all_results]"
   ],
   "metadata": {
    "collapsed": false,
    "ExecuteTime": {
     "end_time": "2024-01-18T12:07:19.772593Z",
     "start_time": "2024-01-18T12:07:19.724152Z"
    }
   },
   "id": "682ad9c3b127e878"
  },
  {
   "cell_type": "code",
   "execution_count": 9,
   "outputs": [],
   "source": [
    "all_eval_at_5 = [eval_at_k(results, test_labels, 5) for results in all_results]"
   ],
   "metadata": {
    "collapsed": false,
    "ExecuteTime": {
     "end_time": "2024-01-18T12:07:20.283690Z",
     "start_time": "2024-01-18T12:07:19.802471Z"
    }
   },
   "id": "6232ca06d9a61e25"
  },
  {
   "cell_type": "code",
   "execution_count": 10,
   "outputs": [],
   "source": [
    "all_eval_at_10 = [eval_at_k(results, test_labels, 10) for results in all_results]"
   ],
   "metadata": {
    "collapsed": false,
    "ExecuteTime": {
     "end_time": "2024-01-18T12:07:20.938097Z",
     "start_time": "2024-01-18T12:07:20.345941Z"
    }
   },
   "id": "dda29029592953eb"
  },
  {
   "cell_type": "code",
   "execution_count": 11,
   "outputs": [],
   "source": [
    "all_max_acc = [get_max_accuracy(results) for results in all_results]"
   ],
   "metadata": {
    "collapsed": false,
    "ExecuteTime": {
     "end_time": "2024-01-18T12:07:21.010149Z",
     "start_time": "2024-01-18T12:07:20.993093Z"
    }
   },
   "id": "a7e1bb119770ea95"
  },
  {
   "cell_type": "markdown",
   "source": [
    "### Results"
   ],
   "metadata": {
    "collapsed": false
   },
   "id": "2b8a83ec692ccc9b"
  },
  {
   "cell_type": "markdown",
   "source": [
    "#### Accuracy @ 1"
   ],
   "metadata": {
    "collapsed": false
   },
   "id": "1cc94a5067fe8ebf"
  },
  {
   "cell_type": "code",
   "execution_count": 41,
   "outputs": [
    {
     "data": {
      "text/plain": "<Figure size 640x480 with 1 Axes>",
      "image/png": "[encoded data removed]"
     },
     "metadata": {},
     "output_type": "display_data"
    }
   ],
   "source": [
    "plt.bar([str(x) for x in parameter_list], height=all_eval_at_1)\n",
    "plt.xticks(rotation=90)\n",
    "plt.ylabel('Accuracy')\n",
    "plt.xlabel('Parameters')\n",
    "plt.ylim([0, 1])\n",
    "plt.yticks(np.arange(0, 1.1, 0.1))\n",
    "plt.show()"
   ],
   "metadata": {
    "collapsed": false,
    "ExecuteTime": {
     "end_time": "2024-01-22T12:45:18.330071Z",
     "start_time": "2024-01-22T12:45:13.909158Z"
    }
   },
   "id": "a2965877aaf8faeb"
  },
  {
   "cell_type": "code",
   "execution_count": 39,
   "outputs": [
    {
     "data": {
      "text/plain": "<Figure size 640x480 with 1 Axes>",
      "image/png": "[encoded data removed]"
     },
     "metadata": {},
     "output_type": "display_data"
    }
   ],
   "source": [
    "plt.bar([str(x) for x in parameter_list], height=all_eval_at_5)\n",
    "plt.xticks(rotation=90)\n",
    "plt.ylabel('Accuracy')\n",
    "plt.xlabel('Parameters')\n",
    "plt.ylim([0, 1])\n",
    "plt.yticks(np.arange(0, 1.1, 0.1))\n",
    "plt.show()"
   ],
   "metadata": {
    "collapsed": false,
    "ExecuteTime": {
     "end_time": "2024-01-22T12:44:52.231860Z",
     "start_time": "2024-01-22T12:44:50.744002Z"
    }
   },
   "id": "7669b7b7985d10a7"
  },
  {
   "cell_type": "code",
   "execution_count": 40,
   "outputs": [
    {
     "data": {
      "text/plain": "<Figure size 640x480 with 1 Axes>",
      "image/png": "[encoded data removed]"
     },
     "metadata": {},
     "output_type": "display_data"
    }
   ],
   "source": [
    "plt.bar([str(x) for x in parameter_list], height=all_eval_at_10)\n",
    "plt.xticks(rotation=90)\n",
    "plt.ylabel('Accuracy')\n",
    "plt.xlabel('Parameters')\n",
    "plt.ylim([0, 1])\n",
    "plt.yticks(np.arange(0, 1.1, 0.1))\n",
    "plt.show()"
   ],
   "metadata": {
    "collapsed": false,
    "ExecuteTime": {
     "end_time": "2024-01-22T12:45:09.496247Z",
     "start_time": "2024-01-22T12:45:09.076218Z"
    }
   },
   "id": "3b0eefdcb2ab4694"
  },
  {
   "cell_type": "markdown",
   "source": [
    "Let's see the results for the best parameters:"
   ],
   "metadata": {
    "collapsed": false
   },
   "id": "10499423bfe448fe"
  },
  {
   "cell_type": "markdown",
   "source": [
    "Best params:"
   ],
   "metadata": {
    "collapsed": false
   },
   "id": "2b10bb09cfa08c2d"
  },
  {
   "cell_type": "code",
   "execution_count": 42,
   "outputs": [
    {
     "data": {
      "text/plain": "(('log', (1, 10), False), ('log', (1, 10), False))"
     },
     "execution_count": 42,
     "metadata": {},
     "output_type": "execute_result"
    }
   ],
   "source": [
    "parameter_list[np.argmax(all_eval_at_1)], parameter_list[np.argmax(all_eval_at_5)]"
   ],
   "metadata": {
    "collapsed": false,
    "ExecuteTime": {
     "end_time": "2024-01-22T12:45:48.372700Z",
     "start_time": "2024-01-22T12:45:48.359846Z"
    }
   },
   "id": "4a206ce07be26005"
  },
  {
   "cell_type": "markdown",
   "source": [
    "Accuracy @1, @5 and @10:"
   ],
   "metadata": {
    "collapsed": false
   },
   "id": "453467831310b818"
  },
  {
   "cell_type": "code",
   "execution_count": 16,
   "outputs": [
    {
     "data": {
      "text/plain": "(0.689072791758149, 0.8821145076845127, 0.8998479986488769)"
     },
     "execution_count": 16,
     "metadata": {},
     "output_type": "execute_result"
    }
   ],
   "source": [
    "all_eval_at_1[np.argmax(all_eval_at_1)], all_eval_at_5[np.argmax(all_eval_at_1)], all_eval_at_10[np.argmax(all_eval_at_1)]"
   ],
   "metadata": {
    "collapsed": false,
    "ExecuteTime": {
     "end_time": "2024-01-18T12:08:29.691484Z",
     "start_time": "2024-01-18T12:08:29.662756Z"
    }
   },
   "id": "bd40bd1b72984f01"
  },
  {
   "cell_type": "markdown",
   "source": [
    "What are the conclusions that we can draw here?\n",
    "* log >>>>>>> linear\n",
    "* Top-down search always makes the results worse\n",
    "* Concepts are much more important than anchors, but anchor pages are useful after all and removing them or de-emphasizing them too much reduces accuracy."
   ],
   "metadata": {
    "collapsed": false
   },
   "id": "9ad2e42f6857fa71"
  },
  {
   "cell_type": "markdown",
   "source": [
    "#### Analyzing the errors"
   ],
   "metadata": {
    "collapsed": false
   },
   "id": "bea3e36365da6024"
  },
  {
   "cell_type": "code",
   "execution_count": 17,
   "outputs": [],
   "source": [
    "best_index = np.argmax(all_eval_at_1)\n",
    "best_params = parameter_list[best_index]\n",
    "best_results = all_results[best_index]"
   ],
   "metadata": {
    "collapsed": false,
    "ExecuteTime": {
     "end_time": "2024-01-18T12:08:30.971698Z",
     "start_time": "2024-01-18T12:08:30.961427Z"
    }
   },
   "id": "7dfe6e332f69c72a"
  },
  {
   "cell_type": "code",
   "execution_count": 18,
   "outputs": [],
   "source": [
    "errors_at_5 = get_errors_at_k(best_results, test_concepts, test_labels, 5)"
   ],
   "metadata": {
    "collapsed": false,
    "ExecuteTime": {
     "end_time": "2024-01-18T12:08:31.459157Z",
     "start_time": "2024-01-18T12:08:31.444299Z"
    }
   },
   "id": "5ba96ac62adc3969"
  },
  {
   "cell_type": "code",
   "execution_count": 19,
   "outputs": [
    {
     "data": {
      "text/plain": "(698, 5921)"
     },
     "execution_count": 19,
     "metadata": {},
     "output_type": "execute_result"
    }
   ],
   "source": [
    "len(errors_at_5), len(test_labels)"
   ],
   "metadata": {
    "collapsed": false,
    "ExecuteTime": {
     "end_time": "2024-01-18T12:08:31.587930Z",
     "start_time": "2024-01-18T12:08:31.559532Z"
    }
   },
   "id": "8feae97e5ff578b8"
  },
  {
   "cell_type": "code",
   "execution_count": 20,
   "outputs": [],
   "source": [
    "test_concept_names = ontology_data.get_test_concept_names()\n",
    "concept_id_to_name = test_concept_names.set_index('id')['name'].to_dict()\n",
    "errors_at_5_concept_names = test_concept_names.loc[test_concept_names['id'].apply(lambda x: x in errors_at_5)]"
   ],
   "metadata": {
    "collapsed": false,
    "ExecuteTime": {
     "end_time": "2024-01-18T12:08:31.798742Z",
     "start_time": "2024-01-18T12:08:31.735178Z"
    }
   },
   "id": "f336f89f17055058"
  },
  {
   "cell_type": "code",
   "execution_count": 21,
   "outputs": [
    {
     "data": {
      "text/plain": "             id                            name\n0        100034            Military engineering\n32     10044864               Research question\n50      1006651                Amorphous carbon\n65     10096030              Informal education\n112     1016556              Induced seismicity\n...         ...                             ...\n19419   9553738          Ensemble Kalman filter\n19558   9764915       Bicarbonate buffer system\n19591   9801859                     Marketplace\n19622   9848870  Energy efficiency in transport\n19667    990809                  Moving average\n\n[698 rows x 2 columns]",
      "text/html": "<div>\n<style scoped>\n    .dataframe tbody tr th:only-of-type {\n        vertical-align: middle;\n    }\n\n    .dataframe tbody tr th {\n        vertical-align: top;\n    }\n\n    .dataframe thead th {\n        text-align: right;\n    }\n</style>\n<table border=\"1\" class=\"dataframe\">\n  <thead>\n    <tr style=\"text-align: right;\">\n      <th></th>\n      <th>id</th>\n      <th>name</th>\n    </tr>\n  </thead>\n  <tbody>\n    <tr>\n      <th>0</th>\n      <td>100034</td>\n      <td>Military engineering</td>\n    </tr>\n    <tr>\n      <th>32</th>\n      <td>10044864</td>\n      <td>Research question</td>\n    </tr>\n    <tr>\n      <th>50</th>\n      <td>1006651</td>\n      <td>Amorphous carbon</td>\n    </tr>\n    <tr>\n      <th>65</th>\n      <td>10096030</td>\n      <td>Informal education</td>\n    </tr>\n    <tr>\n      <th>112</th>\n      <td>1016556</td>\n      <td>Induced seismicity</td>\n    </tr>\n    <tr>\n      <th>...</th>\n      <td>...</td>\n      <td>...</td>\n    </tr>\n    <tr>\n      <th>19419</th>\n      <td>9553738</td>\n      <td>Ensemble Kalman filter</td>\n    </tr>\n    <tr>\n      <th>19558</th>\n      <td>9764915</td>\n      <td>Bicarbonate buffer system</td>\n    </tr>\n    <tr>\n      <th>19591</th>\n      <td>9801859</td>\n      <td>Marketplace</td>\n    </tr>\n    <tr>\n      <th>19622</th>\n      <td>9848870</td>\n      <td>Energy efficiency in transport</td>\n    </tr>\n    <tr>\n      <th>19667</th>\n      <td>990809</td>\n      <td>Moving average</td>\n    </tr>\n  </tbody>\n</table>\n<p>698 rows × 2 columns</p>\n</div>"
     },
     "execution_count": 21,
     "metadata": {},
     "output_type": "execute_result"
    }
   ],
   "source": [
    "errors_at_5_concept_names"
   ],
   "metadata": {
    "collapsed": false,
    "ExecuteTime": {
     "end_time": "2024-01-18T12:08:32.217307Z",
     "start_time": "2024-01-18T12:08:32.177996Z"
    }
   },
   "id": "2aec67d2e8934cb1"
  },
  {
   "cell_type": "code",
   "execution_count": 22,
   "outputs": [],
   "source": [
    "errors_at_5_categories = test_category_concept.loc[test_category_concept.to_id.apply(lambda x: x in errors_at_5)]\n",
    "errors_at_5_categories = errors_at_5_categories.assign(count=1)[['from_id', 'count']].groupby('from_id').sum().reset_index()\n",
    "category_full_sizes = pd.concat([ontology_data.get_test_category_concept(), ontology_data.get_category_concept_table()]).assign(count=1)[['from_id', 'count']].groupby('from_id').sum().reset_index()\n",
    "category_test_sizes = test_category_concept.assign(count=1)[['from_id', 'count']].groupby('from_id').sum().reset_index()\n",
    "errors_at_5_categories = pd.merge(errors_at_5_categories, category_full_sizes, how='inner',\n",
    "                                  on='from_id', suffixes=('_errors', '_total'))\n",
    "errors_at_5_categories = pd.merge(errors_at_5_categories, category_test_sizes, how='inner',\n",
    "                                  on='from_id').rename(columns={'count': 'count_test'})\n",
    "errors_at_5_categories['error_ratio'] = errors_at_5_categories['count_errors'] / errors_at_5_categories['count_test'] "
   ],
   "metadata": {
    "collapsed": false,
    "ExecuteTime": {
     "end_time": "2024-01-18T12:08:32.788911Z",
     "start_time": "2024-01-18T12:08:32.679433Z"
    }
   },
   "id": "71d060481b4ca80e"
  },
  {
   "cell_type": "code",
   "execution_count": 23,
   "outputs": [
    {
     "data": {
      "text/plain": "                              from_id  count_errors  count_total  count_test  \\\n294                 topics-in-geology            17           40          17   \n161                      interpreters             7           15           7   \n95                  ecosystem-ecology             6           19           6   \n114                   enzyme-kinetics             6           12           6   \n215                plasma-engineering             6           18           6   \n..                                ...           ...          ...         ...   \n219                 polymer-chemistry             1          113          39   \n105          entities-in-astrophysics             1          154          40   \n177                   microprocessors             1          143          41   \n2                    abstract-algebra             1          151          51   \n146  high-level-programming-languages             1          182          53   \n\n     error_ratio  \n294     1.000000  \n161     1.000000  \n95      1.000000  \n114     1.000000  \n215     1.000000  \n..           ...  \n219     0.025641  \n105     0.025000  \n177     0.024390  \n2       0.019608  \n146     0.018868  \n\n[339 rows x 5 columns]",
      "text/html": "<div>\n<style scoped>\n    .dataframe tbody tr th:only-of-type {\n        vertical-align: middle;\n    }\n\n    .dataframe tbody tr th {\n        vertical-align: top;\n    }\n\n    .dataframe thead th {\n        text-align: right;\n    }\n</style>\n<table border=\"1\" class=\"dataframe\">\n  <thead>\n    <tr style=\"text-align: right;\">\n      <th></th>\n      <th>from_id</th>\n      <th>count_errors</th>\n      <th>count_total</th>\n      <th>count_test</th>\n      <th>error_ratio</th>\n    </tr>\n  </thead>\n  <tbody>\n    <tr>\n      <th>294</th>\n      <td>topics-in-geology</td>\n      <td>17</td>\n      <td>40</td>\n      <td>17</td>\n      <td>1.000000</td>\n    </tr>\n    <tr>\n      <th>161</th>\n      <td>interpreters</td>\n      <td>7</td>\n      <td>15</td>\n      <td>7</td>\n      <td>1.000000</td>\n    </tr>\n    <tr>\n      <th>95</th>\n      <td>ecosystem-ecology</td>\n      <td>6</td>\n      <td>19</td>\n      <td>6</td>\n      <td>1.000000</td>\n    </tr>\n    <tr>\n      <th>114</th>\n      <td>enzyme-kinetics</td>\n      <td>6</td>\n      <td>12</td>\n      <td>6</td>\n      <td>1.000000</td>\n    </tr>\n    <tr>\n      <th>215</th>\n      <td>plasma-engineering</td>\n      <td>6</td>\n      <td>18</td>\n      <td>6</td>\n      <td>1.000000</td>\n    </tr>\n    <tr>\n      <th>...</th>\n      <td>...</td>\n      <td>...</td>\n      <td>...</td>\n      <td>...</td>\n      <td>...</td>\n    </tr>\n    <tr>\n      <th>219</th>\n      <td>polymer-chemistry</td>\n      <td>1</td>\n      <td>113</td>\n      <td>39</td>\n      <td>0.025641</td>\n    </tr>\n    <tr>\n      <th>105</th>\n      <td>entities-in-astrophysics</td>\n      <td>1</td>\n      <td>154</td>\n      <td>40</td>\n      <td>0.025000</td>\n    </tr>\n    <tr>\n      <th>177</th>\n      <td>microprocessors</td>\n      <td>1</td>\n      <td>143</td>\n      <td>41</td>\n      <td>0.024390</td>\n    </tr>\n    <tr>\n      <th>2</th>\n      <td>abstract-algebra</td>\n      <td>1</td>\n      <td>151</td>\n      <td>51</td>\n      <td>0.019608</td>\n    </tr>\n    <tr>\n      <th>146</th>\n      <td>high-level-programming-languages</td>\n      <td>1</td>\n      <td>182</td>\n      <td>53</td>\n      <td>0.018868</td>\n    </tr>\n  </tbody>\n</table>\n<p>339 rows × 5 columns</p>\n</div>"
     },
     "execution_count": 23,
     "metadata": {},
     "output_type": "execute_result"
    }
   ],
   "source": [
    "errors_at_5_categories.sort_values(by=['error_ratio', 'count_errors'], ascending=False)"
   ],
   "metadata": {
    "collapsed": false,
    "ExecuteTime": {
     "end_time": "2024-01-18T12:08:33.168967Z",
     "start_time": "2024-01-18T12:08:33.077825Z"
    }
   },
   "id": "519d16a314b5bc2a"
  },
  {
   "cell_type": "code",
   "execution_count": 24,
   "outputs": [],
   "source": [
    "full_error_categories = errors_at_5_categories.loc[errors_at_5_categories.error_ratio == 1.0].from_id.values.tolist()"
   ],
   "metadata": {
    "collapsed": false,
    "ExecuteTime": {
     "end_time": "2024-01-18T12:08:33.596578Z",
     "start_time": "2024-01-18T12:08:33.556802Z"
    }
   },
   "id": "9c824ab2a3b57ddf"
  },
  {
   "cell_type": "code",
   "execution_count": 37,
   "outputs": [],
   "source": [
    "# current_category = full_error_categories[1]\n",
    "current_category = 'geopolitics'\n",
    "current_category_concepts = test_category_concept.loc[test_category_concept.from_id == current_category, 'to_id'].values.tolist()\n",
    "indices = [test_concepts.index(x) for x in current_category_concepts]\n",
    "predicted_labels = [best_results[i][:5] for i in indices]\n",
    "current_wrong_predictions_df = pd.DataFrame(columns=['concept_id', 'concept_name', 'predicted_category'])\n",
    "current_wrong_predictions_df['concept_id'] = current_category_concepts\n",
    "current_wrong_predictions_df['concept_name'] = [concept_id_to_name[x] for x in current_category_concepts]\n",
    "current_wrong_predictions_df['predicted_category'] = predicted_labels\n",
    "current_wrong_predictions_df = current_wrong_predictions_df.explode('predicted_category')"
   ],
   "metadata": {
    "collapsed": false,
    "ExecuteTime": {
     "end_time": "2024-01-19T13:10:20.230047Z",
     "start_time": "2024-01-19T13:10:19.868941Z"
    }
   },
   "id": "2dfb6e3c0546274d"
  },
  {
   "cell_type": "code",
   "execution_count": 38,
   "outputs": [
    {
     "data": {
      "text/plain": "  concept_id             concept_name               predicted_category\n0   15489197                 Province                    global-cities\n0   15489197                 Province                      geopolitics\n0   15489197                 Province              early-modern-period\n0   15489197                 Province                        world-war\n0   15489197                 Province                topics-in-climate\n1   18348178      Chlorine production           coordination-chemistry\n1   18348178      Chlorine production                          writers\n1   18348178      Chlorine production  entities-in-process-engineering\n1   18348178      Chlorine production           entities-in-psychiatry\n1   18348178      Chlorine production    entities-in-psycholinguistics\n2    1884392         Urban morphology                      geopolitics\n2    1884392         Urban morphology  entities-in-process-engineering\n2    1884392         Urban morphology           entities-in-psychiatry\n2    1884392         Urban morphology    entities-in-psycholinguistics\n2    1884392         Urban morphology           entities-in-publishing\n3   25393281        Bonding in solids         organometallic-chemistry\n3   25393281        Bonding in solids                          writers\n3   25393281        Bonding in solids    entities-in-religious-studies\n3   25393281        Bonding in solids           entities-in-psychiatry\n3   25393281        Bonding in solids    entities-in-psycholinguistics\n4      27052  Administrative division                      geopolitics\n4      27052  Administrative division                        world-war\n4      27052  Administrative division                       newspapers\n4      27052  Administrative division                    global-cities\n4      27052  Administrative division   entities-in-regional-geography\n5     345756                  Lighter                       combustion\n5     345756                  Lighter                          writers\n5     345756                  Lighter  entities-in-research-institutes\n5     345756                  Lighter           entities-in-publishing\n5     345756                  Lighter          entities-in-pulmonology\n6    4457918             Polar effect                          writers\n6    4457918             Polar effect  entities-in-research-institutes\n6    4457918             Polar effect    entities-in-psycholinguistics\n6    4457918             Polar effect           entities-in-publishing\n6    4457918             Polar effect          entities-in-pulmonology\n7     235287             Nitric oxide              chemical-substances\n7     235287             Nitric oxide                              nox\n7     235287             Nitric oxide                     refrigerants\n7     235287             Nitric oxide                organic-compounds\n7     235287             Nitric oxide                  enzyme-kinetics",
      "text/html": "<div>\n<style scoped>\n    .dataframe tbody tr th:only-of-type {\n        vertical-align: middle;\n    }\n\n    .dataframe tbody tr th {\n        vertical-align: top;\n    }\n\n    .dataframe thead th {\n        text-align: right;\n    }\n</style>\n<table border=\"1\" class=\"dataframe\">\n  <thead>\n    <tr style=\"text-align: right;\">\n      <th></th>\n      <th>concept_id</th>\n      <th>concept_name</th>\n      <th>predicted_category</th>\n    </tr>\n  </thead>\n  <tbody>\n    <tr>\n      <th>0</th>\n      <td>15489197</td>\n      <td>Province</td>\n      <td>global-cities</td>\n    </tr>\n    <tr>\n      <th>0</th>\n      <td>15489197</td>\n      <td>Province</td>\n      <td>geopolitics</td>\n    </tr>\n    <tr>\n      <th>0</th>\n      <td>15489197</td>\n      <td>Province</td>\n      <td>early-modern-period</td>\n    </tr>\n    <tr>\n      <th>0</th>\n      <td>15489197</td>\n      <td>Province</td>\n      <td>world-war</td>\n    </tr>\n    <tr>\n      <th>0</th>\n      <td>15489197</td>\n      <td>Province</td>\n      <td>topics-in-climate</td>\n    </tr>\n    <tr>\n      <th>1</th>\n      <td>18348178</td>\n      <td>Chlorine production</td>\n      <td>coordination-chemistry</td>\n    </tr>\n    <tr>\n      <th>1</th>\n      <td>18348178</td>\n      <td>Chlorine production</td>\n      <td>writers</td>\n    </tr>\n    <tr>\n      <th>1</th>\n      <td>18348178</td>\n      <td>Chlorine production</td>\n      <td>entities-in-process-engineering</td>\n    </tr>\n    <tr>\n      <th>1</th>\n      <td>18348178</td>\n      <td>Chlorine production</td>\n      <td>entities-in-psychiatry</td>\n    </tr>\n    <tr>\n      <th>1</th>\n      <td>18348178</td>\n      <td>Chlorine production</td>\n      <td>entities-in-psycholinguistics</td>\n    </tr>\n    <tr>\n      <th>2</th>\n      <td>1884392</td>\n      <td>Urban morphology</td>\n      <td>geopolitics</td>\n    </tr>\n    <tr>\n      <th>2</th>\n      <td>1884392</td>\n      <td>Urban morphology</td>\n      <td>entities-in-process-engineering</td>\n    </tr>\n    <tr>\n      <th>2</th>\n      <td>1884392</td>\n      <td>Urban morphology</td>\n      <td>entities-in-psychiatry</td>\n    </tr>\n    <tr>\n      <th>2</th>\n      <td>1884392</td>\n      <td>Urban morphology</td>\n      <td>entities-in-psycholinguistics</td>\n    </tr>\n    <tr>\n      <th>2</th>\n      <td>1884392</td>\n      <td>Urban morphology</td>\n      <td>entities-in-publishing</td>\n    </tr>\n    <tr>\n      <th>3</th>\n      <td>25393281</td>\n      <td>Bonding in solids</td>\n      <td>organometallic-chemistry</td>\n    </tr>\n    <tr>\n      <th>3</th>\n      <td>25393281</td>\n      <td>Bonding in solids</td>\n      <td>writers</td>\n    </tr>\n    <tr>\n      <th>3</th>\n      <td>25393281</td>\n      <td>Bonding in solids</td>\n      <td>entities-in-religious-studies</td>\n    </tr>\n    <tr>\n      <th>3</th>\n      <td>25393281</td>\n      <td>Bonding in solids</td>\n      <td>entities-in-psychiatry</td>\n    </tr>\n    <tr>\n      <th>3</th>\n      <td>25393281</td>\n      <td>Bonding in solids</td>\n      <td>entities-in-psycholinguistics</td>\n    </tr>\n    <tr>\n      <th>4</th>\n      <td>27052</td>\n      <td>Administrative division</td>\n      <td>geopolitics</td>\n    </tr>\n    <tr>\n      <th>4</th>\n      <td>27052</td>\n      <td>Administrative division</td>\n      <td>world-war</td>\n    </tr>\n    <tr>\n      <th>4</th>\n      <td>27052</td>\n      <td>Administrative division</td>\n      <td>newspapers</td>\n    </tr>\n    <tr>\n      <th>4</th>\n      <td>27052</td>\n      <td>Administrative division</td>\n      <td>global-cities</td>\n    </tr>\n    <tr>\n      <th>4</th>\n      <td>27052</td>\n      <td>Administrative division</td>\n      <td>entities-in-regional-geography</td>\n    </tr>\n    <tr>\n      <th>5</th>\n      <td>345756</td>\n      <td>Lighter</td>\n      <td>combustion</td>\n    </tr>\n    <tr>\n      <th>5</th>\n      <td>345756</td>\n      <td>Lighter</td>\n      <td>writers</td>\n    </tr>\n    <tr>\n      <th>5</th>\n      <td>345756</td>\n      <td>Lighter</td>\n      <td>entities-in-research-institutes</td>\n    </tr>\n    <tr>\n      <th>5</th>\n      <td>345756</td>\n      <td>Lighter</td>\n      <td>entities-in-publishing</td>\n    </tr>\n    <tr>\n      <th>5</th>\n      <td>345756</td>\n      <td>Lighter</td>\n      <td>entities-in-pulmonology</td>\n    </tr>\n    <tr>\n      <th>6</th>\n      <td>4457918</td>\n      <td>Polar effect</td>\n      <td>writers</td>\n    </tr>\n    <tr>\n      <th>6</th>\n      <td>4457918</td>\n      <td>Polar effect</td>\n      <td>entities-in-research-institutes</td>\n    </tr>\n    <tr>\n      <th>6</th>\n      <td>4457918</td>\n      <td>Polar effect</td>\n      <td>entities-in-psycholinguistics</td>\n    </tr>\n    <tr>\n      <th>6</th>\n      <td>4457918</td>\n      <td>Polar effect</td>\n      <td>entities-in-publishing</td>\n    </tr>\n    <tr>\n      <th>6</th>\n      <td>4457918</td>\n      <td>Polar effect</td>\n      <td>entities-in-pulmonology</td>\n    </tr>\n    <tr>\n      <th>7</th>\n      <td>235287</td>\n      <td>Nitric oxide</td>\n      <td>chemical-substances</td>\n    </tr>\n    <tr>\n      <th>7</th>\n      <td>235287</td>\n      <td>Nitric oxide</td>\n      <td>nox</td>\n    </tr>\n    <tr>\n      <th>7</th>\n      <td>235287</td>\n      <td>Nitric oxide</td>\n      <td>refrigerants</td>\n    </tr>\n    <tr>\n      <th>7</th>\n      <td>235287</td>\n      <td>Nitric oxide</td>\n      <td>organic-compounds</td>\n    </tr>\n    <tr>\n      <th>7</th>\n      <td>235287</td>\n      <td>Nitric oxide</td>\n      <td>enzyme-kinetics</td>\n    </tr>\n  </tbody>\n</table>\n</div>"
     },
     "execution_count": 38,
     "metadata": {},
     "output_type": "execute_result"
    }
   ],
   "source": [
    "current_wrong_predictions_df"
   ],
   "metadata": {
    "collapsed": false,
    "ExecuteTime": {
     "end_time": "2024-01-19T13:10:20.886452Z",
     "start_time": "2024-01-19T13:10:20.870665Z"
    }
   },
   "id": "9863fe5c8d9e0eff"
  },
  {
   "cell_type": "markdown",
   "source": [
    "Many of the wrongly categorized concepts are extremely sparse in terms of their rows in the concept-concept table. For example, \"Kilocalorie per mole\" has only two edges, to \"Biology\" and \"Energy\". This means that its predicted categories are effectively random and thus inaccurate.\n",
    "\n",
    "Another issue with some of the wrongly categorized concepts is that in reality, their predicted categories are as accurate as, if not more accurate than their assigned \"ground truth\". Errors like this fall under two categories:\n",
    "\n",
    "1. Some clusters are assigned to the wrong category (e.g. cluster 413, containing 'PDF' and 'SVG' is assigned to 'interpreters', rather than, say, 'file formats' or '2d-computer-graphics') and that means that the effective re-assignment is more correct than the ground truth.\n",
    "2. Some clusters have wrong concepts in them. Cluster 449 has a combination of geography concepts and chemistry concepts.\n",
    "\n",
    "Here are a few takeaways:\n",
    "\n",
    "* Interestingly enough, in a roundabout way, this evaluation method provides us with a way of detecting obvious mistakes in the ontology (which are often wrongly-assigned clusters), which can then be corrected using the method that finds the closest category for a cluster.\n",
    "* The issue of sparse areas of the concept-concept graph may be something that we can solve by introducing a secondary method of computing similarity scores: word embeddings. I need to look into this."
   ],
   "metadata": {
    "collapsed": false
   },
   "id": "33a1f6750e7a3286"
  },
  {
   "cell_type": "markdown",
   "source": [
    "#### Evaluation based on importance of concepts in publications"
   ],
   "metadata": {
    "collapsed": false
   },
   "id": "556662853f5e31cc"
  },
  {
   "cell_type": "code",
   "execution_count": 49,
   "outputs": [],
   "source": [
    "concepts_in_publications = db_results_to_pandas_df(\n",
    "    db_manager.execute_query(\n",
    "        \"SELECT b.id, b.name, a.score FROM \"\n",
    "        \"(SELECT SUM(score) AS score, to_id FROM graph_new.Edges_N_Publication_N_Concept_T_AutoNLP \"\n",
    "        \"GROUP BY to_id) a \"\n",
    "        \"INNER JOIN graph_ontology.Nodes_N_Concept b \"\n",
    "        \"ON a.to_id=b.id \"\n",
    "        \"ORDER BY score DESC;\"\n",
    "    ), [\"id\", \"name\", \"score\"]\n",
    ")"
   ],
   "metadata": {
    "collapsed": false,
    "ExecuteTime": {
     "end_time": "2024-01-22T13:39:27.363553Z",
     "start_time": "2024-01-22T13:39:17.102704Z"
    }
   },
   "id": "4b0df65593218998"
  },
  {
   "cell_type": "code",
   "execution_count": 50,
   "outputs": [
    {
     "data": {
      "text/plain": "count    60304.000000\nmean         7.805697\nstd         45.971346\nmin          0.001076\n25%          0.169522\n50%          0.906073\n75%          3.513148\nmax       2961.929004\nName: score, dtype: float64"
     },
     "execution_count": 50,
     "metadata": {},
     "output_type": "execute_result"
    }
   ],
   "source": [
    "concepts_in_publications['score'].describe()"
   ],
   "metadata": {
    "collapsed": false,
    "ExecuteTime": {
     "end_time": "2024-01-22T13:49:59.091105Z",
     "start_time": "2024-01-22T13:49:58.951763Z"
    }
   },
   "id": "502d21da8150d54a"
  },
  {
   "cell_type": "code",
   "execution_count": null,
   "outputs": [],
   "source": [
    "# concepts_to_keep_based_on_publications = concepts_in_publications.loc[concepts_in_publications['score'] ]"
   ],
   "metadata": {
    "collapsed": false
   },
   "id": "2394858c6f0b606"
  }
 ],
 "metadata": {
  "kernelspec": {
   "display_name": "Python 3",
   "language": "python",
   "name": "python3"
  },
  "language_info": {
   "codemirror_mode": {
    "name": "ipython",
    "version": 2
   },
   "file_extension": ".py",
   "mimetype": "text/x-python",
   "name": "python",
   "nbconvert_exporter": "python",
   "pygments_lexer": "ipython2",
   "version": "2.7.6"
  }
 },
 "nbformat": 4,
 "nbformat_minor": 5
}
