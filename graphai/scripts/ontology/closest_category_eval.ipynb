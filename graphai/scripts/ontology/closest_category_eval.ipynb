{
 "cells": [
  {
   "cell_type": "markdown",
   "source": [
    "# Ontology closest category evaluation"
   ],
   "metadata": {
    "collapsed": false
   },
   "id": "ea4d7d1014669936"
  },
  {
   "cell_type": "code",
   "execution_count": 112,
   "outputs": [],
   "source": [
    "from graphai.core.common.ontology_utils.data import OntologyData\n",
    "import numpy as np\n",
    "import pandas as pd\n",
    "import itertools"
   ],
   "metadata": {
    "collapsed": false,
    "ExecuteTime": {
     "end_time": "2024-01-16T13:46:03.931073Z",
     "start_time": "2024-01-16T13:46:03.925562Z"
    }
   },
   "id": "e8783f46dd984790"
  },
  {
   "cell_type": "code",
   "execution_count": 2,
   "outputs": [
    {
     "name": "stdout",
     "output_type": "stream",
     "text": [
      "1497301 1497301 1497301\n"
     ]
    }
   ],
   "source": [
    "ontology_data = OntologyData(test_mode=True, test_ratio=0.2, random_state=0)\n",
    "ontology_data.load_data()"
   ],
   "metadata": {
    "collapsed": false,
    "ExecuteTime": {
     "end_time": "2024-01-16T13:02:27.463234Z",
     "start_time": "2024-01-16T13:01:01.266085Z"
    }
   },
   "id": "9ed15b1e0c59d038"
  },
  {
   "cell_type": "markdown",
   "source": [
    "Let's see the size of the test and training sets:"
   ],
   "metadata": {
    "collapsed": false
   },
   "id": "9b5aec8c6e276008"
  },
  {
   "cell_type": "code",
   "execution_count": 3,
   "outputs": [
    {
     "name": "stdout",
     "output_type": "stream",
     "text": [
      "3947 15792\n"
     ]
    }
   ],
   "source": [
    "print(ontology_data.get_test_category_concept().shape[0], ontology_data.get_category_concept_table().shape[0])"
   ],
   "metadata": {
    "collapsed": false,
    "ExecuteTime": {
     "end_time": "2024-01-16T13:02:27.473296Z",
     "start_time": "2024-01-16T13:02:27.467559Z"
    }
   },
   "id": "91cfb16523b78455"
  },
  {
   "cell_type": "code",
   "execution_count": 4,
   "outputs": [],
   "source": [
    "test_category_concept = ontology_data.get_test_category_concept()\n",
    "test_concepts = test_category_concept['to_id'].values.tolist()\n",
    "test_labels = test_category_concept['from_id'].values.tolist()"
   ],
   "metadata": {
    "collapsed": false,
    "ExecuteTime": {
     "end_time": "2024-01-16T13:02:27.480697Z",
     "start_time": "2024-01-16T13:02:27.472558Z"
    }
   },
   "id": "3062eca816568f8e"
  },
  {
   "cell_type": "code",
   "execution_count": 90,
   "outputs": [],
   "source": [
    "def predict_all(model: OntologyData, x: list, avg='linear', coeffs=(1, 4), top_down=True, n=5):\n",
    "    y = list()\n",
    "    for p in x:\n",
    "        best_cats, best_scores, selected_d3_category, best_clusters = \\\n",
    "            model.get_concept_closest_category(p, avg=avg, coeffs=coeffs, top_n=n, use_depth_3=top_down,\n",
    "                                               return_clusters=None)\n",
    "        if best_cats is None:\n",
    "            best_cats = list()\n",
    "        y.append(best_cats)\n",
    "    return y\n",
    "\n",
    "def eval_at_k(res, labels, k):\n",
    "    max_k = max([len(x) for x in res])\n",
    "    if k > max_k:\n",
    "        print('Maximum n is %d, cannot return evaluation metrics @ %d' % (max_k, k))\n",
    "        return None\n",
    "    results_to_evaluate = [set(x[:k]) for x in res]\n",
    "    n_correct = sum([1 if labels[i] in results_to_evaluate[i] else 0 for i in range(len(results_to_evaluate))])\n",
    "    n_total = len(labels)\n",
    "    acc = n_correct / n_total\n",
    "    return acc\n",
    "\n",
    "def get_max_accuracy(res):\n",
    "    return len([x for x in res if len(x) > 0]) / len(res)\n",
    "    "
   ],
   "metadata": {
    "collapsed": false,
    "ExecuteTime": {
     "end_time": "2024-01-16T13:25:49.385344Z",
     "start_time": "2024-01-16T13:25:49.379316Z"
    }
   },
   "id": "2cdc29b26d643132"
  },
  {
   "cell_type": "markdown",
   "source": [
    "## Evaluating different combinations"
   ],
   "metadata": {
    "collapsed": false
   },
   "id": "55997758d2049e79"
  },
  {
   "cell_type": "code",
   "execution_count": 114,
   "outputs": [],
   "source": [
    "parameter_list = list(\n",
    "    itertools.product(['log', 'linear'], [(1, 1), (10, 1), (1, 10)],\n",
    "                      [False, True])\n",
    ")"
   ],
   "metadata": {
    "collapsed": false,
    "ExecuteTime": {
     "end_time": "2024-01-16T13:54:22.112236Z",
     "start_time": "2024-01-16T13:54:22.107821Z"
    }
   },
   "id": "25ea9380646e9364"
  },
  {
   "cell_type": "code",
   "execution_count": 115,
   "outputs": [],
   "source": [
    "all_results = [\n",
    "    predict_all(ontology_data, test_concepts, avg=params[0], coeffs=params[1], top_down=params[2], n=10)\n",
    "    for params in parameter_list\n",
    "]"
   ],
   "metadata": {
    "collapsed": false,
    "ExecuteTime": {
     "end_time": "2024-01-16T13:55:11.025313Z",
     "start_time": "2024-01-16T13:54:22.598309Z"
    }
   },
   "id": "f46a51817c00cfad"
  },
  {
   "cell_type": "code",
   "execution_count": 116,
   "outputs": [],
   "source": [
    "all_eval_at_1 = [eval_at_k(results, test_labels, 1) for results in all_results]"
   ],
   "metadata": {
    "collapsed": false,
    "ExecuteTime": {
     "end_time": "2024-01-16T13:55:11.262963Z",
     "start_time": "2024-01-16T13:55:11.248080Z"
    }
   },
   "id": "682ad9c3b127e878"
  },
  {
   "cell_type": "code",
   "execution_count": 117,
   "outputs": [],
   "source": [
    "all_eval_at_5 = [eval_at_k(results, test_labels, 5) for results in all_results]"
   ],
   "metadata": {
    "collapsed": false,
    "ExecuteTime": {
     "end_time": "2024-01-16T13:55:11.332297Z",
     "start_time": "2024-01-16T13:55:11.267903Z"
    }
   },
   "id": "6232ca06d9a61e25"
  },
  {
   "cell_type": "code",
   "execution_count": 118,
   "outputs": [],
   "source": [
    "all_eval_at_10 = [eval_at_k(results, test_labels, 10) for results in all_results]"
   ],
   "metadata": {
    "collapsed": false,
    "ExecuteTime": {
     "end_time": "2024-01-16T13:55:11.415278Z",
     "start_time": "2024-01-16T13:55:11.404616Z"
    }
   },
   "id": "dda29029592953eb"
  },
  {
   "cell_type": "code",
   "execution_count": 119,
   "outputs": [],
   "source": [
    "all_max_acc = [get_max_accuracy(results) for results in all_results]"
   ],
   "metadata": {
    "collapsed": false,
    "ExecuteTime": {
     "end_time": "2024-01-16T13:55:11.430551Z",
     "start_time": "2024-01-16T13:55:11.428320Z"
    }
   },
   "id": "a7e1bb119770ea95"
  },
  {
   "cell_type": "markdown",
   "source": [
    "### Best parameters for accuracy @k"
   ],
   "metadata": {
    "collapsed": false
   },
   "id": "8af68806f88297b9"
  },
  {
   "cell_type": "markdown",
   "source": [
    "#### Accuracy @1"
   ],
   "metadata": {
    "collapsed": false
   },
   "id": "970f81f3a6393740"
  },
  {
   "cell_type": "markdown",
   "source": [
    "Highest accuracy:"
   ],
   "metadata": {
    "collapsed": false
   },
   "id": "9aca9077d2e8f783"
  },
  {
   "cell_type": "code",
   "execution_count": 120,
   "outputs": [
    {
     "data": {
      "text/plain": "0.7086394730174816"
     },
     "execution_count": 120,
     "metadata": {},
     "output_type": "execute_result"
    }
   ],
   "source": [
    "max(all_eval_at_1)"
   ],
   "metadata": {
    "collapsed": false,
    "ExecuteTime": {
     "end_time": "2024-01-16T13:56:10.351059Z",
     "start_time": "2024-01-16T13:56:10.330217Z"
    }
   },
   "id": "9714b3aee6bccd60"
  },
  {
   "cell_type": "markdown",
   "source": [
    "Best parameters:"
   ],
   "metadata": {
    "collapsed": false
   },
   "id": "24c376ae2d5ef0b8"
  },
  {
   "cell_type": "code",
   "execution_count": 121,
   "outputs": [
    {
     "data": {
      "text/plain": "('log', (1, 10), False)"
     },
     "execution_count": 121,
     "metadata": {},
     "output_type": "execute_result"
    }
   ],
   "source": [
    "parameter_list[np.argmax(all_eval_at_1)]"
   ],
   "metadata": {
    "collapsed": false,
    "ExecuteTime": {
     "end_time": "2024-01-16T13:56:38.365457Z",
     "start_time": "2024-01-16T13:56:38.338639Z"
    }
   },
   "id": "cf51808d3de2db08"
  },
  {
   "cell_type": "markdown",
   "source": [
    "#### Accuracy @5"
   ],
   "metadata": {
    "collapsed": false
   },
   "id": "4f972f09ed994225"
  },
  {
   "cell_type": "markdown",
   "source": [
    "Highest accuracy:"
   ],
   "metadata": {
    "collapsed": false
   },
   "id": "7351633d396cf987"
  },
  {
   "cell_type": "code",
   "execution_count": 122,
   "outputs": [
    {
     "data": {
      "text/plain": "0.8948568533063086"
     },
     "execution_count": 122,
     "metadata": {},
     "output_type": "execute_result"
    }
   ],
   "source": [
    "max(all_eval_at_5)"
   ],
   "metadata": {
    "collapsed": false,
    "ExecuteTime": {
     "end_time": "2024-01-16T13:57:07.313943Z",
     "start_time": "2024-01-16T13:57:07.307284Z"
    }
   },
   "id": "27c19420b4d40fed"
  },
  {
   "cell_type": "markdown",
   "source": [
    "Best parameters:"
   ],
   "metadata": {
    "collapsed": false
   },
   "id": "58cbc2707da1473b"
  },
  {
   "cell_type": "code",
   "execution_count": 123,
   "outputs": [
    {
     "data": {
      "text/plain": "('log', (1, 10), False)"
     },
     "execution_count": 123,
     "metadata": {},
     "output_type": "execute_result"
    }
   ],
   "source": [
    "parameter_list[np.argmax(all_eval_at_5)]"
   ],
   "metadata": {
    "collapsed": false,
    "ExecuteTime": {
     "end_time": "2024-01-16T13:57:09.348323Z",
     "start_time": "2024-01-16T13:57:09.338652Z"
    }
   },
   "id": "3568186db8ac3abc"
  },
  {
   "cell_type": "markdown",
   "source": [
    "#### Accuracy @10"
   ],
   "metadata": {
    "collapsed": false
   },
   "id": "65cedb1aa16e97f"
  },
  {
   "cell_type": "markdown",
   "source": [
    "Highest accuracy:"
   ],
   "metadata": {
    "collapsed": false
   },
   "id": "5251d6bdb6c5ff77"
  },
  {
   "cell_type": "code",
   "execution_count": 124,
   "outputs": [
    {
     "data": {
      "text/plain": "0.9095515581454269"
     },
     "execution_count": 124,
     "metadata": {},
     "output_type": "execute_result"
    }
   ],
   "source": [
    "max(all_eval_at_10)"
   ],
   "metadata": {
    "collapsed": false,
    "ExecuteTime": {
     "end_time": "2024-01-16T14:02:43.308494Z",
     "start_time": "2024-01-16T14:02:43.303276Z"
    }
   },
   "id": "8169daca71719584"
  },
  {
   "cell_type": "markdown",
   "source": [
    "Best parameters:"
   ],
   "metadata": {
    "collapsed": false
   },
   "id": "5015fa5f5e2af673"
  },
  {
   "cell_type": "code",
   "execution_count": 125,
   "outputs": [
    {
     "data": {
      "text/plain": "('log', (1, 10), False)"
     },
     "execution_count": 125,
     "metadata": {},
     "output_type": "execute_result"
    }
   ],
   "source": [
    "parameter_list[np.argmax(all_eval_at_10)]"
   ],
   "metadata": {
    "collapsed": false,
    "ExecuteTime": {
     "end_time": "2024-01-16T14:02:44.491664Z",
     "start_time": "2024-01-16T14:02:44.484397Z"
    }
   },
   "id": "4f7873c3e2112971"
  },
  {
   "cell_type": "code",
   "execution_count": null,
   "outputs": [],
   "source": [],
   "metadata": {
    "collapsed": false
   },
   "id": "51f3405e766d5472"
  }
 ],
 "metadata": {
  "kernelspec": {
   "display_name": "Python 3",
   "language": "python",
   "name": "python3"
  },
  "language_info": {
   "codemirror_mode": {
    "name": "ipython",
    "version": 2
   },
   "file_extension": ".py",
   "mimetype": "text/x-python",
   "name": "python",
   "nbconvert_exporter": "python",
   "pygments_lexer": "ipython2",
   "version": "2.7.6"
  }
 },
 "nbformat": 4,
 "nbformat_minor": 5
}
