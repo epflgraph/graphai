{
 "cells": [
  {
   "cell_type": "markdown",
   "source": [
    "# Ontology statistics"
   ],
   "metadata": {
    "collapsed": false
   },
   "id": "a169a1d53725262a"
  },
  {
   "cell_type": "code",
   "execution_count": 1,
   "outputs": [],
   "source": [
    "from graphai.core.ontology.data import OntologyData, db_results_to_pandas_df\n",
    "from db_cache_manager.db import DB\n",
    "from graphai.core.common.config import config\n",
    "import numpy as np\n",
    "import itertools\n",
    "import pandas as pd\n",
    "import matplotlib.pyplot as plt"
   ],
   "metadata": {
    "collapsed": false,
    "ExecuteTime": {
     "end_time": "2024-09-20T08:52:26.196184Z",
     "start_time": "2024-09-20T08:51:37.801501Z"
    }
   },
   "id": "169cbd830a1bef27"
  },
  {
   "cell_type": "code",
   "execution_count": 2,
   "outputs": [],
   "source": [
    "db_manager = DB(config['database'])"
   ],
   "metadata": {
    "collapsed": false,
    "ExecuteTime": {
     "end_time": "2024-09-20T08:54:51.220552Z",
     "start_time": "2024-09-20T08:54:51.124233Z"
    }
   },
   "id": "928264623128a478"
  },
  {
   "cell_type": "code",
   "execution_count": 3,
   "outputs": [
    {
     "name": "stdout",
     "output_type": "stream",
     "text": [
      "Edge counts computed\n",
      "1497301 1497301 1497301\n"
     ]
    }
   ],
   "source": [
    "ontology_data = OntologyData()\n",
    "ontology_data.load_data()"
   ],
   "metadata": {
    "collapsed": false,
    "ExecuteTime": {
     "end_time": "2024-09-20T08:56:55.566181Z",
     "start_time": "2024-09-20T08:54:51.691735Z"
    }
   },
   "id": "b76b17a3f8bfda5"
  },
  {
   "cell_type": "markdown",
   "source": [
    "## Category concept counts"
   ],
   "metadata": {
    "collapsed": false
   },
   "id": "ea6be89241ce11b2"
  },
  {
   "cell_type": "code",
   "execution_count": 4,
   "outputs": [],
   "source": [
    "category_concept_df = ontology_data.get_category_concept_table()"
   ],
   "metadata": {
    "collapsed": false,
    "ExecuteTime": {
     "end_time": "2024-09-20T08:57:47.225948Z",
     "start_time": "2024-09-20T08:57:47.205399Z"
    }
   },
   "id": "3edbbb1025958a7b"
  },
  {
   "cell_type": "markdown",
   "source": [
    "Total # of concepts:"
   ],
   "metadata": {
    "collapsed": false
   },
   "id": "cfb08a0cf18ac246"
  },
  {
   "cell_type": "code",
   "execution_count": 12,
   "outputs": [
    {
     "data": {
      "text/plain": "37316"
     },
     "execution_count": 12,
     "metadata": {},
     "output_type": "execute_result"
    }
   ],
   "source": [
    "category_concept_df.shape[0]"
   ],
   "metadata": {
    "collapsed": false,
    "ExecuteTime": {
     "end_time": "2024-09-20T09:03:30.823889Z",
     "start_time": "2024-09-20T09:03:30.811736Z"
    }
   },
   "id": "27570cb30e8e1347"
  },
  {
   "cell_type": "code",
   "execution_count": 8,
   "outputs": [],
   "source": [
    "category_concept_counts = category_concept_df.groupby(\"from_id\").apply(\"count\").sort_values(\"to_id\", ascending=False)"
   ],
   "metadata": {
    "collapsed": false,
    "ExecuteTime": {
     "end_time": "2024-09-20T08:59:20.266038Z",
     "start_time": "2024-09-20T08:59:20.246506Z"
    }
   },
   "id": "ea14455431b2133c"
  },
  {
   "cell_type": "markdown",
   "source": [
    "Non-empty categories:"
   ],
   "metadata": {
    "collapsed": false
   },
   "id": "3ad3e6e09025d696"
  },
  {
   "cell_type": "code",
   "execution_count": 40,
   "outputs": [
    {
     "data": {
      "text/plain": "1140"
     },
     "execution_count": 40,
     "metadata": {},
     "output_type": "execute_result"
    }
   ],
   "source": [
    "category_concept_counts.shape[0]"
   ],
   "metadata": {
    "collapsed": false,
    "ExecuteTime": {
     "end_time": "2024-09-20T09:21:06.480750Z",
     "start_time": "2024-09-20T09:21:06.472443Z"
    }
   },
   "id": "f913ed2541693522"
  },
  {
   "cell_type": "markdown",
   "source": [
    "Most populated categories:"
   ],
   "metadata": {
    "collapsed": false
   },
   "id": "45fcee016efc00a6"
  },
  {
   "cell_type": "code",
   "execution_count": 11,
   "outputs": [
    {
     "data": {
      "text/plain": "                                    to_id\nfrom_id                                  \ntopics-in-psychiatry                  287\nhigh-level-programming-languages      260\nabstract-algebra                      257\norganometallic-chemistry              247\ngraph-theory                          234\nimmune-system                         234\ntopics-in-endocrinology               231\nstellar-astronomy                     228\ncancer                                226\nmathematical-statistics               212\ncardiovascular-disease                210\neuclidean-geometry                    202\nplant-morphology                      197\nlinear-algebra                        196\nmusic                                 193\nmicroprocessors                       189\nchemical-substances                   185\npolymer-chemistry                     184\ncommon-law                            184\nmeteorology                           178\norganic-compounds                     174\npathogenic-bacteria                   172\nmineralogy                            170\necosystems                            169\ncell-metabolism                       169\neconomic-systems                      163\ntopics-in-ophthalmology               160\northopedics                           157\ntopics-in-agriculture                 156\ncell-cycle                            154\ntopics-in-infectious-diseases         150\natmosphere                            149\nrepresentation-theory                 148\nevolutionary-developmental-biology    148\nnumerical-analysis                    148\npopulation-genetics                   148\ngeography-of-europe                   148\npainting                              148\ntopics-in-neurology                   147\ntopics-in-zoology                     145\nstatistical-mechanics                 144\nembryology                            143\nseismology                            138\nphase-transitions                     138\nstandard-model                        137\nabrahamic-religions                   136\nclassical-mechanics                   134\nspectroscopy                          134\ntopics-in-number-theory               134\nphysical-cosmology                    133",
      "text/html": "<div>\n<style scoped>\n    .dataframe tbody tr th:only-of-type {\n        vertical-align: middle;\n    }\n\n    .dataframe tbody tr th {\n        vertical-align: top;\n    }\n\n    .dataframe thead th {\n        text-align: right;\n    }\n</style>\n<table border=\"1\" class=\"dataframe\">\n  <thead>\n    <tr style=\"text-align: right;\">\n      <th></th>\n      <th>to_id</th>\n    </tr>\n    <tr>\n      <th>from_id</th>\n      <th></th>\n    </tr>\n  </thead>\n  <tbody>\n    <tr>\n      <th>topics-in-psychiatry</th>\n      <td>287</td>\n    </tr>\n    <tr>\n      <th>high-level-programming-languages</th>\n      <td>260</td>\n    </tr>\n    <tr>\n      <th>abstract-algebra</th>\n      <td>257</td>\n    </tr>\n    <tr>\n      <th>organometallic-chemistry</th>\n      <td>247</td>\n    </tr>\n    <tr>\n      <th>graph-theory</th>\n      <td>234</td>\n    </tr>\n    <tr>\n      <th>immune-system</th>\n      <td>234</td>\n    </tr>\n    <tr>\n      <th>topics-in-endocrinology</th>\n      <td>231</td>\n    </tr>\n    <tr>\n      <th>stellar-astronomy</th>\n      <td>228</td>\n    </tr>\n    <tr>\n      <th>cancer</th>\n      <td>226</td>\n    </tr>\n    <tr>\n      <th>mathematical-statistics</th>\n      <td>212</td>\n    </tr>\n    <tr>\n      <th>cardiovascular-disease</th>\n      <td>210</td>\n    </tr>\n    <tr>\n      <th>euclidean-geometry</th>\n      <td>202</td>\n    </tr>\n    <tr>\n      <th>plant-morphology</th>\n      <td>197</td>\n    </tr>\n    <tr>\n      <th>linear-algebra</th>\n      <td>196</td>\n    </tr>\n    <tr>\n      <th>music</th>\n      <td>193</td>\n    </tr>\n    <tr>\n      <th>microprocessors</th>\n      <td>189</td>\n    </tr>\n    <tr>\n      <th>chemical-substances</th>\n      <td>185</td>\n    </tr>\n    <tr>\n      <th>polymer-chemistry</th>\n      <td>184</td>\n    </tr>\n    <tr>\n      <th>common-law</th>\n      <td>184</td>\n    </tr>\n    <tr>\n      <th>meteorology</th>\n      <td>178</td>\n    </tr>\n    <tr>\n      <th>organic-compounds</th>\n      <td>174</td>\n    </tr>\n    <tr>\n      <th>pathogenic-bacteria</th>\n      <td>172</td>\n    </tr>\n    <tr>\n      <th>mineralogy</th>\n      <td>170</td>\n    </tr>\n    <tr>\n      <th>ecosystems</th>\n      <td>169</td>\n    </tr>\n    <tr>\n      <th>cell-metabolism</th>\n      <td>169</td>\n    </tr>\n    <tr>\n      <th>economic-systems</th>\n      <td>163</td>\n    </tr>\n    <tr>\n      <th>topics-in-ophthalmology</th>\n      <td>160</td>\n    </tr>\n    <tr>\n      <th>orthopedics</th>\n      <td>157</td>\n    </tr>\n    <tr>\n      <th>topics-in-agriculture</th>\n      <td>156</td>\n    </tr>\n    <tr>\n      <th>cell-cycle</th>\n      <td>154</td>\n    </tr>\n    <tr>\n      <th>topics-in-infectious-diseases</th>\n      <td>150</td>\n    </tr>\n    <tr>\n      <th>atmosphere</th>\n      <td>149</td>\n    </tr>\n    <tr>\n      <th>representation-theory</th>\n      <td>148</td>\n    </tr>\n    <tr>\n      <th>evolutionary-developmental-biology</th>\n      <td>148</td>\n    </tr>\n    <tr>\n      <th>numerical-analysis</th>\n      <td>148</td>\n    </tr>\n    <tr>\n      <th>population-genetics</th>\n      <td>148</td>\n    </tr>\n    <tr>\n      <th>geography-of-europe</th>\n      <td>148</td>\n    </tr>\n    <tr>\n      <th>painting</th>\n      <td>148</td>\n    </tr>\n    <tr>\n      <th>topics-in-neurology</th>\n      <td>147</td>\n    </tr>\n    <tr>\n      <th>topics-in-zoology</th>\n      <td>145</td>\n    </tr>\n    <tr>\n      <th>statistical-mechanics</th>\n      <td>144</td>\n    </tr>\n    <tr>\n      <th>embryology</th>\n      <td>143</td>\n    </tr>\n    <tr>\n      <th>seismology</th>\n      <td>138</td>\n    </tr>\n    <tr>\n      <th>phase-transitions</th>\n      <td>138</td>\n    </tr>\n    <tr>\n      <th>standard-model</th>\n      <td>137</td>\n    </tr>\n    <tr>\n      <th>abrahamic-religions</th>\n      <td>136</td>\n    </tr>\n    <tr>\n      <th>classical-mechanics</th>\n      <td>134</td>\n    </tr>\n    <tr>\n      <th>spectroscopy</th>\n      <td>134</td>\n    </tr>\n    <tr>\n      <th>topics-in-number-theory</th>\n      <td>134</td>\n    </tr>\n    <tr>\n      <th>physical-cosmology</th>\n      <td>133</td>\n    </tr>\n  </tbody>\n</table>\n</div>"
     },
     "execution_count": 11,
     "metadata": {},
     "output_type": "execute_result"
    }
   ],
   "source": [
    "category_concept_counts.head(50)"
   ],
   "metadata": {
    "collapsed": false,
    "ExecuteTime": {
     "end_time": "2024-09-20T09:01:08.672787Z",
     "start_time": "2024-09-20T09:01:08.664697Z"
    }
   },
   "id": "6306124bc1525fd1"
  },
  {
   "cell_type": "markdown",
   "source": [
    "Distribution of categories by concept count:"
   ],
   "metadata": {
    "collapsed": false
   },
   "id": "2a45e808b3152fa"
  },
  {
   "cell_type": "code",
   "execution_count": 18,
   "outputs": [
    {
     "data": {
      "text/plain": "<Figure size 640x480 with 1 Axes>",
      "image/png": "[encoded data removed]"
     },
     "metadata": {},
     "output_type": "display_data"
    }
   ],
   "source": [
    "category_concept_counts.hist(bins=40)\n",
    "plt.yscale(\"log\")\n",
    "plt.ylabel(\"# of categories\")\n",
    "plt.xlabel(\"# of concepts\")\n",
    "plt.show()"
   ],
   "metadata": {
    "collapsed": false,
    "ExecuteTime": {
     "end_time": "2024-09-20T09:10:31.146650Z",
     "start_time": "2024-09-20T09:10:30.681932Z"
    }
   },
   "id": "34b1cb740affc721"
  },
  {
   "cell_type": "markdown",
   "source": [
    "Empty categories:"
   ],
   "metadata": {
    "collapsed": false
   },
   "id": "e19378b2bf138d20"
  },
  {
   "cell_type": "code",
   "execution_count": 35,
   "outputs": [],
   "source": [
    "all_categories = ontology_data.get_category_to_category()\n",
    "all_d4_categories = {x['child_id'] for x in all_categories}.difference({x['parent_id'] for x in all_categories})\n",
    "nonempty_categories = set(category_concept_df.from_id.values.tolist())\n",
    "missing_categories = all_d4_categories.difference(nonempty_categories)"
   ],
   "metadata": {
    "collapsed": false,
    "ExecuteTime": {
     "end_time": "2024-09-20T09:20:33.033493Z",
     "start_time": "2024-09-20T09:20:33.015752Z"
    }
   },
   "id": "62203ac429a4cc62"
  },
  {
   "cell_type": "code",
   "execution_count": 36,
   "outputs": [
    {
     "data": {
      "text/plain": "755"
     },
     "execution_count": 36,
     "metadata": {},
     "output_type": "execute_result"
    }
   ],
   "source": [
    "len(missing_categories)"
   ],
   "metadata": {
    "collapsed": false,
    "ExecuteTime": {
     "end_time": "2024-09-20T09:20:33.195955Z",
     "start_time": "2024-09-20T09:20:33.181387Z"
    }
   },
   "id": "5f0792455e302cd3"
  },
  {
   "cell_type": "code",
   "execution_count": 37,
   "outputs": [],
   "source": [
    "missing_non_generic = [x for x in missing_categories if 'topics-' not in x and 'entities-' not in x]"
   ],
   "metadata": {
    "collapsed": false,
    "ExecuteTime": {
     "end_time": "2024-09-20T09:20:33.724789Z",
     "start_time": "2024-09-20T09:20:33.717867Z"
    }
   },
   "id": "4a930a2429961e90"
  },
  {
   "cell_type": "code",
   "execution_count": 38,
   "outputs": [
    {
     "data": {
      "text/plain": "451"
     },
     "execution_count": 38,
     "metadata": {},
     "output_type": "execute_result"
    }
   ],
   "source": [
    "len(missing_non_generic)"
   ],
   "metadata": {
    "collapsed": false,
    "ExecuteTime": {
     "end_time": "2024-09-20T09:20:34.233078Z",
     "start_time": "2024-09-20T09:20:34.220146Z"
    }
   },
   "id": "21dd05dd0637679d"
  },
  {
   "cell_type": "code",
   "execution_count": 39,
   "outputs": [
    {
     "data": {
      "text/plain": "['additive-number-theory',\n 'administrative-law',\n 'adult-education',\n 'aeroacoustics',\n 'aeronomy',\n 'aesthetic-representation',\n 'aesthetic-taste',\n 'agricultural-economics',\n 'agroecology',\n 'algaculture',\n 'algebraic-statistics',\n 'algorithmics',\n 'anthropological-linguistics',\n 'anti-politics',\n 'applied-ethics',\n 'approximation-theory',\n 'architectural-design-values',\n 'architecture-criticism',\n 'astrometry',\n 'astrophysical-plasma',\n 'atmospheric-methane',\n 'atmospheric-physics',\n 'attention-economics',\n 'authority',\n 'autonomous-robots',\n 'bacteriology',\n 'behavioral-neuroscience',\n 'behavioral-psychology',\n 'belle-experiment',\n 'biological-oceanography',\n 'biomimetics',\n 'biomolecular-engineering',\n 'bionics',\n 'bioorganic-chemistry',\n 'biophysical-chemistry',\n 'biorobotics',\n 'biosphere',\n 'blended-learning',\n 'brutalist-architecture',\n 'calorimetry',\n 'card-games',\n 'cardiac-imaging',\n 'categorical-logic',\n 'cell-physiology',\n 'cellular-automatons',\n 'censorship',\n 'centrifugation',\n 'ceramic-chemistry',\n 'change-management',\n 'characterization',\n 'chemical-physics',\n 'classical-economics',\n 'classical-genetics',\n 'classical-probability',\n 'click-chemistry',\n 'climate-of-the-united-states',\n 'climatology',\n 'clinical-engineering',\n 'clock-reactions',\n 'cloud-databases',\n 'cluster-compounds',\n 'coastal-engineering',\n 'cognitive-linguistics',\n 'cognitivism',\n 'combustion',\n 'communitarianism',\n 'community-psychology',\n 'comparative-anatomy',\n 'comparative-economic-systems',\n 'comparative-historical-research',\n 'comparative-physiology',\n 'comparative-religion',\n 'computability-logic',\n 'computational-astrophysics',\n 'computational-economics',\n 'computational-linguistics',\n 'computational-mechanics',\n 'computational-number-theory',\n 'computational-sociology',\n 'computational-thermodynamics',\n 'computational-thinking',\n 'concentrated-solar-power',\n 'conflict-management',\n 'constitutional-economics',\n 'content-repositories',\n 'continuous-optimization',\n 'continuum-mechanics',\n 'conveyor-system',\n 'corporatism',\n 'counseling-psychology',\n 'count-data',\n 'creativity',\n 'criminal-investigation',\n 'criminal-procedure',\n 'crisis-management',\n 'critical-psychology',\n 'critical-systems-thinking',\n 'critical-thinking',\n 'cross-cultural-psychology',\n 'cryochemistry',\n 'crystal-engineering',\n 'cultural-economics',\n 'cultural-geography',\n 'cultural-history',\n 'cultural-psychology',\n 'dairy-farming',\n 'data',\n 'decarbonylation',\n 'definitions-of-philosophy',\n 'demographic-economics',\n 'dendrochronology',\n 'density-estimation',\n 'dependable-systems',\n 'description-logic',\n 'development-geography',\n 'development-studies',\n 'deviant-logic',\n 'differential-algebra',\n 'differential-psychology',\n 'differential-topology',\n 'digital-signal-processing',\n 'direct-instruction',\n 'discrete-calculus',\n 'discrete-differential-geometry',\n 'discrete-optimization',\n 'distributed-databases',\n 'drilling-engineering',\n 'earthquake-resistant-structures',\n 'economic-development',\n 'economic-history',\n 'econophysics',\n 'education-economics',\n 'electroanalytical-methods',\n 'elemental-analysis',\n 'elementary-algebra',\n 'entrepreneurial-economics',\n 'environmental-psychology',\n 'ethnic-religions',\n 'etymology',\n 'event-stores',\n 'evolutionary-genetics',\n 'evolutionary-origin-of-religions',\n 'evolutionary-psychology-of-religion',\n 'exact-statistics',\n 'executive-branch',\n 'exoplanetology',\n 'extragalactic-astronomy',\n 'failure-mode-and-effects-analysis',\n 'family-economics',\n 'federated-database-systems',\n 'feminist-economics',\n 'file-formats',\n 'floriculture',\n 'flue-gas',\n 'food-engineering',\n 'food-microbiology',\n 'foodomics',\n 'forensic-linguistics',\n 'foundations',\n 'foundations-of-statistics',\n 'free-logic',\n 'frequentist-inference',\n 'frequentist-probability',\n 'functional-data-analysis',\n 'functional-psychology',\n 'fungiculture',\n 'galactic-astronomy',\n 'generalized-trigonometry',\n 'genetic-epidemiology',\n 'geography-of-antarctica',\n 'geomatics',\n 'geometric-number-theory',\n 'geophysics',\n 'geopolitics',\n 'geostatistics',\n 'gerontology',\n 'gestalt-therapy',\n 'glaciology',\n 'global-analysis',\n 'global-change',\n 'harmonic-analysis',\n 'health-economics',\n 'health-geography',\n 'heat-transfer-physics',\n 'heliciculture',\n 'helminthology',\n 'high-dimensional-statistics',\n 'higher-order-logic',\n 'highway-engineering',\n 'historical-geography',\n 'household-chemicals',\n 'humanistic-psychology',\n 'hydrogenation',\n 'ichthyology',\n 'identity-in-philosophy',\n 'imperative-logic',\n 'imperative-programming',\n 'industrial-sociology',\n 'infinitary-logic',\n 'information-economics',\n 'inquiry-based-learning',\n 'insect-ecology',\n 'insect-farming',\n 'institutional-economics',\n 'institutional-theory',\n 'institutionalist-political-economy',\n 'instrumental-chemistry',\n 'intermediate-logic',\n 'international-economics',\n 'internet-linguistics',\n 'invention',\n 'iron-age',\n 'judicial-branch',\n 'justice',\n 'justification',\n 'kinesthetic-learning',\n 'knowledge-graphs',\n 'kolmogorov-complexity',\n 'landscape-ecology',\n 'language-assessment',\n 'language-documentation',\n 'language-geography',\n 'language-revitalization',\n 'learning-by-teaching',\n 'learning-spaces',\n 'lexis',\n 'light-dependent-reactions',\n 'limnology',\n 'linguistic-formalism',\n 'linguistic-relativity',\n 'linguistic-typology',\n 'logic-circuits',\n 'magnetochemistry',\n 'majoritarianism',\n 'malacology',\n 'mammalogy',\n 'managerial-economics',\n 'marine-chemistry',\n 'marketing-management',\n 'mathematical-economics',\n 'mathematical-psychology',\n 'mathematics-and-architecture',\n 'meaning-in-philosophy',\n 'mechatronics-engineering',\n 'medical-psychology',\n 'metalogic',\n 'metamathematics',\n 'microbial-ecology',\n 'microbial-genetics',\n 'microwave-chemistry',\n 'minimal-intervention-dentistry',\n 'mixed-reality',\n 'mobile-app-development',\n 'mobile-networks',\n 'mobile-robots',\n 'models-of-computation',\n 'molecular-binding',\n 'molecular-mechanics',\n 'molecular-modelling',\n 'molecular-neuroscience',\n 'monetary-economics',\n 'multiprocessing',\n 'municipal-law',\n 'musical-acoustics',\n 'naval-architecture',\n 'nematology',\n 'network-nodes',\n 'networked-learning',\n 'neuroeconomics',\n 'neuroendocrinology',\n 'neuroethology',\n 'neurogenetics',\n 'neuroimmunology',\n 'neuropharmacology',\n 'noise-control',\n 'non-monotonic-logic',\n 'non-reflexive-logic',\n 'non-standard-analysis',\n 'normative-ethics',\n 'nuclear-power-plant',\n 'nursing-process',\n 'nursing-theory',\n 'nutritional-science',\n 'observational-study',\n 'offshore-geotechnical-engineering',\n 'olericulture',\n 'open-classrooms',\n 'operations-management',\n 'opinion-poll',\n 'optical-fibers',\n 'oral-and-maxillofacial-surgery',\n 'oral-medicine',\n 'organization-development',\n 'organizational-planning',\n 'ornithology',\n 'osteology',\n 'oyster-farming',\n 'ozone-depletion',\n 'p-adic-analysis',\n 'paleobiology',\n 'paleoceanography',\n 'paleogeography',\n 'palynology',\n 'paper-engineering',\n 'paraconsistent-logic',\n 'paradigm-shift',\n 'parametric-statistics',\n 'pathfinding',\n 'pattern-language',\n 'pediatric-dentistry',\n 'pedology',\n 'petroleum-production-engineering',\n 'pharmaceutical-engineering',\n 'pharmaceutics',\n 'pharmacoepigenetics',\n 'pharmacogenomics',\n 'pharmacognosy',\n 'pharmacometabolomics',\n 'pharmacomicrobiomics',\n 'phenology',\n 'philosophical-methodology',\n 'photobiology',\n 'photometry',\n 'phycology',\n 'physical-oceanography',\n 'plant-anatomy',\n 'plant-ecology',\n 'plant-genetics',\n 'plant-reproduction',\n 'plastics-engineering',\n 'plate-theory',\n 'policy-studies',\n 'political-behavior',\n 'political-economy',\n 'political-geography',\n 'political-history',\n 'political-psychology',\n 'polymer-engineering',\n 'pomology',\n 'population-geography',\n 'port-forwarding',\n 'power-system-protection',\n 'probabilistic-number-theory',\n 'procedural-law',\n 'processing-units',\n 'processor-design',\n 'product-distribution',\n 'progressivism',\n 'propensity-probability',\n 'prose',\n 'prosthodontics',\n 'protease-inhibitors',\n 'psychiatric-genetics',\n 'psychodynamic-psychotherapy',\n 'public-economics',\n 'public-law',\n 'quantitative-genetics',\n 'quantitative-linguistics',\n 'quantitative-psychology',\n 'quantities-of-information',\n 'quantum-biology',\n 'quantum-logic',\n 'quaternary-science',\n 'radiochemistry',\n 'randomized-algorithms',\n 'rational-trigonometry',\n 'reaction-mechanism',\n 'real-estate-economics',\n 'reference-in-philosophy',\n 'regional-economics',\n 'renewable-energy-in-india',\n 'resampling',\n 'reservoir-engineering',\n 'resource-economics',\n 'resource-management',\n 'retaining-walls',\n 'river-engineering',\n 'rural-sociology',\n 'scalar-analysis',\n 'scientific-explanation',\n 'scientific-realism',\n 'scientific-writing',\n 'second-order-logic',\n 'sedimentology',\n 'seismic-analysis',\n 'skepticism',\n 'skills-management',\n 'small-solar-system-bodies',\n 'social-organizations',\n 'socialist-economics',\n 'socioeconomics',\n 'sociology-of-culture',\n 'sociology-of-education',\n 'soft-systems-methodology',\n 'software-development-kits',\n 'software-quality',\n 'solar-physics',\n 'solid-phase-synthesis',\n 'solid-state-chemistry',\n 'sonochemistry',\n 'space-syntax',\n 'space-tourism',\n 'speech-synthesis',\n 'spherical-trigonometry',\n 'spin-chemistry',\n 'statistical-theory',\n 'stone-age',\n 'structural-biology',\n 'structural-engineering-theory',\n 'substantive-law',\n 'subsurface-engineering',\n 'summary-statistics',\n 'supervised-learning',\n 'supply-chain-engineering',\n 'swarm-intelligence',\n 'symbolic-interactionism',\n 'syndicalism',\n 'system-dynamics',\n 'systemic-design',\n 'systems-neuroscience',\n 'systems-psychology',\n 'telecommunications-engineering',\n 'term-logic',\n 'tertiary-education',\n 'thermoeconomics',\n 'topical-logic',\n 'tourism-geography',\n 'trigonometric-differentiation',\n 'trigonometric-integration',\n 'trigonometric-interpolation',\n 'trigonometric-polynomials',\n 'trigonometric-series',\n 'ubiquitous-computing',\n 'underwater-acoustics',\n 'universal-algebra',\n 'unstructured-data',\n 'urban-history',\n 'urban-sociology',\n 'very-large-scale-integration',\n 'viable-system-model',\n 'video-game-development',\n 'video-processing',\n 'virophysics',\n 'virtual-learning-environment',\n 'vocational-education',\n 'web-development',\n 'welfare-economics',\n 'wet-chemistry',\n 'womens-history',\n 'world-economy',\n 'writers']"
     },
     "execution_count": 39,
     "metadata": {},
     "output_type": "execute_result"
    }
   ],
   "source": [
    "sorted([x for x in missing_categories if 'topics-' not in x and 'entities-' not in x])"
   ],
   "metadata": {
    "collapsed": false,
    "ExecuteTime": {
     "end_time": "2024-09-20T09:20:34.691439Z",
     "start_time": "2024-09-20T09:20:34.685081Z"
    }
   },
   "id": "87c2f3b252d341d6"
  },
  {
   "cell_type": "markdown",
   "source": [
    "## OpenAlex concepts"
   ],
   "metadata": {
    "collapsed": false
   },
   "id": "b1501e3e920cdee4"
  },
  {
   "cell_type": "code",
   "execution_count": 45,
   "outputs": [],
   "source": [
    "import json\n",
    "openalex_all = json.load(open('openalex_concepts.json', 'r'))\n",
    "openalex_concept_ids = {str(x['wikipedia_id']) for x in openalex_all}"
   ],
   "metadata": {
    "collapsed": false,
    "ExecuteTime": {
     "end_time": "2024-09-20T13:12:31.917155Z",
     "start_time": "2024-09-20T13:12:31.297046Z"
    }
   },
   "id": "9c937b605173e20b"
  },
  {
   "cell_type": "code",
   "execution_count": 46,
   "outputs": [
    {
     "data": {
      "text/plain": "(37316, 58720, 28938, 29782)"
     },
     "execution_count": 46,
     "metadata": {},
     "output_type": "execute_result"
    }
   ],
   "source": [
    "all_ontology_concepts = set(category_concept_df['to_id'].values.tolist())\n",
    "len(all_ontology_concepts), len(openalex_concept_ids), len(openalex_concept_ids.intersection(all_ontology_concepts)), len(openalex_concept_ids.difference(all_ontology_concepts))"
   ],
   "metadata": {
    "collapsed": false,
    "ExecuteTime": {
     "end_time": "2024-09-20T13:12:32.377070Z",
     "start_time": "2024-09-20T13:12:32.367054Z"
    }
   },
   "id": "eef9af53793a608c"
  },
  {
   "cell_type": "markdown",
   "source": [
    "So basically half the OpenAlex concepts are now in the ontology and half remain to be added."
   ],
   "metadata": {
    "collapsed": false
   },
   "id": "4239cba870cdc9e6"
  },
  {
   "cell_type": "code",
   "execution_count": null,
   "outputs": [],
   "source": [],
   "metadata": {
    "collapsed": false
   },
   "id": "49f425f54a0be7a5"
  }
 ],
 "metadata": {
  "kernelspec": {
   "display_name": "Python 3",
   "language": "python",
   "name": "python3"
  },
  "language_info": {
   "codemirror_mode": {
    "name": "ipython",
    "version": 2
   },
   "file_extension": ".py",
   "mimetype": "text/x-python",
   "name": "python",
   "nbconvert_exporter": "python",
   "pygments_lexer": "ipython2",
   "version": "2.7.6"
  }
 },
 "nbformat": 4,
 "nbformat_minor": 5
}
