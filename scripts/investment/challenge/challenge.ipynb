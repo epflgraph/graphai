{
 "cells": [
  {
   "cell_type": "markdown",
   "metadata": {},
   "source": [
    "# Graph analysis and prediction of new edges\n",
    "\n",
    "*(Author: Aitor Pérez Pérez)*\n",
    "\n",
    "The goal of this notebook is to reconstruct the graph of co-authorships at EPFL inferred by the provided data files and perform a statistical ML-based analysis. More precisely, we want to predict the future structure of the graph based on its past and present structure.\n",
    "\n",
    "The notebook is structured as follows:\n",
    "1. **Preliminaries**\n",
    "2. **Graph construction**\n",
    "3. **Preparation before prediction**\n",
    "4. **Prediction of new edges (without weight nor community)**\n",
    "5. **Prediction of new edges (with weight and community)**\n",
    "6. **Model comparison**\n",
    "7. **Construction of predicted graphs**\n"
   ]
  },
  {
   "cell_type": "markdown",
   "metadata": {},
   "source": [
    "## 1. Preliminaries\n",
    "\n",
    "### Reading data\n",
    "\n",
    "We read the data files onto variables that we will use for the graph reconstruction."
   ]
  },
  {
   "cell_type": "code",
   "execution_count": 1,
   "metadata": {
    "collapsed": false,
    "jupyter": {
     "outputs_hidden": false
    },
    "pycharm": {
     "name": "#%%\n"
    }
   },
   "outputs": [],
   "source": [
    "import json\n",
    "\n",
    "# Read data files\n",
    "import numpy as np\n",
    "\n",
    "with open('data/Person_Lab_Map.json') as f:\n",
    "    people = json.load(f)\n",
    "\n",
    "with open('data/Publication_Year.json') as f:\n",
    "    pubs = json.load(f)\n",
    "\n",
    "with open('data/Publication_Person_Map.json') as f:\n",
    "    authorships = json.load(f)"
   ]
  },
  {
   "cell_type": "markdown",
   "metadata": {},
   "source": [
    "### Data integrity checkup\n",
    "\n",
    "We start checking the integrity of the data. For that, it will be useful to extract lists from the data we just read."
   ]
  },
  {
   "cell_type": "code",
   "execution_count": 2,
   "metadata": {
    "collapsed": false,
    "jupyter": {
     "outputs_hidden": false
    },
    "pycharm": {
     "name": "#%%\n"
    }
   },
   "outputs": [],
   "source": [
    "# Create lists for data integrity validation\n",
    "lab_ids = [person['LabID'] for person in people]\n",
    "people_ids = [person['PersonID'] for person in people]\n",
    "\n",
    "author_ids = [authorship['PersonID'] for authorship in authorships]\n",
    "authored_pub_ids = [authorship['PublicationID'] for authorship in authorships]\n",
    "\n",
    "pub_ids = [pub['PublicationID'] for pub in pubs]\n",
    "years = [pub['Year'] for pub in pubs]"
   ]
  },
  {
   "cell_type": "markdown",
   "metadata": {},
   "source": [
    "We set variables containing the total number of unique labs, people and publications present in the data."
   ]
  },
  {
   "cell_type": "code",
   "execution_count": 3,
   "metadata": {
    "collapsed": false,
    "jupyter": {
     "outputs_hidden": false
    },
    "pycharm": {
     "name": "#%%\n"
    }
   },
   "outputs": [
    {
     "name": "stdout",
     "output_type": "stream",
     "text": [
      "Number of unique labs: 441\n",
      "Number of unique people: 10608\n",
      "Number of unique publications: 68785\n"
     ]
    }
   ],
   "source": [
    "n_labs = len(set(lab_ids))\n",
    "n_people = len(set(people_ids))\n",
    "n_pubs = len(set(pub_ids))\n",
    "\n",
    "print('Number of unique labs:', n_labs)\n",
    "print('Number of unique people:', n_people)\n",
    "print('Number of unique publications:', n_pubs)"
   ]
  },
  {
   "cell_type": "markdown",
   "metadata": {},
   "source": [
    "Now we perform some checks. For instance, we make sure every person has one and only one lab in the *Person_Lab_Map* dataset."
   ]
  },
  {
   "cell_type": "code",
   "execution_count": 4,
   "metadata": {
    "collapsed": false,
    "jupyter": {
     "outputs_hidden": false
    },
    "pycharm": {
     "name": "#%%\n"
    }
   },
   "outputs": [],
   "source": [
    "assert len(people_ids) == n_people"
   ]
  },
  {
   "cell_type": "markdown",
   "metadata": {},
   "source": [
    "We also verify that all the people associated with publications in the *Publication_Person_Map* appears in the *Person_Lab_Map* dataset."
   ]
  },
  {
   "cell_type": "code",
   "execution_count": 5,
   "metadata": {
    "collapsed": false,
    "jupyter": {
     "outputs_hidden": false
    },
    "pycharm": {
     "name": "#%%\n"
    }
   },
   "outputs": [],
   "source": [
    "assert len(set(author_ids)) == n_people"
   ]
  },
  {
   "cell_type": "markdown",
   "metadata": {},
   "source": [
    "We make sure that the publications in the *Publication_Year* dataset do not appear twice, possibly with two different years."
   ]
  },
  {
   "cell_type": "code",
   "execution_count": 6,
   "metadata": {
    "collapsed": false,
    "jupyter": {
     "outputs_hidden": false
    },
    "pycharm": {
     "name": "#%%\n"
    }
   },
   "outputs": [],
   "source": [
    "assert len(pub_ids) == n_pubs"
   ]
  },
  {
   "cell_type": "markdown",
   "metadata": {},
   "source": [
    "We check that every publication in the *Publication_Person_Map* dataset is associated with a year in the *Publication_Year* dataset."
   ]
  },
  {
   "cell_type": "code",
   "execution_count": 7,
   "metadata": {
    "collapsed": false,
    "jupyter": {
     "outputs_hidden": false
    },
    "pycharm": {
     "name": "#%%\n"
    }
   },
   "outputs": [
    {
     "ename": "AssertionError",
     "evalue": "",
     "output_type": "error",
     "traceback": [
      "\u001b[0;31m---------------------------------------------------------------------------\u001b[0m",
      "\u001b[0;31mAssertionError\u001b[0m                            Traceback (most recent call last)",
      "\u001b[0;32m/var/folders/m0/ytk3_jy95pd69w7yb_vw87k00000gn/T/ipykernel_17841/3158463516.py\u001b[0m in \u001b[0;36m<module>\u001b[0;34m\u001b[0m\n\u001b[0;32m----> 1\u001b[0;31m \u001b[0;32massert\u001b[0m \u001b[0mlen\u001b[0m\u001b[0;34m(\u001b[0m\u001b[0mset\u001b[0m\u001b[0;34m(\u001b[0m\u001b[0mauthored_pub_ids\u001b[0m\u001b[0;34m)\u001b[0m\u001b[0;34m)\u001b[0m \u001b[0;34m==\u001b[0m \u001b[0mn_pubs\u001b[0m\u001b[0;34m\u001b[0m\u001b[0;34m\u001b[0m\u001b[0m\n\u001b[0m",
      "\u001b[0;31mAssertionError\u001b[0m: "
     ]
    }
   ],
   "source": [
    "assert len(set(authored_pub_ids)) == n_pubs"
   ]
  },
  {
   "cell_type": "markdown",
   "metadata": {},
   "source": [
    "The assumption is not satisfied, let us check what happens. There seems to be one more publication in the *Publication_Person_Map* dataset than in the *Publication_Year* dataset."
   ]
  },
  {
   "cell_type": "code",
   "execution_count": 8,
   "metadata": {
    "collapsed": false,
    "jupyter": {
     "outputs_hidden": false
    },
    "pycharm": {
     "name": "#%%\n"
    }
   },
   "outputs": [
    {
     "data": {
      "text/plain": [
       "68786"
      ]
     },
     "execution_count": 8,
     "metadata": {},
     "output_type": "execute_result"
    }
   ],
   "source": [
    "len(set(authored_pub_ids))"
   ]
  },
  {
   "cell_type": "markdown",
   "metadata": {},
   "source": [
    "We find out the ID of the extra publication simply after a set difference operation."
   ]
  },
  {
   "cell_type": "code",
   "execution_count": 9,
   "metadata": {
    "collapsed": false,
    "jupyter": {
     "outputs_hidden": false
    },
    "pycharm": {
     "name": "#%%\n"
    }
   },
   "outputs": [
    {
     "data": {
      "text/plain": [
       "{288914}"
      ]
     },
     "execution_count": 9,
     "metadata": {},
     "output_type": "execute_result"
    }
   ],
   "source": [
    "extra_pub_ids = set(authored_pub_ids) - set(pub_ids)\n",
    "extra_pub_ids"
   ]
  },
  {
   "cell_type": "markdown",
   "metadata": {},
   "source": [
    "Let us now check how far this inconsistency affects the rest of the data. There is only one author for the missing publication."
   ]
  },
  {
   "cell_type": "code",
   "execution_count": 10,
   "metadata": {
    "collapsed": false,
    "jupyter": {
     "outputs_hidden": false
    },
    "pycharm": {
     "name": "#%%\n"
    }
   },
   "outputs": [
    {
     "data": {
      "text/plain": [
       "[169209]"
      ]
     },
     "execution_count": 10,
     "metadata": {},
     "output_type": "execute_result"
    }
   ],
   "source": [
    "extra_authorships = [authorship for authorship in authorships if authorship['PublicationID'] in extra_pub_ids]\n",
    "extra_author_ids = [authorship['PersonID'] for authorship in extra_authorships]\n",
    "extra_author_ids"
   ]
  },
  {
   "cell_type": "markdown",
   "metadata": {},
   "source": [
    "However, the author seems to have many other valid publications."
   ]
  },
  {
   "cell_type": "code",
   "execution_count": 11,
   "metadata": {
    "collapsed": false,
    "jupyter": {
     "outputs_hidden": false
    },
    "pycharm": {
     "name": "#%%\n"
    }
   },
   "outputs": [
    {
     "data": {
      "text/plain": [
       "349"
      ]
     },
     "execution_count": 11,
     "metadata": {},
     "output_type": "execute_result"
    }
   ],
   "source": [
    "len([authorship for authorship in authorships if authorship['PersonID'] in extra_author_ids])"
   ]
  },
  {
   "cell_type": "markdown",
   "metadata": {},
   "source": [
    "And the author seems to be present in the *Person_Lab_Map* dataset."
   ]
  },
  {
   "cell_type": "code",
   "execution_count": 12,
   "metadata": {
    "collapsed": false,
    "jupyter": {
     "outputs_hidden": false
    },
    "pycharm": {
     "name": "#%%\n"
    }
   },
   "outputs": [
    {
     "data": {
      "text/plain": [
       "[{'PersonID': 169209, 'LabID': 'ECOL'}]"
      ]
     },
     "execution_count": 12,
     "metadata": {},
     "output_type": "execute_result"
    }
   ],
   "source": [
    "[person for person in people if person['PersonID'] in extra_author_ids]"
   ]
  },
  {
   "cell_type": "markdown",
   "metadata": {},
   "source": [
    "To avoid the inconsistency, we decide to delete the entry corresponding to this publication from the *Publication_Person_Map* data, but leaving its author and the rest of its publications."
   ]
  },
  {
   "cell_type": "code",
   "execution_count": 13,
   "metadata": {
    "collapsed": false,
    "jupyter": {
     "outputs_hidden": false
    },
    "pycharm": {
     "name": "#%%\n"
    }
   },
   "outputs": [],
   "source": [
    "authorships = [authorship for authorship in authorships if authorship['PublicationID'] not in extra_pub_ids]\n",
    "\n",
    "author_ids = [authorship['PersonID'] for authorship in authorships]\n",
    "authored_pub_ids = [authorship['PublicationID'] for authorship in authorships]"
   ]
  },
  {
   "cell_type": "markdown",
   "metadata": {},
   "source": [
    "We may now make sure that our assumption holds, i.e. that every publication in the *Publication_Person_Map* dataset is associated with a year in the *Publication_Year* dataset."
   ]
  },
  {
   "cell_type": "code",
   "execution_count": 14,
   "metadata": {
    "collapsed": false,
    "jupyter": {
     "outputs_hidden": false
    },
    "pycharm": {
     "name": "#%%\n"
    }
   },
   "outputs": [],
   "source": [
    "assert len(set(authored_pub_ids)) == n_pubs"
   ]
  },
  {
   "cell_type": "markdown",
   "metadata": {},
   "source": [
    "Finally, we convert the data into pandas DataFrames."
   ]
  },
  {
   "cell_type": "code",
   "execution_count": 15,
   "metadata": {
    "collapsed": false,
    "jupyter": {
     "outputs_hidden": false
    },
    "pycharm": {
     "name": "#%%\n"
    }
   },
   "outputs": [
    {
     "name": "stdout",
     "output_type": "stream",
     "text": [
      "Number of people: 10608\n",
      "Number of publications: 68785\n",
      "Number of authorships: 145685\n"
     ]
    }
   ],
   "source": [
    "import pandas as pd\n",
    "\n",
    "people = pd.DataFrame(people)\n",
    "pubs = pd.DataFrame(pubs)\n",
    "authorships = pd.DataFrame(authorships)\n",
    "\n",
    "print('Number of people:', len(people))\n",
    "print('Number of publications:', len(pubs))\n",
    "print('Number of authorships:', len(authorships))"
   ]
  },
  {
   "cell_type": "markdown",
   "metadata": {},
   "source": [
    "## 2. Graph construction\n",
    "\n",
    "We are now ready to build the graph which will represent the data.\n",
    "\n",
    "Let *P = [y_min, ..., y_max]* be a period in years (i.e. a list of consecutive integers). We define the graph *G_P* associated with *P* as follows:\n",
    "* Its node set is the set of people with a publication during *P* with multiple authors.\n",
    "* There is an edge between two people if they co-authored a publication during *P*.\n",
    "* Nodes carry the person's lab information in their attributes as the community.\n",
    "* Edges are weighted. The weight of the edge from u to v is the sum for every year *y* in *P* of *c_y* * *p_y*, where\n",
    "    * *p_y* is the number of co-authorships by *u* and *v* in the year *y*.\n",
    "    * *c_y = (1 + (y - y_min)/(y_max - y_min))/2*. This ensures that *c_y* belongs to [1/2, 1] and gives more importance to more recent collaborations, while not ignoring older ones."
   ]
  },
  {
   "cell_type": "code",
   "execution_count": 16,
   "metadata": {
    "collapsed": false,
    "jupyter": {
     "outputs_hidden": false
    },
    "pycharm": {
     "name": "#%%\n"
    }
   },
   "outputs": [],
   "source": [
    "def edge_weight(history, ymin, ymax):\n",
    "    period = range(ymin, ymax + 1)\n",
    "    cy = [(1 + (y - ymin)/(ymax - ymin))/2 for y in period]\n",
    "    py = [len(history.get(y, [])) for y in period]\n",
    "\n",
    "    return sum(a*b for a, b in zip(cy, py))"
   ]
  },
  {
   "cell_type": "markdown",
   "metadata": {},
   "source": [
    "The following function **build_graph** takes as input the data and a period *P* and constructs and outputs the graph *G_P* as defined above. We do so as follows:\n",
    "1. Restrict data to the given period *P* by defining the variables **period_pubs** and **period_authorships**.\n",
    "2. Group authorships by publication. We define a DataFrame **period_coauthorships** with to columns: PublicationID and Coauthorship. For each publication with more than one author, it contains a row with each pair of co-authors.\n",
    "3. We add the year of publication to **period_coauthorships**.\n",
    "4. We group by each co-authorship (i.e. each pair of authors). For each pair, we produce a dictionary containing the information of all publications involving both. The resulting DataFrame **coauthorship_history** consists of\n",
    "    * A **Coauthorship** unique column containing all pairs of co-authors.\n",
    "    * A **History** column containing a dictionary whose keys are years and whose values are lists of publication IDs, corresponding to the common publications for both authors that year.\n",
    "5. Restrict people data to the given period *P* by defining the variable **period_people**.\n",
    "6. Add attributes to nodes and edges and build the graph."
   ]
  },
  {
   "cell_type": "code",
   "execution_count": 17,
   "metadata": {
    "collapsed": false,
    "jupyter": {
     "outputs_hidden": false
    },
    "pycharm": {
     "name": "#%%\n"
    }
   },
   "outputs": [],
   "source": [
    "from itertools import combinations\n",
    "import networkx as nx\n",
    "\n",
    "def build_graph(people, pubs, authorships, period):\n",
    "    # 1. Restrict data to period\n",
    "    period_pubs = pubs.query('Year == @period')\n",
    "    period_authorships = pd.merge(authorships, period_pubs['PublicationID'], how='inner')\n",
    "    period_people = pd.merge(people, period_authorships['PersonID'], how='inner').drop_duplicates()\n",
    "\n",
    "    # 2. Group by publication and generate all pairs of co-authorships.\n",
    "    period_coauthorships = period_authorships.groupby('PublicationID')['PersonID'].apply(lambda x : list(combinations(sorted(x.values), 2))).apply(pd.Series).stack().reset_index(level=0, name='Coauthorship')\n",
    "\n",
    "    # 3. Add year information\n",
    "    period_coauthorships = pd.merge(period_coauthorships, pubs, how='left')\n",
    "\n",
    "    # 4. Aggregate by co-authorship (i.e. pair of authors)\n",
    "    def groupby_year(x):\n",
    "        return x.groupby('Year')['PublicationID'].apply(lambda y: list(y)).to_dict()\n",
    "\n",
    "    coauthorship_history = period_coauthorships.groupby('Coauthorship')[['PublicationID', 'Year']].apply(groupby_year).reset_index(name='History')\n",
    "\n",
    "    # 5. Restrict people to period\n",
    "    period_people_ids = list(set([x for t in coauthorship_history['Coauthorship'].to_list() for x in t]))\n",
    "    period_people = pd.DataFrame({'PersonID': period_people_ids})\n",
    "    period_people = pd.merge(period_people, people, how='left')\n",
    "\n",
    "    # 6. Put together additional information for nodes and edges and build the graph\n",
    "    nodes = list(period_people['PersonID'])\n",
    "    node_attrs = list(period_people['LabID'])\n",
    "    nodes_with_attrs = [(nodes[i], {'community': node_attrs[i]}) for i in range(len(nodes))]\n",
    "\n",
    "    edges = list(coauthorship_history['Coauthorship'])\n",
    "    edge_attrs = list(coauthorship_history['History'])\n",
    "    edges_with_attrs = [edges[i] + ({'weight': edge_weight(edge_attrs[i], min(period), max(period))},) for i in range(len(edges))]\n",
    "\n",
    "    G = nx.Graph()\n",
    "    G.add_nodes_from(nodes_with_attrs)\n",
    "    G.add_edges_from(edges_with_attrs)\n",
    "\n",
    "    return G"
   ]
  },
  {
   "cell_type": "markdown",
   "metadata": {},
   "source": [
    "## 3. Preparation before prediction\n",
    "\n",
    "### Input parameters\n",
    "\n",
    "Our input parameters are the following:\n",
    "* **present_year**: Simulated present year. Must be an integer between 2004 and 2021.\n",
    "* **n_past_years**: Number of additional years in the past for which we consider data. Must be an integer such that 1 <= **n_past_years** <= **present_year** - 2003.\n",
    "* **n_future_years**: Number of years in the future for which we want to predict new co-authorships. Must be an integer such that 1 <= **future_years**."
   ]
  },
  {
   "cell_type": "code",
   "execution_count": 18,
   "metadata": {
    "collapsed": false,
    "jupyter": {
     "outputs_hidden": false
    },
    "pycharm": {
     "name": "#%%\n"
    }
   },
   "outputs": [],
   "source": [
    "present_year = 2011\n",
    "n_past_years = 3\n",
    "n_future_years = 2"
   ]
  },
  {
   "cell_type": "markdown",
   "metadata": {},
   "source": [
    "### Train/validation split\n",
    "\n",
    "By design choice, **all our models will predict new edges for the graph in the following year**. In order to provide predictions in the subsequent years, we shall iterate the process as many times as needed.\n",
    "\n",
    "Once the input parameters are defined, and in order to train the models, we need to split the graph into training and validation subsets. A simple way of doing this is simply splitting the graph by year. Our **training set will be the graph corresponding to the period defined by the past years** and the **validation set will be the graph corresponding to the new edges**, i.e. a graph with the same set of nodes and with new edges added in the present year between already present nodes."
   ]
  },
  {
   "cell_type": "code",
   "execution_count": 19,
   "metadata": {
    "collapsed": false,
    "jupyter": {
     "outputs_hidden": false
    },
    "pycharm": {
     "name": "#%%\n"
    }
   },
   "outputs": [],
   "source": [
    "train_period = list(range(present_year - n_past_years, present_year))\n",
    "\n",
    "G_train = build_graph(people, pubs, authorships, train_period)\n",
    "G_full = build_graph(people, pubs, authorships, train_period + [present_year])\n",
    "\n",
    "new_edges = G_full.subgraph(G_train).edges - G_train.edges\n",
    "new_edges = [(min(u, v), max(u, v)) for (u, v) in new_edges]"
   ]
  },
  {
   "cell_type": "markdown",
   "metadata": {},
   "source": [
    "### Simplification to reduce complexity\n",
    "\n",
    "We now face a problem with complexity. An ideal approach would be to generate all pairs of nodes which do not share an edge (non-edges), and evaluate for each of them different score measurements in order to decide whether to add that particular edge. This approach, however, does not scale well, since for a graph with *n* nodes and *m* edges, the number of non-edges is *n(n-1) - m*, quadratic in the number of nodes. In our case, we have thousands of vertices and hence milions of non-edges. We need to find a different approach."
   ]
  },
  {
   "cell_type": "code",
   "execution_count": 20,
   "metadata": {
    "collapsed": false,
    "jupyter": {
     "outputs_hidden": false
    },
    "pycharm": {
     "name": "#%%\n"
    }
   },
   "outputs": [
    {
     "data": {
      "text/plain": [
       "9585710"
      ]
     },
     "execution_count": 20,
     "metadata": {},
     "output_type": "execute_result"
    }
   ],
   "source": [
    "n_nodes = len(nx.nodes(G_train))\n",
    "n_edges = len(nx.edges(G_train))\n",
    "\n",
    "n_possible_non_edges = n_nodes*(n_nodes-1) - n_edges\n",
    "n_possible_non_edges"
   ]
  },
  {
   "cell_type": "markdown",
   "metadata": {},
   "source": [
    "A possible solution is to **assume that new edges only occur between nodes at a given (small) distance**. In that case, we do not need to generate all non-edges, but only those between such pairs of nodes. For the sake of simplicity, we decide to set this distance to 2. Notice that this limitation does not affect some of the predictive models like the Jaccard coefficient or the Adamic Adar index.\n",
    "\n",
    "The helper function **step_2_neighbors** takes a graph *G* and a node *u* as parameter and returns a set of the nodes at distance exactly 2 of *u*."
   ]
  },
  {
   "cell_type": "code",
   "execution_count": 21,
   "metadata": {
    "collapsed": false,
    "jupyter": {
     "outputs_hidden": false
    },
    "pycharm": {
     "name": "#%%\n"
    }
   },
   "outputs": [],
   "source": [
    "def step_2_neighbors(G, u):\n",
    "    u_neighbors = set(G.neighbors(u))\n",
    "    u_2neighbors = set()\n",
    "\n",
    "    for v in u_neighbors:\n",
    "        u_2neighbors |= set(G.neighbors(v))\n",
    "\n",
    "    return u_2neighbors - u_neighbors - set([u])"
   ]
  },
  {
   "cell_type": "markdown",
   "metadata": {},
   "source": [
    "We now generate the set of non-edges we are considering."
   ]
  },
  {
   "cell_type": "code",
   "execution_count": 22,
   "metadata": {
    "collapsed": false,
    "jupyter": {
     "outputs_hidden": false
    },
    "pycharm": {
     "name": "#%%\n"
    }
   },
   "outputs": [],
   "source": [
    "def step_2_non_edges(G):\n",
    "    non_edges = set()\n",
    "    for u in G.nodes:\n",
    "        u_2neighbors = step_2_neighbors(G, u)\n",
    "        u_non_edges = set((min(u, v), max(u, v)) for v in u_2neighbors)\n",
    "        non_edges |= u_non_edges\n",
    "    return non_edges\n",
    "\n",
    "non_edges = step_2_non_edges(G_train)"
   ]
  },
  {
   "cell_type": "markdown",
   "metadata": {},
   "source": [
    "We see that we have substantially reduced the total number of non-edges to consider."
   ]
  },
  {
   "cell_type": "code",
   "execution_count": 23,
   "metadata": {
    "collapsed": false,
    "jupyter": {
     "outputs_hidden": false
    },
    "pycharm": {
     "name": "#%%\n"
    }
   },
   "outputs": [
    {
     "data": {
      "text/plain": [
       "44836"
      ]
     },
     "execution_count": 23,
     "metadata": {},
     "output_type": "execute_result"
    }
   ],
   "source": [
    "len(non_edges)"
   ]
  },
  {
   "cell_type": "markdown",
   "metadata": {},
   "source": [
    "### Evaluation metrics\n",
    "\n",
    "We will evaluate the performance of the models in terms of the following metrics: **accuracy, precision, recall, F-score and AUC**.\n",
    "\n",
    "The following helper function takes the true edges and the predicted edges with score and returns a DataFrame with all these metrics computed for each unique value of score (threshold)."
   ]
  },
  {
   "cell_type": "code",
   "execution_count": 24,
   "metadata": {
    "collapsed": false,
    "jupyter": {
     "outputs_hidden": false
    },
    "pycharm": {
     "name": "#%%\n"
    }
   },
   "outputs": [],
   "source": [
    "def performance(true_edges, pred_edges):\n",
    "    # Create DataFrames with the true and predicted edges\n",
    "    true_edges_df = pd.DataFrame({'Edge': true_edges})\n",
    "    pred_edges_df = pd.DataFrame({\n",
    "        'Edge': [(u, v) for (u, v, score) in pred_edges],\n",
    "        'Coef': [score for (u, v, score) in pred_edges]\n",
    "    })\n",
    "\n",
    "    # Merge both DataFrames and extract DataFrames for coincident and non-coincident edges\n",
    "    all_edges_df = pd.merge(true_edges_df, pred_edges_df, how='outer', indicator=True)\n",
    "    coincident_edges_df = all_edges_df.query('_merge == \"both\"')[['Edge', 'Coef']]\n",
    "    only_true_edges_df = all_edges_df.query('_merge == \"left_only\"')[['Edge']]\n",
    "    only_pred_edges_df = all_edges_df.query('_merge == \"right_only\"')[['Edge', 'Coef']]\n",
    "\n",
    "    # Thresholds are all possible values of score\n",
    "    thresholds = sorted(set(score for (u, v, score) in pred_edges) | set([0, 1]))\n",
    "\n",
    "    # For each threshold, compute confusion matrix and store the values in a DataFrame\n",
    "    performances = []\n",
    "    for threshold in thresholds:\n",
    "        tp = len(coincident_edges_df.query('Coef >= @threshold'))\n",
    "        fp = len(only_pred_edges_df.query('Coef >= @threshold'))\n",
    "        fn = len(only_true_edges_df) + len(coincident_edges_df.query('Coef < @threshold'))\n",
    "        tn = n_possible_non_edges - tp - fp - fn\n",
    "\n",
    "        performances.append([threshold, tn, fp, fn, tp])\n",
    "    performances_df = pd.DataFrame(performances, columns=['Threshold', 'TN', 'FP', 'FN', 'TP'])\n",
    "\n",
    "    # Compute all metrics for each threshold\n",
    "    performances_df['Accuracy'] = (performances_df['TN'] + performances_df['TP'])/n_possible_non_edges\n",
    "    performances_df['Precision'] = performances_df['TP']/(performances_df['TP'] + performances_df['FP'])\n",
    "    performances_df['Recall'] = performances_df['TP']/(performances_df['TP'] + performances_df['FN'])\n",
    "    performances_df['FScore'] = 2 * performances_df['Precision'] * performances_df['Recall']/(performances_df['Precision'] + performances_df['Recall'])\n",
    "\n",
    "    performances_df['FPR'] = performances_df['FP']/(performances_df['FP'] + performances_df['TN'])\n",
    "\n",
    "    return performances_df"
   ]
  },
  {
   "cell_type": "markdown",
   "metadata": {},
   "source": [
    "The helper function below plots the threshold against the threshold-dependent metrics from the performance DataFrame."
   ]
  },
  {
   "cell_type": "code",
   "execution_count": 25,
   "metadata": {
    "collapsed": false,
    "jupyter": {
     "outputs_hidden": false
    },
    "pycharm": {
     "name": "#%%\n"
    }
   },
   "outputs": [],
   "source": [
    "import matplotlib.pyplot as plt\n",
    "\n",
    "def plot_metrics(performance):\n",
    "    fig, ax = plt.subplots()\n",
    "    ax.plot(performance['Threshold'], performance['Accuracy'], label='Accuracy')\n",
    "    ax.plot(performance['Threshold'], performance['Precision'], label='Precision')\n",
    "    ax.plot(performance['Threshold'], performance['Recall'], label='Recall')\n",
    "    ax.plot(performance['Threshold'], performance['FScore'], label='FScore')\n",
    "    ax.set_xlabel('Threshold')\n",
    "    ax.set_title('Threshold-dependent metrics')\n",
    "    ax.legend()"
   ]
  },
  {
   "cell_type": "markdown",
   "metadata": {},
   "source": [
    "We also define a function to produce a plot of the Receiver Operating Characteristic (ROC) and compute the Area Under Curve (AUC) from the performance DataFrame."
   ]
  },
  {
   "cell_type": "code",
   "execution_count": 26,
   "metadata": {
    "collapsed": false,
    "jupyter": {
     "outputs_hidden": false
    },
    "pycharm": {
     "name": "#%%\n"
    }
   },
   "outputs": [],
   "source": [
    "from sklearn.metrics import auc\n",
    "\n",
    "def plot_roc_auc(performance):\n",
    "    # Extract FPR and TPR from DataFrame\n",
    "    fpr = pd.concat([pd.Series([1]), performance['FPR'], pd.Series([0])])\n",
    "    tpr = pd.concat([pd.Series([1]), performance['Recall'], pd.Series([0])])\n",
    "\n",
    "    # Compute AUC\n",
    "    roc_auc = auc(fpr, tpr)\n",
    "\n",
    "    # Produce plot\n",
    "    fig, ax = plt.subplots()\n",
    "    ax.plot(fpr, tpr, label='ROC curve (AUC = %0.5f)' % roc_auc)\n",
    "    ax.plot([0, 1], [0, 1], 'k--')\n",
    "    ax.set_xlim([0, 1])\n",
    "    ax.set_ylim([0, 1])\n",
    "    ax.set_xlabel('False Positive Rate (1 - Specifity)')\n",
    "    ax.set_ylabel('True Positive Rate (Recall)')\n",
    "    ax.set_title('Receiver Operating Characteristic (ROC)')\n",
    "    ax.legend(loc='lower right')\n",
    "\n",
    "    return roc_auc"
   ]
  },
  {
   "cell_type": "markdown",
   "metadata": {},
   "source": [
    "## 4. Prediction of new edges (without weight nor community)\n",
    "\n",
    "We shall now start implementing a variety of statistical models in order to predict new edges in the graph. For now, we will ignore the weight of the edge, so we will treat in the same way a sporadical one-time collaboration and a continuous collaboration over time, and the community of the nodes, so we will not take into account the authors' labs."
   ]
  },
  {
   "cell_type": "markdown",
   "metadata": {},
   "source": [
    "### Jaccard coefficient\n",
    "\n",
    "This is a simple method to predict new edges. Each non-edge is assigned a score, computed as the ratio of the sizes of the intersection and union of their sets of neighbors. The higher this ratio, the more likely the two nodes will be neighbors in the future.\n",
    "\n",
    "<https://en.wikipedia.org/wiki/Jaccard_index>"
   ]
  },
  {
   "cell_type": "code",
   "execution_count": 27,
   "metadata": {
    "collapsed": false,
    "jupyter": {
     "outputs_hidden": false
    },
    "pycharm": {
     "name": "#%%\n"
    }
   },
   "outputs": [
    {
     "data": {
      "text/html": [
       "<div>\n",
       "<style scoped>\n",
       "    .dataframe tbody tr th:only-of-type {\n",
       "        vertical-align: middle;\n",
       "    }\n",
       "\n",
       "    .dataframe tbody tr th {\n",
       "        vertical-align: top;\n",
       "    }\n",
       "\n",
       "    .dataframe thead th {\n",
       "        text-align: right;\n",
       "    }\n",
       "</style>\n",
       "<table border=\"1\" class=\"dataframe\">\n",
       "  <thead>\n",
       "    <tr style=\"text-align: right;\">\n",
       "      <th></th>\n",
       "      <th>Threshold</th>\n",
       "      <th>TN</th>\n",
       "      <th>FP</th>\n",
       "      <th>FN</th>\n",
       "      <th>TP</th>\n",
       "      <th>Accuracy</th>\n",
       "      <th>Precision</th>\n",
       "      <th>Recall</th>\n",
       "      <th>FScore</th>\n",
       "      <th>FPR</th>\n",
       "    </tr>\n",
       "  </thead>\n",
       "  <tbody>\n",
       "    <tr>\n",
       "      <th>0</th>\n",
       "      <td>0.000000</td>\n",
       "      <td>9540382</td>\n",
       "      <td>44281</td>\n",
       "      <td>492</td>\n",
       "      <td>555</td>\n",
       "      <td>0.995329</td>\n",
       "      <td>0.012378</td>\n",
       "      <td>0.530086</td>\n",
       "      <td>0.024192</td>\n",
       "      <td>0.00462</td>\n",
       "    </tr>\n",
       "    <tr>\n",
       "      <th>1</th>\n",
       "      <td>0.007812</td>\n",
       "      <td>9540382</td>\n",
       "      <td>44281</td>\n",
       "      <td>492</td>\n",
       "      <td>555</td>\n",
       "      <td>0.995329</td>\n",
       "      <td>0.012378</td>\n",
       "      <td>0.530086</td>\n",
       "      <td>0.024192</td>\n",
       "      <td>0.00462</td>\n",
       "    </tr>\n",
       "    <tr>\n",
       "      <th>2</th>\n",
       "      <td>0.008065</td>\n",
       "      <td>9540383</td>\n",
       "      <td>44280</td>\n",
       "      <td>492</td>\n",
       "      <td>555</td>\n",
       "      <td>0.995329</td>\n",
       "      <td>0.012379</td>\n",
       "      <td>0.530086</td>\n",
       "      <td>0.024192</td>\n",
       "      <td>0.00462</td>\n",
       "    </tr>\n",
       "    <tr>\n",
       "      <th>3</th>\n",
       "      <td>0.008547</td>\n",
       "      <td>9540384</td>\n",
       "      <td>44279</td>\n",
       "      <td>492</td>\n",
       "      <td>555</td>\n",
       "      <td>0.995329</td>\n",
       "      <td>0.012379</td>\n",
       "      <td>0.530086</td>\n",
       "      <td>0.024193</td>\n",
       "      <td>0.00462</td>\n",
       "    </tr>\n",
       "    <tr>\n",
       "      <th>4</th>\n",
       "      <td>0.008850</td>\n",
       "      <td>9540385</td>\n",
       "      <td>44278</td>\n",
       "      <td>492</td>\n",
       "      <td>555</td>\n",
       "      <td>0.995330</td>\n",
       "      <td>0.012379</td>\n",
       "      <td>0.530086</td>\n",
       "      <td>0.024194</td>\n",
       "      <td>0.00462</td>\n",
       "    </tr>\n",
       "  </tbody>\n",
       "</table>\n",
       "</div>"
      ],
      "text/plain": [
       "   Threshold       TN     FP   FN   TP  Accuracy  Precision    Recall  \\\n",
       "0   0.000000  9540382  44281  492  555  0.995329   0.012378  0.530086   \n",
       "1   0.007812  9540382  44281  492  555  0.995329   0.012378  0.530086   \n",
       "2   0.008065  9540383  44280  492  555  0.995329   0.012379  0.530086   \n",
       "3   0.008547  9540384  44279  492  555  0.995329   0.012379  0.530086   \n",
       "4   0.008850  9540385  44278  492  555  0.995330   0.012379  0.530086   \n",
       "\n",
       "     FScore      FPR  \n",
       "0  0.024192  0.00462  \n",
       "1  0.024192  0.00462  \n",
       "2  0.024192  0.00462  \n",
       "3  0.024193  0.00462  \n",
       "4  0.024194  0.00462  "
      ]
     },
     "execution_count": 27,
     "metadata": {},
     "output_type": "execute_result"
    }
   ],
   "source": [
    "j_pred_edges = list(nx.jaccard_coefficient(G_train, non_edges))\n",
    "\n",
    "j_performance = performance(new_edges, j_pred_edges)\n",
    "j_performance.head()"
   ]
  },
  {
   "cell_type": "code",
   "execution_count": 28,
   "metadata": {
    "collapsed": false,
    "jupyter": {
     "outputs_hidden": false
    },
    "pycharm": {
     "name": "#%%\n"
    }
   },
   "outputs": [
    {
     "data": {
      "image/png": "[encoded data removed]",
      "text/plain": [
       "<Figure size 432x288 with 1 Axes>"
      ]
     },
     "metadata": {
      "needs_background": "light"
     },
     "output_type": "display_data"
    }
   ],
   "source": [
    "plot_metrics(j_performance)"
   ]
  },
  {
   "cell_type": "code",
   "execution_count": 29,
   "metadata": {
    "collapsed": false,
    "jupyter": {
     "outputs_hidden": false
    },
    "pycharm": {
     "name": "#%%\n"
    }
   },
   "outputs": [
    {
     "data": {
      "text/plain": [
       "0.7629881635116776"
      ]
     },
     "execution_count": 29,
     "metadata": {},
     "output_type": "execute_result"
    },
    {
     "data": {
      "image/png": "[encoded data removed]",
      "text/plain": [
       "<Figure size 432x288 with 1 Axes>"
      ]
     },
     "metadata": {
      "needs_background": "light"
     },
     "output_type": "display_data"
    }
   ],
   "source": [
    "plot_roc_auc(j_performance)"
   ]
  },
  {
   "cell_type": "markdown",
   "metadata": {},
   "source": [
    "### Adamic-Adar index\n",
    "\n",
    "Another simple method to predict new edges. Each non-edge (u,v) is again assigned a score, this time computed as the sum of the inverse logarithmic degree centrality of the neighbours shared by u and v, and the inverse logarithmic degree centrality of a node w is the inverse of the logarithm of the number of neighbors of w. Again, the higher this index, the more likely a non-edge is missing. We however normalize the index by dividing by the maximum value so that all values are in [0, 1], and can be interpreted as rough probabilities.\n",
    "\n",
    "<https://en.wikipedia.org/wiki/Adamic/Adar_index>"
   ]
  },
  {
   "cell_type": "code",
   "execution_count": 30,
   "metadata": {
    "collapsed": false,
    "jupyter": {
     "outputs_hidden": false
    },
    "pycharm": {
     "name": "#%%\n"
    }
   },
   "outputs": [
    {
     "data": {
      "text/html": [
       "<div>\n",
       "<style scoped>\n",
       "    .dataframe tbody tr th:only-of-type {\n",
       "        vertical-align: middle;\n",
       "    }\n",
       "\n",
       "    .dataframe tbody tr th {\n",
       "        vertical-align: top;\n",
       "    }\n",
       "\n",
       "    .dataframe thead th {\n",
       "        text-align: right;\n",
       "    }\n",
       "</style>\n",
       "<table border=\"1\" class=\"dataframe\">\n",
       "  <thead>\n",
       "    <tr style=\"text-align: right;\">\n",
       "      <th></th>\n",
       "      <th>Threshold</th>\n",
       "      <th>TN</th>\n",
       "      <th>FP</th>\n",
       "      <th>FN</th>\n",
       "      <th>TP</th>\n",
       "      <th>Accuracy</th>\n",
       "      <th>Precision</th>\n",
       "      <th>Recall</th>\n",
       "      <th>FScore</th>\n",
       "      <th>FPR</th>\n",
       "    </tr>\n",
       "  </thead>\n",
       "  <tbody>\n",
       "    <tr>\n",
       "      <th>0</th>\n",
       "      <td>0.000000</td>\n",
       "      <td>9540382</td>\n",
       "      <td>44281</td>\n",
       "      <td>492</td>\n",
       "      <td>555</td>\n",
       "      <td>0.995329</td>\n",
       "      <td>0.012378</td>\n",
       "      <td>0.530086</td>\n",
       "      <td>0.024192</td>\n",
       "      <td>0.004620</td>\n",
       "    </tr>\n",
       "    <tr>\n",
       "      <th>1</th>\n",
       "      <td>0.031341</td>\n",
       "      <td>9540382</td>\n",
       "      <td>44281</td>\n",
       "      <td>492</td>\n",
       "      <td>555</td>\n",
       "      <td>0.995329</td>\n",
       "      <td>0.012378</td>\n",
       "      <td>0.530086</td>\n",
       "      <td>0.024192</td>\n",
       "      <td>0.004620</td>\n",
       "    </tr>\n",
       "    <tr>\n",
       "      <th>2</th>\n",
       "      <td>0.032655</td>\n",
       "      <td>9541596</td>\n",
       "      <td>43067</td>\n",
       "      <td>494</td>\n",
       "      <td>553</td>\n",
       "      <td>0.995456</td>\n",
       "      <td>0.012678</td>\n",
       "      <td>0.528176</td>\n",
       "      <td>0.024761</td>\n",
       "      <td>0.004493</td>\n",
       "    </tr>\n",
       "    <tr>\n",
       "      <th>3</th>\n",
       "      <td>0.033228</td>\n",
       "      <td>9543681</td>\n",
       "      <td>40982</td>\n",
       "      <td>495</td>\n",
       "      <td>552</td>\n",
       "      <td>0.995673</td>\n",
       "      <td>0.013290</td>\n",
       "      <td>0.527221</td>\n",
       "      <td>0.025927</td>\n",
       "      <td>0.004276</td>\n",
       "    </tr>\n",
       "    <tr>\n",
       "      <th>4</th>\n",
       "      <td>0.033380</td>\n",
       "      <td>9545045</td>\n",
       "      <td>39618</td>\n",
       "      <td>522</td>\n",
       "      <td>525</td>\n",
       "      <td>0.995813</td>\n",
       "      <td>0.013078</td>\n",
       "      <td>0.501433</td>\n",
       "      <td>0.025492</td>\n",
       "      <td>0.004133</td>\n",
       "    </tr>\n",
       "  </tbody>\n",
       "</table>\n",
       "</div>"
      ],
      "text/plain": [
       "   Threshold       TN     FP   FN   TP  Accuracy  Precision    Recall  \\\n",
       "0   0.000000  9540382  44281  492  555  0.995329   0.012378  0.530086   \n",
       "1   0.031341  9540382  44281  492  555  0.995329   0.012378  0.530086   \n",
       "2   0.032655  9541596  43067  494  553  0.995456   0.012678  0.528176   \n",
       "3   0.033228  9543681  40982  495  552  0.995673   0.013290  0.527221   \n",
       "4   0.033380  9545045  39618  522  525  0.995813   0.013078  0.501433   \n",
       "\n",
       "     FScore       FPR  \n",
       "0  0.024192  0.004620  \n",
       "1  0.024192  0.004620  \n",
       "2  0.024761  0.004493  \n",
       "3  0.025927  0.004276  \n",
       "4  0.025492  0.004133  "
      ]
     },
     "execution_count": 30,
     "metadata": {},
     "output_type": "execute_result"
    }
   ],
   "source": [
    "aa_pred_edges = list(nx.adamic_adar_index(G_train, non_edges))\n",
    "\n",
    "# Normalization\n",
    "aa_max_score = max([score for u, v, score in aa_pred_edges])\n",
    "aa_pred_edges = [(u, v, score/aa_max_score) for u, v, score in aa_pred_edges]\n",
    "\n",
    "aa_performance = performance(new_edges, aa_pred_edges)\n",
    "aa_performance.head()"
   ]
  },
  {
   "cell_type": "code",
   "execution_count": 31,
   "metadata": {
    "collapsed": false,
    "jupyter": {
     "outputs_hidden": false
    },
    "pycharm": {
     "name": "#%%\n"
    }
   },
   "outputs": [
    {
     "data": {
      "image/png": "[encoded data removed]",
      "text/plain": [
       "<Figure size 432x288 with 1 Axes>"
      ]
     },
     "metadata": {
      "needs_background": "light"
     },
     "output_type": "display_data"
    }
   ],
   "source": [
    "plot_metrics(aa_performance)"
   ]
  },
  {
   "cell_type": "code",
   "execution_count": 32,
   "metadata": {
    "collapsed": false,
    "jupyter": {
     "outputs_hidden": false
    },
    "pycharm": {
     "name": "#%%\n"
    }
   },
   "outputs": [
    {
     "data": {
      "text/plain": [
       "0.7631452514208182"
      ]
     },
     "execution_count": 32,
     "metadata": {},
     "output_type": "execute_result"
    },
    {
     "data": {
      "image/png": "[encoded data removed]",
      "text/plain": [
       "<Figure size 432x288 with 1 Axes>"
      ]
     },
     "metadata": {
      "needs_background": "light"
     },
     "output_type": "display_data"
    }
   ],
   "source": [
    "plot_roc_auc(aa_performance)"
   ]
  },
  {
   "cell_type": "markdown",
   "metadata": {},
   "source": [
    "### Preferential attachment\n",
    "\n",
    "The preferential attachment method assigns once more a score to a pair of nodes. In this case, this score is the product of the number of neighbors of u and v. This emulates the behavior of nodes with many connections relating among themselves. We again normalize the score to interpret it as a rough probability in [0, 1]."
   ]
  },
  {
   "cell_type": "code",
   "execution_count": 33,
   "metadata": {
    "collapsed": false,
    "jupyter": {
     "outputs_hidden": false
    },
    "pycharm": {
     "name": "#%%\n"
    }
   },
   "outputs": [
    {
     "data": {
      "text/html": [
       "<div>\n",
       "<style scoped>\n",
       "    .dataframe tbody tr th:only-of-type {\n",
       "        vertical-align: middle;\n",
       "    }\n",
       "\n",
       "    .dataframe tbody tr th {\n",
       "        vertical-align: top;\n",
       "    }\n",
       "\n",
       "    .dataframe thead th {\n",
       "        text-align: right;\n",
       "    }\n",
       "</style>\n",
       "<table border=\"1\" class=\"dataframe\">\n",
       "  <thead>\n",
       "    <tr style=\"text-align: right;\">\n",
       "      <th></th>\n",
       "      <th>Threshold</th>\n",
       "      <th>TN</th>\n",
       "      <th>FP</th>\n",
       "      <th>FN</th>\n",
       "      <th>TP</th>\n",
       "      <th>Accuracy</th>\n",
       "      <th>Precision</th>\n",
       "      <th>Recall</th>\n",
       "      <th>FScore</th>\n",
       "      <th>FPR</th>\n",
       "    </tr>\n",
       "  </thead>\n",
       "  <tbody>\n",
       "    <tr>\n",
       "      <th>0</th>\n",
       "      <td>0.000000</td>\n",
       "      <td>9540382</td>\n",
       "      <td>44281</td>\n",
       "      <td>492</td>\n",
       "      <td>555</td>\n",
       "      <td>0.995329</td>\n",
       "      <td>0.012378</td>\n",
       "      <td>0.530086</td>\n",
       "      <td>0.024192</td>\n",
       "      <td>0.004620</td>\n",
       "    </tr>\n",
       "    <tr>\n",
       "      <th>1</th>\n",
       "      <td>0.000242</td>\n",
       "      <td>9540382</td>\n",
       "      <td>44281</td>\n",
       "      <td>492</td>\n",
       "      <td>555</td>\n",
       "      <td>0.995329</td>\n",
       "      <td>0.012378</td>\n",
       "      <td>0.530086</td>\n",
       "      <td>0.024192</td>\n",
       "      <td>0.004620</td>\n",
       "    </tr>\n",
       "    <tr>\n",
       "      <th>2</th>\n",
       "      <td>0.000484</td>\n",
       "      <td>9540651</td>\n",
       "      <td>44012</td>\n",
       "      <td>496</td>\n",
       "      <td>551</td>\n",
       "      <td>0.995357</td>\n",
       "      <td>0.012365</td>\n",
       "      <td>0.526266</td>\n",
       "      <td>0.024161</td>\n",
       "      <td>0.004592</td>\n",
       "    </tr>\n",
       "    <tr>\n",
       "      <th>3</th>\n",
       "      <td>0.000726</td>\n",
       "      <td>9541411</td>\n",
       "      <td>43252</td>\n",
       "      <td>506</td>\n",
       "      <td>541</td>\n",
       "      <td>0.995435</td>\n",
       "      <td>0.012354</td>\n",
       "      <td>0.516714</td>\n",
       "      <td>0.024130</td>\n",
       "      <td>0.004513</td>\n",
       "    </tr>\n",
       "    <tr>\n",
       "      <th>4</th>\n",
       "      <td>0.000969</td>\n",
       "      <td>9542072</td>\n",
       "      <td>42591</td>\n",
       "      <td>515</td>\n",
       "      <td>532</td>\n",
       "      <td>0.995503</td>\n",
       "      <td>0.012337</td>\n",
       "      <td>0.508118</td>\n",
       "      <td>0.024089</td>\n",
       "      <td>0.004444</td>\n",
       "    </tr>\n",
       "  </tbody>\n",
       "</table>\n",
       "</div>"
      ],
      "text/plain": [
       "   Threshold       TN     FP   FN   TP  Accuracy  Precision    Recall  \\\n",
       "0   0.000000  9540382  44281  492  555  0.995329   0.012378  0.530086   \n",
       "1   0.000242  9540382  44281  492  555  0.995329   0.012378  0.530086   \n",
       "2   0.000484  9540651  44012  496  551  0.995357   0.012365  0.526266   \n",
       "3   0.000726  9541411  43252  506  541  0.995435   0.012354  0.516714   \n",
       "4   0.000969  9542072  42591  515  532  0.995503   0.012337  0.508118   \n",
       "\n",
       "     FScore       FPR  \n",
       "0  0.024192  0.004620  \n",
       "1  0.024192  0.004620  \n",
       "2  0.024161  0.004592  \n",
       "3  0.024130  0.004513  \n",
       "4  0.024089  0.004444  "
      ]
     },
     "execution_count": 33,
     "metadata": {},
     "output_type": "execute_result"
    }
   ],
   "source": [
    "pa_pred_edges = list(nx.preferential_attachment(G_train, non_edges))\n",
    "\n",
    "# Normalization\n",
    "pa_max_score = max([score for u, v, score in pa_pred_edges])\n",
    "pa_pred_edges = [(u, v, score/pa_max_score) for u, v, score in pa_pred_edges]\n",
    "\n",
    "pa_performance = performance(new_edges, pa_pred_edges)\n",
    "pa_performance.head()"
   ]
  },
  {
   "cell_type": "code",
   "execution_count": 34,
   "metadata": {
    "collapsed": false,
    "jupyter": {
     "outputs_hidden": false
    },
    "pycharm": {
     "name": "#%%\n"
    }
   },
   "outputs": [
    {
     "data": {
      "image/png": "[encoded data removed]",
      "text/plain": [
       "<Figure size 432x288 with 1 Axes>"
      ]
     },
     "metadata": {
      "needs_background": "light"
     },
     "output_type": "display_data"
    }
   ],
   "source": [
    "plot_metrics(pa_performance)"
   ]
  },
  {
   "cell_type": "code",
   "execution_count": 35,
   "metadata": {
    "collapsed": false,
    "jupyter": {
     "outputs_hidden": false
    },
    "pycharm": {
     "name": "#%%\n"
    }
   },
   "outputs": [
    {
     "data": {
      "text/plain": [
       "0.7627589444868653"
      ]
     },
     "execution_count": 35,
     "metadata": {},
     "output_type": "execute_result"
    },
    {
     "data": {
      "image/png": "[encoded data removed]",
      "text/plain": [
       "<Figure size 432x288 with 1 Axes>"
      ]
     },
     "metadata": {
      "needs_background": "light"
     },
     "output_type": "display_data"
    }
   ],
   "source": [
    "plot_roc_auc(pa_performance)"
   ]
  },
  {
   "cell_type": "markdown",
   "metadata": {},
   "source": [
    "## 5. Prediction of new edges (with weight and community)\n",
    "\n",
    "We now want to include the **edge weight** information as well as the **node community** into the models. To do so, we will **modify the models that we have already used** to take this information into account, yielding **custom extensions that work with node-labeled, edge-weighted graphs**. In all cases, these extended models are equivalent to the base ones when used on graphs all whose edges have weight 1 and all nodes different community."
   ]
  },
  {
   "cell_type": "markdown",
   "metadata": {},
   "source": [
    "### Weighted Jaccard coefficient\n",
    "\n",
    "We want to extend the Jaccard coefficient to graphs with edge weights and node labels. The solution we propose is to do the following replacements in the Jaccard coefficient formula for two nodes *u* and *v*:\n",
    "* Replace the size of the intersection by the sum over all nodes *w* in the intersection of the average of the weights of the edges *(u, w)* and *(v, w)*.\n",
    "* Replace the size of the union by the expression above plus the sum over all nodes *w* connected to only one of *u*, *v* of the corresponding edge weight.\n",
    "* Add a multiplicative factor so the contribution of a common neighbor *w* is doubled if its community coincides with that of *u* or *v*.\n",
    "\n",
    "The precise definition we propose for the weighted Jaccard coefficient between *u* and *v* is given by:\n",
    "\n",
    "<br />\n",
    "<img width=700 src=\"img/weighted-jaccard.png\">\n",
    "\n",
    "where *a_{(w, w')}* is the weight of the edge between *w* and *w'*, and *f(w)* equals 1 if the community of *w* coincides with that of *u* or *v*, 0 otherwise."
   ]
  },
  {
   "cell_type": "markdown",
   "metadata": {},
   "source": [
    "We provide an implementation of the function **weighted_jaccard_coefficient** which mimics that of the regular jaccard_coefficient in the package *networkx*. In particular, it has the parameters:\n",
    "* G: graph.\n",
    "    * A NetworkX undirected graph.\n",
    "* ebunch: iterable of node pairs, optional (default = None)\n",
    "    * The weighted Jaccard coefficient will be computed for each pair of nodes given in the iterable. The pairs must be given as 2-tuples (u, v) where u and v are nodes in the graph. If ebunch is None then all non-existent edges in the graph will be used. Default value: None.\n",
    "* community: string, optional (default = 'community')\n",
    "    * Nodes attribute name containing the community information. G[u][community] identifies which community u belongs to. Each node belongs to at most one community. Default value: 'community'.\n",
    "* weight: string, optional (default = 'weight')\n",
    "    * Edges attribute name containing the weight information. G[u][v][weight] identifies the weight of the edge between u and v. Each edge has a weight. Default value: 'weight'.\n",
    "\n",
    "And returns:\n",
    "* piter : iterator\n",
    "    * An iterator of 3-tuples in the form (u, v, p) where (u, v) is a pair of nodes and p is their score.\n"
   ]
  },
  {
   "cell_type": "code",
   "execution_count": 36,
   "metadata": {
    "collapsed": false,
    "jupyter": {
     "outputs_hidden": false
    },
    "pycharm": {
     "name": "#%%\n"
    }
   },
   "outputs": [],
   "source": [
    "from networkx.algorithms.link_prediction import _apply_prediction\n",
    "\n",
    "def weighted_jaccard_coefficient(G, ebunch=None, community='community', weight='weight'):\n",
    "    def predict(u, v):\n",
    "        union = set(G[u]) | set(G[v])\n",
    "        intersection = set(G[u]) & set(G[v])\n",
    "\n",
    "        union_weight = sum([(G[u][w][weight] + G[v][w][weight])/2 for w in intersection])\n",
    "        for w in union - intersection:\n",
    "            union_weight += G[u][w][weight] if G.has_edge(u, w) else 0\n",
    "            union_weight += G[v][w][weight] if G.has_edge(v, w) else 0\n",
    "\n",
    "        if not union or union_weight == 0:\n",
    "            return 0\n",
    "\n",
    "        def f(w):\n",
    "            if G.nodes[u][community] == G.nodes[w][community] or G.nodes[v][community] == G.nodes[w][community]:\n",
    "                return 1\n",
    "            return 0\n",
    "\n",
    "        intersection_weight = sum([(1 + f(w))*(G[u][w][weight] + G[v][w][weight])/2 for w in intersection])\n",
    "\n",
    "        return intersection_weight / union_weight\n",
    "\n",
    "    return _apply_prediction(G, predict, ebunch)"
   ]
  },
  {
   "cell_type": "code",
   "execution_count": 37,
   "metadata": {
    "collapsed": false,
    "jupyter": {
     "outputs_hidden": false
    },
    "pycharm": {
     "name": "#%%\n"
    }
   },
   "outputs": [
    {
     "data": {
      "text/html": [
       "<div>\n",
       "<style scoped>\n",
       "    .dataframe tbody tr th:only-of-type {\n",
       "        vertical-align: middle;\n",
       "    }\n",
       "\n",
       "    .dataframe tbody tr th {\n",
       "        vertical-align: top;\n",
       "    }\n",
       "\n",
       "    .dataframe thead th {\n",
       "        text-align: right;\n",
       "    }\n",
       "</style>\n",
       "<table border=\"1\" class=\"dataframe\">\n",
       "  <thead>\n",
       "    <tr style=\"text-align: right;\">\n",
       "      <th></th>\n",
       "      <th>Threshold</th>\n",
       "      <th>TN</th>\n",
       "      <th>FP</th>\n",
       "      <th>FN</th>\n",
       "      <th>TP</th>\n",
       "      <th>Accuracy</th>\n",
       "      <th>Precision</th>\n",
       "      <th>Recall</th>\n",
       "      <th>FScore</th>\n",
       "      <th>FPR</th>\n",
       "    </tr>\n",
       "  </thead>\n",
       "  <tbody>\n",
       "    <tr>\n",
       "      <th>0</th>\n",
       "      <td>0.000000</td>\n",
       "      <td>9540382</td>\n",
       "      <td>44281</td>\n",
       "      <td>492</td>\n",
       "      <td>555</td>\n",
       "      <td>0.995329</td>\n",
       "      <td>0.012378</td>\n",
       "      <td>0.530086</td>\n",
       "      <td>0.024192</td>\n",
       "      <td>0.00462</td>\n",
       "    </tr>\n",
       "    <tr>\n",
       "      <th>1</th>\n",
       "      <td>0.000806</td>\n",
       "      <td>9540382</td>\n",
       "      <td>44281</td>\n",
       "      <td>492</td>\n",
       "      <td>555</td>\n",
       "      <td>0.995329</td>\n",
       "      <td>0.012378</td>\n",
       "      <td>0.530086</td>\n",
       "      <td>0.024192</td>\n",
       "      <td>0.00462</td>\n",
       "    </tr>\n",
       "    <tr>\n",
       "      <th>2</th>\n",
       "      <td>0.000831</td>\n",
       "      <td>9540383</td>\n",
       "      <td>44280</td>\n",
       "      <td>492</td>\n",
       "      <td>555</td>\n",
       "      <td>0.995329</td>\n",
       "      <td>0.012379</td>\n",
       "      <td>0.530086</td>\n",
       "      <td>0.024192</td>\n",
       "      <td>0.00462</td>\n",
       "    </tr>\n",
       "    <tr>\n",
       "      <th>3</th>\n",
       "      <td>0.000836</td>\n",
       "      <td>9540384</td>\n",
       "      <td>44279</td>\n",
       "      <td>492</td>\n",
       "      <td>555</td>\n",
       "      <td>0.995329</td>\n",
       "      <td>0.012379</td>\n",
       "      <td>0.530086</td>\n",
       "      <td>0.024193</td>\n",
       "      <td>0.00462</td>\n",
       "    </tr>\n",
       "    <tr>\n",
       "      <th>4</th>\n",
       "      <td>0.000865</td>\n",
       "      <td>9540385</td>\n",
       "      <td>44278</td>\n",
       "      <td>492</td>\n",
       "      <td>555</td>\n",
       "      <td>0.995330</td>\n",
       "      <td>0.012379</td>\n",
       "      <td>0.530086</td>\n",
       "      <td>0.024194</td>\n",
       "      <td>0.00462</td>\n",
       "    </tr>\n",
       "  </tbody>\n",
       "</table>\n",
       "</div>"
      ],
      "text/plain": [
       "   Threshold       TN     FP   FN   TP  Accuracy  Precision    Recall  \\\n",
       "0   0.000000  9540382  44281  492  555  0.995329   0.012378  0.530086   \n",
       "1   0.000806  9540382  44281  492  555  0.995329   0.012378  0.530086   \n",
       "2   0.000831  9540383  44280  492  555  0.995329   0.012379  0.530086   \n",
       "3   0.000836  9540384  44279  492  555  0.995329   0.012379  0.530086   \n",
       "4   0.000865  9540385  44278  492  555  0.995330   0.012379  0.530086   \n",
       "\n",
       "     FScore      FPR  \n",
       "0  0.024192  0.00462  \n",
       "1  0.024192  0.00462  \n",
       "2  0.024192  0.00462  \n",
       "3  0.024193  0.00462  \n",
       "4  0.024194  0.00462  "
      ]
     },
     "execution_count": 37,
     "metadata": {},
     "output_type": "execute_result"
    }
   ],
   "source": [
    "wj_pred_edges = list(weighted_jaccard_coefficient(G_train, non_edges))\n",
    "\n",
    "# Normalization\n",
    "wj_max_score = max([score for u, v, score in wj_pred_edges])\n",
    "wj_pred_edges = [(u, v, score/wj_max_score) for u, v, score in wj_pred_edges]\n",
    "\n",
    "wj_performance = performance(new_edges, wj_pred_edges)\n",
    "wj_performance.head()"
   ]
  },
  {
   "cell_type": "code",
   "execution_count": 38,
   "metadata": {
    "collapsed": false,
    "jupyter": {
     "outputs_hidden": false
    },
    "pycharm": {
     "name": "#%%\n"
    }
   },
   "outputs": [
    {
     "data": {
      "image/png": "[encoded data removed]",
      "text/plain": [
       "<Figure size 432x288 with 1 Axes>"
      ]
     },
     "metadata": {
      "needs_background": "light"
     },
     "output_type": "display_data"
    }
   ],
   "source": [
    "plot_metrics(wj_performance)"
   ]
  },
  {
   "cell_type": "code",
   "execution_count": 39,
   "metadata": {
    "collapsed": false,
    "jupyter": {
     "outputs_hidden": false
    },
    "pycharm": {
     "name": "#%%\n"
    }
   },
   "outputs": [
    {
     "data": {
      "text/plain": [
       "0.763117603033228"
      ]
     },
     "execution_count": 39,
     "metadata": {},
     "output_type": "execute_result"
    },
    {
     "data": {
      "image/png": "[encoded data removed]",
      "text/plain": [
       "<Figure size 432x288 with 1 Axes>"
      ]
     },
     "metadata": {
      "needs_background": "light"
     },
     "output_type": "display_data"
    }
   ],
   "source": [
    "plot_roc_auc(wj_performance)"
   ]
  },
  {
   "cell_type": "markdown",
   "metadata": {},
   "source": [
    "### Weighted Adamic-Adar index\n",
    "\n",
    "We now want to do the same for the Adamic-Adar index. The solution we propose is to replace in the original formula the number of neighbors of a node *w* by the sum of the weights of its edges. In addition, we too add the multiplicative factor to double the contribution of a common neighbor in case it shares its community with *u* or *v*.\n",
    "\n",
    "The precise definition we propose for the weighted Adamic-Adar index between *u* and *v* is given by:\n",
    "\n",
    "<br />\n",
    "<img width=400 src=\"img/weighted-adamic-adar.png\">\n",
    "\n",
    "where *a_{(w, w')}* is the weight of the edge between *w* and *w'*, and *f(w)* equals 1 if the community of *w* coincides with that of *u* or *v*, 0 otherwise."
   ]
  },
  {
   "cell_type": "markdown",
   "metadata": {},
   "source": [
    "Again we provide an implementation of the function **weighted_adamic_adar_index** which mimics that of the regular adamic_adar_index in the package *networkx*. Its parameters are:\n",
    "* G: graph.\n",
    "    * A NetworkX undirected graph.\n",
    "* ebunch: iterable of node pairs, optional (default = None)\n",
    "    * The weighted Adamic-Adar index will be computed for each pair of nodes given in the iterable. The pairs must be given as 2-tuples (u, v) where u and v are nodes in the graph. If ebunch is None then all non-existent edges in the graph will be used. Default value: None.\n",
    "* community: string, optional (default = 'community')\n",
    "    * Nodes attribute name containing the community information. G[u][community] identifies which community u belongs to. Each node belongs to at most one community. Default value: 'community'.\n",
    "* weight: string, optional (default = 'weight')\n",
    "    * Edges attribute name containing the weight information. G[u][v][weight] identifies the weight of the edge between u and v. Each edge has a weight. Default value: 'weight'.\n",
    "\n",
    "And returns:\n",
    "* piter : iterator\n",
    "    * An iterator of 3-tuples in the form (u, v, p) where (u, v) is a pair of nodes and p is their index."
   ]
  },
  {
   "cell_type": "code",
   "execution_count": 40,
   "metadata": {
    "collapsed": false,
    "jupyter": {
     "outputs_hidden": false
    },
    "pycharm": {
     "name": "#%%\n"
    }
   },
   "outputs": [],
   "source": [
    "from math import log\n",
    "\n",
    "def weighted_adamic_adar_index(G, ebunch=None, community='community', weight='weight'):\n",
    "    def predict(u, v):\n",
    "        def f(w):\n",
    "            if G.nodes[u][community] == G.nodes[w][community] or G.nodes[v][community] == G.nodes[w][community]:\n",
    "                return 1\n",
    "            return 0\n",
    "\n",
    "        return sum([(1 + f(w)) / (log(1 + sum([G[w][z][weight] for z in set(G[w])]))) for w in nx.common_neighbors(G, u, v)])\n",
    "\n",
    "    return _apply_prediction(G, predict, ebunch)"
   ]
  },
  {
   "cell_type": "code",
   "execution_count": 41,
   "metadata": {
    "collapsed": false,
    "jupyter": {
     "outputs_hidden": false
    },
    "pycharm": {
     "name": "#%%\n"
    }
   },
   "outputs": [
    {
     "data": {
      "text/html": [
       "<div>\n",
       "<style scoped>\n",
       "    .dataframe tbody tr th:only-of-type {\n",
       "        vertical-align: middle;\n",
       "    }\n",
       "\n",
       "    .dataframe tbody tr th {\n",
       "        vertical-align: top;\n",
       "    }\n",
       "\n",
       "    .dataframe thead th {\n",
       "        text-align: right;\n",
       "    }\n",
       "</style>\n",
       "<table border=\"1\" class=\"dataframe\">\n",
       "  <thead>\n",
       "    <tr style=\"text-align: right;\">\n",
       "      <th></th>\n",
       "      <th>Threshold</th>\n",
       "      <th>TN</th>\n",
       "      <th>FP</th>\n",
       "      <th>FN</th>\n",
       "      <th>TP</th>\n",
       "      <th>Accuracy</th>\n",
       "      <th>Precision</th>\n",
       "      <th>Recall</th>\n",
       "      <th>FScore</th>\n",
       "      <th>FPR</th>\n",
       "    </tr>\n",
       "  </thead>\n",
       "  <tbody>\n",
       "    <tr>\n",
       "      <th>0</th>\n",
       "      <td>0.000000</td>\n",
       "      <td>9540382</td>\n",
       "      <td>44281</td>\n",
       "      <td>492</td>\n",
       "      <td>555</td>\n",
       "      <td>0.995329</td>\n",
       "      <td>0.012378</td>\n",
       "      <td>0.530086</td>\n",
       "      <td>0.024192</td>\n",
       "      <td>0.004620</td>\n",
       "    </tr>\n",
       "    <tr>\n",
       "      <th>1</th>\n",
       "      <td>0.022808</td>\n",
       "      <td>9540382</td>\n",
       "      <td>44281</td>\n",
       "      <td>492</td>\n",
       "      <td>555</td>\n",
       "      <td>0.995329</td>\n",
       "      <td>0.012378</td>\n",
       "      <td>0.530086</td>\n",
       "      <td>0.024192</td>\n",
       "      <td>0.004620</td>\n",
       "    </tr>\n",
       "    <tr>\n",
       "      <th>2</th>\n",
       "      <td>0.023058</td>\n",
       "      <td>9540418</td>\n",
       "      <td>44245</td>\n",
       "      <td>492</td>\n",
       "      <td>555</td>\n",
       "      <td>0.995333</td>\n",
       "      <td>0.012388</td>\n",
       "      <td>0.530086</td>\n",
       "      <td>0.024211</td>\n",
       "      <td>0.004616</td>\n",
       "    </tr>\n",
       "    <tr>\n",
       "      <th>3</th>\n",
       "      <td>0.023113</td>\n",
       "      <td>9540490</td>\n",
       "      <td>44173</td>\n",
       "      <td>492</td>\n",
       "      <td>555</td>\n",
       "      <td>0.995340</td>\n",
       "      <td>0.012408</td>\n",
       "      <td>0.530086</td>\n",
       "      <td>0.024249</td>\n",
       "      <td>0.004609</td>\n",
       "    </tr>\n",
       "    <tr>\n",
       "      <th>4</th>\n",
       "      <td>0.023156</td>\n",
       "      <td>9540496</td>\n",
       "      <td>44167</td>\n",
       "      <td>492</td>\n",
       "      <td>555</td>\n",
       "      <td>0.995341</td>\n",
       "      <td>0.012410</td>\n",
       "      <td>0.530086</td>\n",
       "      <td>0.024252</td>\n",
       "      <td>0.004608</td>\n",
       "    </tr>\n",
       "  </tbody>\n",
       "</table>\n",
       "</div>"
      ],
      "text/plain": [
       "   Threshold       TN     FP   FN   TP  Accuracy  Precision    Recall  \\\n",
       "0   0.000000  9540382  44281  492  555  0.995329   0.012378  0.530086   \n",
       "1   0.022808  9540382  44281  492  555  0.995329   0.012378  0.530086   \n",
       "2   0.023058  9540418  44245  492  555  0.995333   0.012388  0.530086   \n",
       "3   0.023113  9540490  44173  492  555  0.995340   0.012408  0.530086   \n",
       "4   0.023156  9540496  44167  492  555  0.995341   0.012410  0.530086   \n",
       "\n",
       "     FScore       FPR  \n",
       "0  0.024192  0.004620  \n",
       "1  0.024192  0.004620  \n",
       "2  0.024211  0.004616  \n",
       "3  0.024249  0.004609  \n",
       "4  0.024252  0.004608  "
      ]
     },
     "execution_count": 41,
     "metadata": {},
     "output_type": "execute_result"
    }
   ],
   "source": [
    "waa_pred_edges = list(weighted_adamic_adar_index(G_train, non_edges))\n",
    "\n",
    "# Normalization\n",
    "waa_max_score = max([score for u, v, score in waa_pred_edges])\n",
    "waa_pred_edges = [(u, v, score/waa_max_score) for u, v, score in waa_pred_edges]\n",
    "\n",
    "waa_performance = performance(new_edges, waa_pred_edges)\n",
    "waa_performance.head()"
   ]
  },
  {
   "cell_type": "code",
   "execution_count": 42,
   "metadata": {
    "collapsed": false,
    "jupyter": {
     "outputs_hidden": false
    },
    "pycharm": {
     "name": "#%%\n"
    }
   },
   "outputs": [
    {
     "data": {
      "image/png": "[encoded data removed]",
      "text/plain": [
       "<Figure size 432x288 with 1 Axes>"
      ]
     },
     "metadata": {
      "needs_background": "light"
     },
     "output_type": "display_data"
    }
   ],
   "source": [
    "plot_metrics(waa_performance)"
   ]
  },
  {
   "cell_type": "code",
   "execution_count": 43,
   "metadata": {
    "collapsed": false,
    "jupyter": {
     "outputs_hidden": false
    },
    "pycharm": {
     "name": "#%%\n"
    }
   },
   "outputs": [
    {
     "data": {
      "text/plain": [
       "0.7631681258850082"
      ]
     },
     "execution_count": 43,
     "metadata": {},
     "output_type": "execute_result"
    },
    {
     "data": {
      "image/png": "[encoded data removed]",
      "text/plain": [
       "<Figure size 432x288 with 1 Axes>"
      ]
     },
     "metadata": {
      "needs_background": "light"
     },
     "output_type": "display_data"
    }
   ],
   "source": [
    "plot_roc_auc(waa_performance)"
   ]
  },
  {
   "cell_type": "markdown",
   "metadata": {},
   "source": [
    "### Weighted Preferential Attachment\n",
    "\n",
    "We now do the same with Preferential attachment. In this case, we replace again the number of neighbors of a node *w* by the sum of the weights of its edges, and use the community information to double the contribution of neighbors within the same community.\n",
    "\n",
    "The precise definition we propose for the weighted Preferential Attachment between *u* and *v* is given by:\n",
    "\n",
    "<br />\n",
    "<img width=600 src=\"img/weighted-preferential-attachment.png\">\n",
    "\n",
    "where *a_{(w, w')}* is the weight of the edge between *w* and *w'*, and *f(w, w')* equals 1 if the community of *w* coincides with that of *w'*, 0 otherwise."
   ]
  },
  {
   "cell_type": "markdown",
   "metadata": {},
   "source": [
    "Once more we provide an implementation of the function **weighted_preferential_attachment** which mimics that of the regular preferential_attachment in the package *networkx*. Its parameters are:\n",
    "* G: graph.\n",
    "    * A NetworkX undirected graph.\n",
    "* ebunch: iterable of node pairs, optional (default = None)\n",
    "    * The weighted preferential attachment score will be computed for each pair of nodes given in the iterable. The pairs must be given as 2-tuples (u, v) where u and v are nodes in the graph. If ebunch is None then all non-existent edges in the graph will be used. Default value: None.\n",
    "* community: string, optional (default = 'community')\n",
    "    * Nodes attribute name containing the community information. G[u][community] identifies which community u belongs to. Each node belongs to at most one community. Default value: 'community'.\n",
    "* weight: string, optional (default = 'weight')\n",
    "    * Edges attribute name containing the weight information. G[u][v][weight] identifies the weight of the edge between u and v. Each edge has a weight. Default value: 'weight'.\n",
    "\n",
    "And returns:\n",
    "* piter : iterator\n",
    "    * An iterator of 3-tuples in the form (u, v, p) where (u, v) is a pair of nodes and p is their score."
   ]
  },
  {
   "cell_type": "code",
   "execution_count": 44,
   "metadata": {
    "collapsed": false,
    "jupyter": {
     "outputs_hidden": false
    },
    "pycharm": {
     "name": "#%%\n"
    }
   },
   "outputs": [],
   "source": [
    "def weighted_preferential_attachment(G, ebunch=None, community='community', weight='weight'):\n",
    "    def predict(u, v):\n",
    "        def f(w1, w2):\n",
    "            if G.nodes[w1][community] == G.nodes[w2][community]:\n",
    "                return 1\n",
    "            return 0\n",
    "\n",
    "        return sum([(1 + f(u, w)) * G[u][w][weight] for w in set(G[u])]) * sum([(1 + f(v, w)) * G[v][w][weight] for w in set(G[v])])\n",
    "\n",
    "    return _apply_prediction(G, predict, ebunch)"
   ]
  },
  {
   "cell_type": "code",
   "execution_count": 45,
   "metadata": {
    "collapsed": false,
    "jupyter": {
     "outputs_hidden": false
    },
    "pycharm": {
     "name": "#%%\n"
    }
   },
   "outputs": [
    {
     "data": {
      "text/html": [
       "<div>\n",
       "<style scoped>\n",
       "    .dataframe tbody tr th:only-of-type {\n",
       "        vertical-align: middle;\n",
       "    }\n",
       "\n",
       "    .dataframe tbody tr th {\n",
       "        vertical-align: top;\n",
       "    }\n",
       "\n",
       "    .dataframe thead th {\n",
       "        text-align: right;\n",
       "    }\n",
       "</style>\n",
       "<table border=\"1\" class=\"dataframe\">\n",
       "  <thead>\n",
       "    <tr style=\"text-align: right;\">\n",
       "      <th></th>\n",
       "      <th>Threshold</th>\n",
       "      <th>TN</th>\n",
       "      <th>FP</th>\n",
       "      <th>FN</th>\n",
       "      <th>TP</th>\n",
       "      <th>Accuracy</th>\n",
       "      <th>Precision</th>\n",
       "      <th>Recall</th>\n",
       "      <th>FScore</th>\n",
       "      <th>FPR</th>\n",
       "    </tr>\n",
       "  </thead>\n",
       "  <tbody>\n",
       "    <tr>\n",
       "      <th>0</th>\n",
       "      <td>0.000000</td>\n",
       "      <td>9540382</td>\n",
       "      <td>44281</td>\n",
       "      <td>492</td>\n",
       "      <td>555</td>\n",
       "      <td>0.995329</td>\n",
       "      <td>0.012378</td>\n",
       "      <td>0.530086</td>\n",
       "      <td>0.024192</td>\n",
       "      <td>0.00462</td>\n",
       "    </tr>\n",
       "    <tr>\n",
       "      <th>1</th>\n",
       "      <td>0.000001</td>\n",
       "      <td>9540382</td>\n",
       "      <td>44281</td>\n",
       "      <td>492</td>\n",
       "      <td>555</td>\n",
       "      <td>0.995329</td>\n",
       "      <td>0.012378</td>\n",
       "      <td>0.530086</td>\n",
       "      <td>0.024192</td>\n",
       "      <td>0.00462</td>\n",
       "    </tr>\n",
       "    <tr>\n",
       "      <th>2</th>\n",
       "      <td>0.000002</td>\n",
       "      <td>9540383</td>\n",
       "      <td>44280</td>\n",
       "      <td>492</td>\n",
       "      <td>555</td>\n",
       "      <td>0.995329</td>\n",
       "      <td>0.012379</td>\n",
       "      <td>0.530086</td>\n",
       "      <td>0.024192</td>\n",
       "      <td>0.00462</td>\n",
       "    </tr>\n",
       "    <tr>\n",
       "      <th>3</th>\n",
       "      <td>0.000002</td>\n",
       "      <td>9540384</td>\n",
       "      <td>44279</td>\n",
       "      <td>492</td>\n",
       "      <td>555</td>\n",
       "      <td>0.995329</td>\n",
       "      <td>0.012379</td>\n",
       "      <td>0.530086</td>\n",
       "      <td>0.024193</td>\n",
       "      <td>0.00462</td>\n",
       "    </tr>\n",
       "    <tr>\n",
       "      <th>4</th>\n",
       "      <td>0.000003</td>\n",
       "      <td>9540386</td>\n",
       "      <td>44277</td>\n",
       "      <td>492</td>\n",
       "      <td>555</td>\n",
       "      <td>0.995330</td>\n",
       "      <td>0.012380</td>\n",
       "      <td>0.530086</td>\n",
       "      <td>0.024194</td>\n",
       "      <td>0.00462</td>\n",
       "    </tr>\n",
       "  </tbody>\n",
       "</table>\n",
       "</div>"
      ],
      "text/plain": [
       "   Threshold       TN     FP   FN   TP  Accuracy  Precision    Recall  \\\n",
       "0   0.000000  9540382  44281  492  555  0.995329   0.012378  0.530086   \n",
       "1   0.000001  9540382  44281  492  555  0.995329   0.012378  0.530086   \n",
       "2   0.000002  9540383  44280  492  555  0.995329   0.012379  0.530086   \n",
       "3   0.000002  9540384  44279  492  555  0.995329   0.012379  0.530086   \n",
       "4   0.000003  9540386  44277  492  555  0.995330   0.012380  0.530086   \n",
       "\n",
       "     FScore      FPR  \n",
       "0  0.024192  0.00462  \n",
       "1  0.024192  0.00462  \n",
       "2  0.024192  0.00462  \n",
       "3  0.024193  0.00462  \n",
       "4  0.024194  0.00462  "
      ]
     },
     "execution_count": 45,
     "metadata": {},
     "output_type": "execute_result"
    }
   ],
   "source": [
    "wpa_pred_edges = list(weighted_preferential_attachment(G_train, non_edges))\n",
    "\n",
    "# Normalization\n",
    "wpa_max_score = max([score for u, v, score in wpa_pred_edges])\n",
    "wpa_pred_edges = [(u, v, score/wpa_max_score) for u, v, score in wpa_pred_edges]\n",
    "\n",
    "wpa_performance = performance(new_edges, wpa_pred_edges)\n",
    "wpa_performance.head()"
   ]
  },
  {
   "cell_type": "code",
   "execution_count": 46,
   "metadata": {
    "collapsed": false,
    "jupyter": {
     "outputs_hidden": false
    },
    "pycharm": {
     "name": "#%%\n"
    }
   },
   "outputs": [
    {
     "data": {
      "image/png": "[encoded data removed]",
      "text/plain": [
       "<Figure size 432x288 with 1 Axes>"
      ]
     },
     "metadata": {
      "needs_background": "light"
     },
     "output_type": "display_data"
    }
   ],
   "source": [
    "plot_metrics(wpa_performance)"
   ]
  },
  {
   "cell_type": "code",
   "execution_count": 47,
   "metadata": {
    "collapsed": false,
    "jupyter": {
     "outputs_hidden": false
    },
    "pycharm": {
     "name": "#%%\n"
    }
   },
   "outputs": [
    {
     "data": {
      "text/plain": [
       "0.7628561857600177"
      ]
     },
     "execution_count": 47,
     "metadata": {},
     "output_type": "execute_result"
    },
    {
     "data": {
      "image/png": "[encoded data removed]",
      "text/plain": [
       "<Figure size 432x288 with 1 Axes>"
      ]
     },
     "metadata": {
      "needs_background": "light"
     },
     "output_type": "display_data"
    }
   ],
   "source": [
    "plot_roc_auc(wpa_performance)"
   ]
  },
  {
   "cell_type": "markdown",
   "metadata": {},
   "source": [
    "## 6. Model comparison\n",
    "\n",
    "Let us now compare all models among themselves. We start by defining a helper function to plot a metric across all models."
   ]
  },
  {
   "cell_type": "code",
   "execution_count": 48,
   "metadata": {
    "collapsed": false,
    "jupyter": {
     "outputs_hidden": false
    },
    "pycharm": {
     "name": "#%%\n"
    }
   },
   "outputs": [],
   "source": [
    "def cross_plot(performances, field, colors, linestyles):\n",
    "    fig, ax = plt.subplots()\n",
    "    for model in performances:\n",
    "        ax.plot(performances[model]['Threshold'], performances[model][field], label=model, color=colors[model], linestyle=linestyles[model], alpha=0.8)\n",
    "    ax.set_xlabel('Threshold')\n",
    "    ax.set_title(field)\n",
    "    ax.legend()"
   ]
  },
  {
   "cell_type": "markdown",
   "metadata": {},
   "source": [
    "We aggregate all performance data in a single variable, and create style variables for the plots."
   ]
  },
  {
   "cell_type": "code",
   "execution_count": 49,
   "metadata": {
    "collapsed": false,
    "jupyter": {
     "outputs_hidden": false
    },
    "pycharm": {
     "name": "#%%\n"
    }
   },
   "outputs": [],
   "source": [
    "performances = {\n",
    "    'J': j_performance,\n",
    "    'AA': aa_performance,\n",
    "    'PA': pa_performance,\n",
    "    'WJ': wj_performance,\n",
    "    'WAA': waa_performance,\n",
    "    'WPA': wpa_performance\n",
    "}\n",
    "\n",
    "colors = {\n",
    "    'J': 'tab:blue',\n",
    "    'AA': 'tab:orange',\n",
    "    'PA': 'tab:green',\n",
    "    'WJ': 'tab:blue',\n",
    "    'WAA': 'tab:orange',\n",
    "    'WPA': 'tab:green'\n",
    "}\n",
    "\n",
    "linestyles = {\n",
    "    'J': 'dashed',\n",
    "    'AA': 'dashed',\n",
    "    'PA': 'dashed',\n",
    "    'WJ': 'solid',\n",
    "    'WAA': 'solid',\n",
    "    'WPA': 'solid'\n",
    "}"
   ]
  },
  {
   "cell_type": "markdown",
   "metadata": {},
   "source": [
    "And we cross plot all metrics to compare the models."
   ]
  },
  {
   "cell_type": "code",
   "execution_count": 50,
   "metadata": {
    "collapsed": false,
    "jupyter": {
     "outputs_hidden": false
    },
    "pycharm": {
     "name": "#%%\n"
    }
   },
   "outputs": [
    {
     "data": {
      "image/png": "[encoded data removed]",
      "text/plain": [
       "<Figure size 432x288 with 1 Axes>"
      ]
     },
     "metadata": {
      "needs_background": "light"
     },
     "output_type": "display_data"
    }
   ],
   "source": [
    "cross_plot(performances, 'Accuracy', colors, linestyles)"
   ]
  },
  {
   "cell_type": "code",
   "execution_count": 51,
   "metadata": {
    "collapsed": false,
    "jupyter": {
     "outputs_hidden": false
    },
    "pycharm": {
     "name": "#%%\n"
    }
   },
   "outputs": [
    {
     "data": {
      "image/png": "[encoded data removed]",
      "text/plain": [
       "<Figure size 432x288 with 1 Axes>"
      ]
     },
     "metadata": {
      "needs_background": "light"
     },
     "output_type": "display_data"
    }
   ],
   "source": [
    "cross_plot(performances, 'Precision', colors, linestyles)"
   ]
  },
  {
   "cell_type": "code",
   "execution_count": 52,
   "metadata": {
    "collapsed": false,
    "jupyter": {
     "outputs_hidden": false
    },
    "pycharm": {
     "name": "#%%\n"
    }
   },
   "outputs": [
    {
     "data": {
      "image/png": "[encoded data removed]",
      "text/plain": [
       "<Figure size 432x288 with 1 Axes>"
      ]
     },
     "metadata": {
      "needs_background": "light"
     },
     "output_type": "display_data"
    }
   ],
   "source": [
    "cross_plot(performances, 'Recall', colors, linestyles)"
   ]
  },
  {
   "cell_type": "code",
   "execution_count": 53,
   "metadata": {
    "collapsed": false,
    "jupyter": {
     "outputs_hidden": false
    },
    "pycharm": {
     "name": "#%%\n"
    }
   },
   "outputs": [
    {
     "data": {
      "image/png": "[encoded data removed]",
      "text/plain": [
       "<Figure size 432x288 with 1 Axes>"
      ]
     },
     "metadata": {
      "needs_background": "light"
     },
     "output_type": "display_data"
    }
   ],
   "source": [
    "cross_plot(performances, 'FScore', colors, linestyles)"
   ]
  },
  {
   "cell_type": "markdown",
   "metadata": {},
   "source": [
    "We also compare the ROC and the AUC for each model."
   ]
  },
  {
   "cell_type": "code",
   "execution_count": 54,
   "metadata": {
    "collapsed": false,
    "jupyter": {
     "outputs_hidden": false
    },
    "pycharm": {
     "name": "#%%\n"
    }
   },
   "outputs": [
    {
     "data": {
      "text/plain": [
       "<matplotlib.legend.Legend at 0x7fa63fa5c640>"
      ]
     },
     "execution_count": 54,
     "metadata": {},
     "output_type": "execute_result"
    },
    {
     "data": {
      "image/png": "[encoded data removed]",
      "text/plain": [
       "<Figure size 432x288 with 1 Axes>"
      ]
     },
     "metadata": {
      "needs_background": "light"
     },
     "output_type": "display_data"
    }
   ],
   "source": [
    "fig, ax = plt.subplots()\n",
    "\n",
    "for model in performances:\n",
    "    # Extract FPR and TPR from DataFrame\n",
    "    fpr = pd.concat([pd.Series([1]), performances[model]['FPR'], pd.Series([0])])\n",
    "    tpr = pd.concat([pd.Series([1]), performances[model]['Recall'], pd.Series([0])])\n",
    "    # Compute AUC\n",
    "    roc_auc = auc(fpr, tpr)\n",
    "    # Plot curve\n",
    "    ax.plot(fpr, tpr, label='ROC ' + model + ' (AUC = %0.5f)' % roc_auc, color=colors[model], linestyle=linestyles[model], alpha=0.2)\n",
    "\n",
    "ax.plot([0, 1], [0, 1], 'k--')\n",
    "ax.set_xlim([0, 1])\n",
    "ax.set_ylim([0, 1])\n",
    "ax.set_xlabel('False Positive Rate (1 - Specifity)')\n",
    "ax.set_ylabel('True Positive Rate (Recall)')\n",
    "ax.set_title('Receiver Operating Characteristic (ROC)')\n",
    "ax.legend(loc='lower right')"
   ]
  },
  {
   "cell_type": "markdown",
   "metadata": {
    "pycharm": {
     "name": "#%% md\n"
    }
   },
   "source": [
    "### Conclusion\n",
    "\n",
    "After comparing the different metrics across all models, we may extract several conclusions:\n",
    "* The problem itself is hard. It is not easy even for human intuition to guess the future scientific collaborations, as there are no clear rules under which coauthorships happen in real life.\n",
    "* There is not much difference among the models we propose. However, the weighted versions of Jaccard coefficient and Adamic-Adar seem to marginally improve the regular ones, especially the former, and have slightly greater AUC.\n",
    "* Accuracy is very close to 1. This is because the number of true negatives is very high, the vast majority of non-edges are correctly predicted.\n",
    "* For low thresholds, the recall is rather high. The lower the threshold, the more edges we add, and hence the more of the actual new edges we predict correctly.\n",
    "* Precision is never very high. Since there are many possible new edges, the ones we predict are not very often the true ones. This also makes the F-score low.\n",
    "* For the ROC and AUC, we get very similar results. Again this is due to the large number of correctly predicted non-edges. For this metric, however, there is clearly a benefit of using any of the models against a random prediction of edges."
   ]
  },
  {
   "cell_type": "markdown",
   "metadata": {},
   "source": [
    "## 7. Construction of predicted graphs\n",
    "\n",
    "We may now finish by constructing the predicted graph taking the input parameters into account. For simplicity, we shall use the weighted Adamic-Adar index, but we could use any combination of the models above. As probability threshold to decide which edges to include, we shall use the one maximizing the F-score. For each added edge, its weight will be the floor of its score divided by the threshold."
   ]
  },
  {
   "cell_type": "code",
   "execution_count": 55,
   "metadata": {
    "collapsed": false,
    "jupyter": {
     "outputs_hidden": false
    },
    "pycharm": {
     "name": "#%%\n"
    }
   },
   "outputs": [],
   "source": [
    "import math\n",
    "\n",
    "future_period = list(range(present_year + 1, present_year + n_future_years + 1))\n",
    "G = G_train.copy()\n",
    "\n",
    "performances = {}\n",
    "predicted_graphs = {}\n",
    "for future_year in future_period:\n",
    "    # Build new edges for validation\n",
    "    full_period = list(range(present_year - n_past_years, future_year))\n",
    "    G_full = build_graph(people, pubs, authorships, full_period)\n",
    "\n",
    "    new_edges = G_full.subgraph(G).edges - G.edges\n",
    "    new_edges = [(min(u, v), max(u, v)) for (u, v) in new_edges]\n",
    "\n",
    "    # Compute number of possible non-edges\n",
    "    n_nodes = len(nx.nodes(G))\n",
    "    n_edges = len(nx.edges(G))\n",
    "    n_possible_non_edges = n_nodes*(n_nodes-1) - n_edges\n",
    "\n",
    "    # Compute 2-step non-edges\n",
    "    non_edges = step_2_non_edges(G)\n",
    "\n",
    "    # Edge prediction\n",
    "    pred_edges = list(weighted_adamic_adar_index(G, non_edges))\n",
    "    max_score = max([score for u, v, score in pred_edges])\n",
    "    pred_edges = [(u, v, score/max_score) for u, v, score in pred_edges]\n",
    "\n",
    "    # Compute performance, select best threshold and make final prediction\n",
    "    performances[future_year] = performance(new_edges, pred_edges)\n",
    "    max_fscore_idx = performances[future_year]['FScore'].idxmax()\n",
    "    threshold = performances[future_year]['Threshold'][max_fscore_idx]\n",
    "\n",
    "    pred_edges = [(u, v, math.floor(score/threshold)) for u, v, score in pred_edges if score >= threshold]\n",
    "\n",
    "    # Build and save next graph\n",
    "    G.add_weighted_edges_from(pred_edges)\n",
    "    predicted_graphs[future_year] = G.copy()"
   ]
  },
  {
   "cell_type": "markdown",
   "metadata": {},
   "source": [
    "We finish by writing all graphs into json files."
   ]
  },
  {
   "cell_type": "code",
   "execution_count": 56,
   "metadata": {
    "collapsed": false,
    "jupyter": {
     "outputs_hidden": false
    },
    "pycharm": {
     "name": "#%%\n"
    }
   },
   "outputs": [],
   "source": [
    "from networkx.readwrite import json_graph\n",
    "\n",
    "# Need to convert numpy.int64 to int\n",
    "class MyEncoder(json.JSONEncoder):\n",
    "    def default(self, obj):\n",
    "        if isinstance(obj, np.integer):\n",
    "            return int(obj)\n",
    "        else:\n",
    "            return super(MyEncoder, self).default(obj)\n",
    "\n",
    "def write_graph(G, filename):\n",
    "    G_json = json_graph.node_link_data(G)\n",
    "\n",
    "    with open(filename, 'w') as f:\n",
    "        json.dump(G_json, f, cls=MyEncoder)"
   ]
  },
  {
   "cell_type": "code",
   "execution_count": 57,
   "metadata": {
    "collapsed": false,
    "jupyter": {
     "outputs_hidden": false
    },
    "pycharm": {
     "name": "#%%\n"
    }
   },
   "outputs": [],
   "source": [
    "write_graph(G_train, 'out/present.json')\n",
    "for future_year in future_period:\n",
    "    write_graph(predicted_graphs[future_year], f'out/future-{future_year - present_year}.json')"
   ]
  }
 ],
 "metadata": {
  "kernelspec": {
   "display_name": "Python 3 (ipykernel)",
   "language": "python",
   "name": "python3"
  },
  "language_info": {
   "codemirror_mode": {
    "name": "ipython",
    "version": 3
   },
   "file_extension": ".py",
   "mimetype": "text/x-python",
   "name": "python",
   "nbconvert_exporter": "python",
   "pygments_lexer": "ipython3",
   "version": "3.8.13"
  }
 },
 "nbformat": 4,
 "nbformat_minor": 4
}
