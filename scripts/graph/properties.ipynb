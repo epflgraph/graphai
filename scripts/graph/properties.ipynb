{
 "cells": [
  {
   "cell_type": "code",
   "execution_count": 1,
   "id": "d2d992c4-5c37-4ecd-92fc-df36b091d0ae",
   "metadata": {},
   "outputs": [],
   "source": [
    "%load_ext autoreload\n",
    "%autoreload 2"
   ]
  },
  {
   "cell_type": "code",
   "execution_count": 228,
   "id": "71d21a1e-087c-4b3f-80dc-8c3152d00430",
   "metadata": {},
   "outputs": [],
   "source": [
    "import json\n",
    "import random\n",
    "import numpy as np\n",
    "\n",
    "from interfaces.db import DB\n",
    "\n",
    "from utils.progress_bar import ProgressBar\n",
    "from utils.text.io import save_json"
   ]
  },
  {
   "cell_type": "code",
   "execution_count": 135,
   "id": "967b6237-9f52-4324-af1b-d3b65a4142cc",
   "metadata": {},
   "outputs": [],
   "source": [
    "db = DB()"
   ]
  },
  {
   "cell_type": "code",
   "execution_count": 23,
   "id": "548a2dd3-32de-468d-b682-5c588aef1c5e",
   "metadata": {},
   "outputs": [],
   "source": [
    "query = \"\"\"\n",
    "SELECT DISTINCT SourcePageID AS PageID FROM piper_wikipedia.Page_Links_Random_Walk\n",
    "UNION\n",
    "SELECT DISTINCT TargetPageID AS PageID FROM piper_wikipedia.Page_Links_Random_Walk\n",
    "\"\"\"\n",
    "\n",
    "page_ids = db.execute_query(query)\n",
    "page_ids = [page_id for (page_id,) in page_ids]"
   ]
  },
  {
   "cell_type": "code",
   "execution_count": 139,
   "id": "b01ac1b2-d46b-43f1-9d14-3b889db02c8e",
   "metadata": {},
   "outputs": [],
   "source": [
    "query = f\"\"\"\n",
    "SELECT SourcePageID, TargetPageID\n",
    "FROM piper_wikipedia.Page_Links_Random_Walk\n",
    "\"\"\"\n",
    "\n",
    "adjacencies = db.execute_query(query)"
   ]
  },
  {
   "cell_type": "code",
   "execution_count": 149,
   "id": "40cf264f-e0c6-430e-8508-d4739e1338a5",
   "metadata": {},
   "outputs": [],
   "source": [
    "successors = {s: [] for s in page_ids}\n",
    "\n",
    "for s, t in adjacencies:\n",
    "    successors[s].append(t)\n",
    "\n",
    "predecessors = {t: [] for t in page_ids}\n",
    "\n",
    "for s, t in adjacencies:\n",
    "    predecessors[t].append(s)"
   ]
  },
  {
   "cell_type": "code",
   "execution_count": 150,
   "id": "81103e2f-e804-46e9-ab79-8da1d083d9da",
   "metadata": {},
   "outputs": [],
   "source": [
    "def get_random_pairs(n=100):\n",
    "    sources = random.sample(page_ids, n)\n",
    "    targets = random.sample(page_ids, n)\n",
    "\n",
    "    return list(zip(sources, targets))"
   ]
  },
  {
   "cell_type": "code",
   "execution_count": 151,
   "id": "5bb1c957-b1ab-4c38-8964-611aac6b8510",
   "metadata": {},
   "outputs": [],
   "source": [
    "pairs = get_random_pairs()"
   ]
  },
  {
   "cell_type": "code",
   "execution_count": 193,
   "id": "8daf8167-b77a-4fe0-abbc-70021abaf016",
   "metadata": {},
   "outputs": [],
   "source": [
    "def B(u, n):\n",
    "    if n == 0:\n",
    "        return {u}\n",
    "    \n",
    "    if n == 1:\n",
    "        return {u} | set(successors[u])\n",
    "    \n",
    "    if n == -1:\n",
    "        return {u} | set(predecessors[u])\n",
    "    \n",
    "    if n >= 2:\n",
    "        B_prev = B(u, n - 1)\n",
    "        S_prev = B_prev - B(u, n - 2)\n",
    "        \n",
    "        ball = B_prev\n",
    "        for v in S_prev:\n",
    "            ball |= B(v, 1)\n",
    "        \n",
    "        return ball\n",
    "    \n",
    "    if n <= -2:\n",
    "        B_prev = B(u, n + 1)\n",
    "        S_prev = B_prev - B(u, n + 2)\n",
    "        \n",
    "        ball = B_prev\n",
    "        for v in S_prev:\n",
    "            ball |= B(v, -1)\n",
    "\n",
    "        return ball\n",
    "\n",
    "def S(u, n):\n",
    "    if n == 0:\n",
    "        return {u}\n",
    "    \n",
    "    if n >= 1:\n",
    "        return B(u, n) - B(u, n - 1)\n",
    "    \n",
    "    if n <= -1:\n",
    "        return B(u, n) - B(u, n + 1)\n",
    "    \n",
    "    \n",
    "def min_dist(s, t):    \n",
    "    n = 0\n",
    "    s_out_prev = set()\n",
    "    t_in_prev = set()\n",
    "    s_stable = False\n",
    "    t_stable = False\n",
    "    while True:\n",
    "        if not s_stable:\n",
    "            s_out = B(s, n)\n",
    "\n",
    "            if s_out == s_out_prev:\n",
    "                s_stable = True\n",
    "            else:\n",
    "                s_out_prev = s_out\n",
    "\n",
    "        if not t_stable:\n",
    "            t_in = B(t, -n)\n",
    "\n",
    "            if t_in == t_in_prev:\n",
    "                t_stable = True\n",
    "            else:\n",
    "                t_in_prev = t_in\n",
    "        \n",
    "        if s_out & t_in:\n",
    "            return n\n",
    "        \n",
    "        if s_stable or t_stable:\n",
    "            return None\n",
    "\n",
    "        n += 1"
   ]
  },
  {
   "cell_type": "code",
   "execution_count": 170,
   "id": "7ff7c352-e1f1-477f-a6ee-79e93cf5382a",
   "metadata": {},
   "outputs": [
    {
     "name": "stdout",
     "output_type": "stream",
     "text": [
      "[##################################################] 100.00%\n"
     ]
    }
   ],
   "source": [
    "min_dists = []\n",
    "\n",
    "pb = ProgressBar(len(pairs))\n",
    "for s, t in pairs:\n",
    "    min_dists.append(min_dist(s, t))\n",
    "    pb.update()"
   ]
  },
  {
   "cell_type": "code",
   "execution_count": 174,
   "id": "5d049169-96d9-4c57-9c32-b108fa2b0422",
   "metadata": {},
   "outputs": [
    {
     "data": {
      "text/plain": [
       "2.463917525773196"
      ]
     },
     "execution_count": 174,
     "metadata": {},
     "output_type": "execute_result"
    }
   ],
   "source": [
    "np.mean([d for d in min_dists if d is not None])"
   ]
  },
  {
   "cell_type": "code",
   "execution_count": 164,
   "id": "03183139-736b-4265-99ef-727e4fcb802d",
   "metadata": {},
   "outputs": [
    {
     "name": "stdout",
     "output_type": "stream",
     "text": [
      "[##################################################] 100.00%\n"
     ]
    }
   ],
   "source": [
    "are_6_connected = []\n",
    "\n",
    "pb = ProgressBar(len(pairs))\n",
    "for s, t in pairs:\n",
    "    are_6_connected.append(len(B(s, 3) & B(t, -3)) > 0)\n",
    "    pb.update()"
   ]
  },
  {
   "cell_type": "code",
   "execution_count": 165,
   "id": "d35a3418-d643-4809-8321-c2d8a6e7f958",
   "metadata": {},
   "outputs": [
    {
     "data": {
      "text/plain": [
       "(96, 4)"
      ]
     },
     "execution_count": 165,
     "metadata": {},
     "output_type": "execute_result"
    }
   ],
   "source": [
    "are_6_connected.count(True), are_6_connected.count(False)"
   ]
  },
  {
   "cell_type": "code",
   "execution_count": 166,
   "id": "206ff449-b903-4703-865b-9035a7a1bb9b",
   "metadata": {},
   "outputs": [],
   "source": [
    "sources = []\n",
    "sinks = []\n",
    "isolated = []\n",
    "\n",
    "for u in successors:\n",
    "    if not successors[u]:\n",
    "        sinks.append(u)\n",
    "        \n",
    "    if not predecessors[u]:\n",
    "        sources.append(u)\n",
    "    \n",
    "    if not successors[u] and not predecessors[u]:\n",
    "        isolated.append(u)"
   ]
  },
  {
   "cell_type": "code",
   "execution_count": 167,
   "id": "0d90ecf0-e1a2-400d-bed2-6dd9b38b33cb",
   "metadata": {},
   "outputs": [
    {
     "data": {
      "text/plain": [
       "(864699, 864699, 37261, 8668, 0)"
      ]
     },
     "execution_count": 167,
     "metadata": {},
     "output_type": "execute_result"
    }
   ],
   "source": [
    "len(successors), len(predecessors), len(sources), len(sinks), len(isolated)"
   ]
  },
  {
   "cell_type": "code",
   "execution_count": 230,
   "id": "2ab50cd4-d007-43f7-94b3-e0e28ac8e3c0",
   "metadata": {},
   "outputs": [],
   "source": [
    "from definitions import DATA_DIR\n",
    "\n",
    "save_json(successors, f'{DATA_DIR}/db_predecessors.json')\n",
    "save_json(predecessors, f'{DATA_DIR}/db_predecessors.json')"
   ]
  }
 ],
 "metadata": {
  "kernelspec": {
   "display_name": "Python 3 (ipykernel)",
   "language": "python",
   "name": "python3"
  },
  "language_info": {
   "codemirror_mode": {
    "name": "ipython",
    "version": 3
   },
   "file_extension": ".py",
   "mimetype": "text/x-python",
   "name": "python",
   "nbconvert_exporter": "python",
   "pygments_lexer": "ipython3",
   "version": "3.8.13"
  }
 },
 "nbformat": 4,
 "nbformat_minor": 5
}
