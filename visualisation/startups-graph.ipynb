{
 "cells": [
  {
   "cell_type": "code",
   "execution_count": 1,
   "id": "6f7d147f-b653-4d67-aedf-28a6197ed23b",
   "metadata": {},
   "outputs": [],
   "source": [
    "%load_ext autoreload\n",
    "%autoreload 2"
   ]
  },
  {
   "cell_type": "code",
   "execution_count": 2,
   "id": "894cc88a-deb5-4821-ac44-f78c71d24755",
   "metadata": {},
   "outputs": [],
   "source": [
    "import pandas as pd\n",
    "\n",
    "from interfaces.db import DB"
   ]
  },
  {
   "cell_type": "code",
   "execution_count": 3,
   "id": "c573737b-2690-4f57-99e4-07039556d7d2",
   "metadata": {},
   "outputs": [],
   "source": [
    "db = DB()"
   ]
  },
  {
   "cell_type": "markdown",
   "id": "12303c9f-e6ac-4e67-ad61-c8f9ae2d0669",
   "metadata": {},
   "source": [
    "## Fetch data from database"
   ]
  },
  {
   "cell_type": "code",
   "execution_count": 4,
   "id": "81a121ac-5268-469d-95df-eba7b8c87c32",
   "metadata": {},
   "outputs": [],
   "source": [
    "# Get EPFLStartups\n",
    "table_name = 'graph_piper.Nodes_N_EPFLStartup'\n",
    "fields = ['EPFLStartupID', 'StartupName', 'Industry']\n",
    "conditions = {'Status': 'Private'}\n",
    "startups = pd.DataFrame(db.find(table_name, fields=fields, conditions=conditions), columns=fields)"
   ]
  },
  {
   "cell_type": "code",
   "execution_count": 5,
   "id": "4a1b2ba5-d0cf-4a48-9d12-524ed6c1feb2",
   "metadata": {},
   "outputs": [],
   "source": [
    "# Get startups' founders\n",
    "table_name = 'graph_piper.Edges_N_EPFLStartup_N_Person_T_Founder'\n",
    "fields = ['EPFLStartupID', 'SCIPER']\n",
    "startups_founders = pd.DataFrame(db.find(table_name, fields=fields), columns=fields)\n",
    "founder_ids = list(startups_founders['SCIPER'].drop_duplicates())"
   ]
  },
  {
   "cell_type": "code",
   "execution_count": 6,
   "id": "2f32e4f1-a423-4b29-9f72-05f983c3421d",
   "metadata": {},
   "outputs": [],
   "source": [
    "# Get startups' professors\n",
    "table_name = 'graph_piper.Edges_N_EPFLStartup_N_Person_T_Professor'\n",
    "fields = ['EPFLStartupID', 'SCIPER']\n",
    "startups_professors = pd.DataFrame(db.find(table_name, fields=fields), columns=fields)\n",
    "professor_ids = list(startups_professors['SCIPER'].drop_duplicates())"
   ]
  },
  {
   "cell_type": "code",
   "execution_count": 7,
   "id": "c4c30481-abfb-441c-af6c-f9f28f6df0d1",
   "metadata": {},
   "outputs": [],
   "source": [
    "# Get founders' concepts\n",
    "table_name = 'graph_piper.Edges_N_Person_N_Concept_T_Research'\n",
    "fields = ['SCIPER', 'PageID', 'Score']\n",
    "conditions = {'SCIPER': founder_ids}\n",
    "founders_concepts = pd.DataFrame(db.find(table_name, fields=fields, conditions=conditions), columns=fields)\n",
    "founders_concept_ids = list(founders_concepts['PageID'].drop_duplicates())"
   ]
  },
  {
   "cell_type": "code",
   "execution_count": 8,
   "id": "d22f9fe5-d45a-47ae-a9a9-68fa1c96181c",
   "metadata": {},
   "outputs": [],
   "source": [
    "# Get professors' concepts\n",
    "table_name = 'graph_piper.Edges_N_Person_N_Concept_T_Research'\n",
    "fields = ['SCIPER', 'PageID', 'Score']\n",
    "conditions = {'SCIPER': professor_ids}\n",
    "professors_concepts = pd.DataFrame(db.find(table_name, fields=fields, conditions=conditions), columns=fields)\n",
    "professors_concept_ids = list(professors_concepts['PageID'].drop_duplicates())"
   ]
  },
  {
   "cell_type": "code",
   "execution_count": 9,
   "id": "be2b35be-d808-476b-a075-aa164bc37bc4",
   "metadata": {},
   "outputs": [],
   "source": [
    "# Get concepts\n",
    "table_name = 'graph_piper.Nodes_N_Concept_T_Title'\n",
    "fields = ['PageID', 'PageTitle']\n",
    "conditions = {'PageID': founders_concept_ids + professors_concept_ids}\n",
    "concepts = pd.DataFrame(db.find(table_name, fields=fields, conditions=conditions), columns=fields)"
   ]
  },
  {
   "cell_type": "markdown",
   "id": "9fbc0b54-5b5a-4f29-9281-3cc1d6fc61ac",
   "metadata": {},
   "source": [
    "## Merge tables to obtain EPFLStartup-Concept edges"
   ]
  },
  {
   "cell_type": "code",
   "execution_count": 10,
   "id": "ee358109-abc2-40ec-bc82-88352fac301c",
   "metadata": {},
   "outputs": [
    {
     "data": {
      "text/html": [
       "<div>\n",
       "<style scoped>\n",
       "    .dataframe tbody tr th:only-of-type {\n",
       "        vertical-align: middle;\n",
       "    }\n",
       "\n",
       "    .dataframe tbody tr th {\n",
       "        vertical-align: top;\n",
       "    }\n",
       "\n",
       "    .dataframe thead th {\n",
       "        text-align: right;\n",
       "    }\n",
       "</style>\n",
       "<table border=\"1\" class=\"dataframe\">\n",
       "  <thead>\n",
       "    <tr style=\"text-align: right;\">\n",
       "      <th></th>\n",
       "      <th>EPFLStartupID</th>\n",
       "      <th>StartupName</th>\n",
       "      <th>Industry</th>\n",
       "    </tr>\n",
       "  </thead>\n",
       "  <tbody>\n",
       "    <tr>\n",
       "      <th>0</th>\n",
       "      <td>es-abionic</td>\n",
       "      <td>Abionic</td>\n",
       "      <td>Medtech</td>\n",
       "    </tr>\n",
       "    <tr>\n",
       "      <th>1</th>\n",
       "      <td>es-aeds</td>\n",
       "      <td>AEDS</td>\n",
       "      <td>Mechanical</td>\n",
       "    </tr>\n",
       "    <tr>\n",
       "      <th>2</th>\n",
       "      <td>es-aeler-technologies</td>\n",
       "      <td>Aeler Technologies</td>\n",
       "      <td>Mechanical</td>\n",
       "    </tr>\n",
       "    <tr>\n",
       "      <th>3</th>\n",
       "      <td>es-aesyra-aesybyte</td>\n",
       "      <td>Aesyra</td>\n",
       "      <td>Medtech</td>\n",
       "    </tr>\n",
       "    <tr>\n",
       "      <th>4</th>\n",
       "      <td>es-aica</td>\n",
       "      <td>Aica</td>\n",
       "      <td>Mechanical</td>\n",
       "    </tr>\n",
       "    <tr>\n",
       "      <th>...</th>\n",
       "      <td>...</td>\n",
       "      <td>...</td>\n",
       "      <td>...</td>\n",
       "    </tr>\n",
       "    <tr>\n",
       "      <th>252</th>\n",
       "      <td>es-xsensio-sarl</td>\n",
       "      <td>Xsensio Sarl</td>\n",
       "      <td>Micro-nanotech</td>\n",
       "    </tr>\n",
       "    <tr>\n",
       "      <th>253</th>\n",
       "      <td>es-xtenso</td>\n",
       "      <td>Xtenso</td>\n",
       "      <td>ICT</td>\n",
       "    </tr>\n",
       "    <tr>\n",
       "      <th>254</th>\n",
       "      <td>es-zace</td>\n",
       "      <td>Zace</td>\n",
       "      <td>ICT</td>\n",
       "    </tr>\n",
       "    <tr>\n",
       "      <th>255</th>\n",
       "      <td>es-zaphiro-technologies</td>\n",
       "      <td>Zaphiro Technologies</td>\n",
       "      <td>Electrical-electronics</td>\n",
       "    </tr>\n",
       "    <tr>\n",
       "      <th>256</th>\n",
       "      <td>es-zebravia-doo</td>\n",
       "      <td>Zebravia d.o.o.</td>\n",
       "      <td>ICT</td>\n",
       "    </tr>\n",
       "  </tbody>\n",
       "</table>\n",
       "<p>257 rows × 3 columns</p>\n",
       "</div>"
      ],
      "text/plain": [
       "               EPFLStartupID           StartupName                Industry\n",
       "0                 es-abionic               Abionic                 Medtech\n",
       "1                    es-aeds                  AEDS              Mechanical\n",
       "2      es-aeler-technologies    Aeler Technologies              Mechanical\n",
       "3         es-aesyra-aesybyte                Aesyra                 Medtech\n",
       "4                    es-aica                  Aica              Mechanical\n",
       "..                       ...                   ...                     ...\n",
       "252          es-xsensio-sarl          Xsensio Sarl          Micro-nanotech\n",
       "253                es-xtenso                Xtenso                     ICT\n",
       "254                  es-zace                  Zace                     ICT\n",
       "255  es-zaphiro-technologies  Zaphiro Technologies  Electrical-electronics\n",
       "256          es-zebravia-doo       Zebravia d.o.o.                     ICT\n",
       "\n",
       "[257 rows x 3 columns]"
      ]
     },
     "execution_count": 10,
     "metadata": {},
     "output_type": "execute_result"
    }
   ],
   "source": [
    "startups"
   ]
  },
  {
   "cell_type": "code",
   "execution_count": 11,
   "id": "a5ace12d-afa6-4884-bac7-c8b9cd0d2d73",
   "metadata": {},
   "outputs": [],
   "source": [
    "startups_founders = pd.merge(startups, startups_founders, how='inner', on='EPFLStartupID')\n",
    "startups_founders_concepts = pd.merge(startups_founders, founders_concepts, how='inner', on='SCIPER')\n",
    "startups_founders_concepts = startups_founders_concepts.groupby(by=['EPFLStartupID', 'PageID']).aggregate({'Score': 'sum'}).reset_index()"
   ]
  },
  {
   "cell_type": "code",
   "execution_count": 12,
   "id": "faeaa6dd-9121-4a61-a34d-0e1c91361b3f",
   "metadata": {},
   "outputs": [],
   "source": [
    "startups_professors = pd.merge(startups, startups_professors, how='inner', on='EPFLStartupID')\n",
    "startups_professors_concepts = pd.merge(startups_professors, professors_concepts, how='inner', on='SCIPER')\n",
    "startups_professors_concepts = startups_professors_concepts.groupby(by=['EPFLStartupID', 'PageID']).aggregate({'Score': 'sum'}).reset_index()"
   ]
  },
  {
   "cell_type": "code",
   "execution_count": null,
   "id": "d2dd70b6-be7c-41a4-8b7e-1550efb08404",
   "metadata": {},
   "outputs": [],
   "source": []
  },
  {
   "cell_type": "code",
   "execution_count": 17,
   "id": "61957ba1-da29-4f54-bb67-9f6919daddff",
   "metadata": {},
   "outputs": [
    {
     "data": {
      "text/html": [
       "<div>\n",
       "<style scoped>\n",
       "    .dataframe tbody tr th:only-of-type {\n",
       "        vertical-align: middle;\n",
       "    }\n",
       "\n",
       "    .dataframe tbody tr th {\n",
       "        vertical-align: top;\n",
       "    }\n",
       "\n",
       "    .dataframe thead th {\n",
       "        text-align: right;\n",
       "    }\n",
       "</style>\n",
       "<table border=\"1\" class=\"dataframe\">\n",
       "  <thead>\n",
       "    <tr style=\"text-align: right;\">\n",
       "      <th></th>\n",
       "      <th>PageID</th>\n",
       "      <th>Score</th>\n",
       "    </tr>\n",
       "  </thead>\n",
       "  <tbody>\n",
       "    <tr>\n",
       "      <th>count</th>\n",
       "      <td>4.426000e+03</td>\n",
       "      <td>4426.000000</td>\n",
       "    </tr>\n",
       "    <tr>\n",
       "      <th>mean</th>\n",
       "      <td>4.366315e+06</td>\n",
       "      <td>2.712742</td>\n",
       "    </tr>\n",
       "    <tr>\n",
       "      <th>std</th>\n",
       "      <td>9.641623e+06</td>\n",
       "      <td>6.382074</td>\n",
       "    </tr>\n",
       "    <tr>\n",
       "      <th>min</th>\n",
       "      <td>2.500000e+01</td>\n",
       "      <td>0.301765</td>\n",
       "    </tr>\n",
       "    <tr>\n",
       "      <th>25%</th>\n",
       "      <td>3.719900e+04</td>\n",
       "      <td>0.752383</td>\n",
       "    </tr>\n",
       "    <tr>\n",
       "      <th>50%</th>\n",
       "      <td>3.168625e+05</td>\n",
       "      <td>1.274365</td>\n",
       "    </tr>\n",
       "    <tr>\n",
       "      <th>75%</th>\n",
       "      <td>2.476345e+06</td>\n",
       "      <td>2.452348</td>\n",
       "    </tr>\n",
       "    <tr>\n",
       "      <th>max</th>\n",
       "      <td>6.242023e+07</td>\n",
       "      <td>140.813000</td>\n",
       "    </tr>\n",
       "  </tbody>\n",
       "</table>\n",
       "</div>"
      ],
      "text/plain": [
       "             PageID        Score\n",
       "count  4.426000e+03  4426.000000\n",
       "mean   4.366315e+06     2.712742\n",
       "std    9.641623e+06     6.382074\n",
       "min    2.500000e+01     0.301765\n",
       "25%    3.719900e+04     0.752383\n",
       "50%    3.168625e+05     1.274365\n",
       "75%    2.476345e+06     2.452348\n",
       "max    6.242023e+07   140.813000"
      ]
     },
     "execution_count": 17,
     "metadata": {},
     "output_type": "execute_result"
    }
   ],
   "source": [
    "startups_founders_concepts.describe()"
   ]
  },
  {
   "cell_type": "code",
   "execution_count": 18,
   "id": "c9e7f6dc-7cf0-48d2-acf9-0bf020359903",
   "metadata": {},
   "outputs": [
    {
     "data": {
      "text/html": [
       "<div>\n",
       "<style scoped>\n",
       "    .dataframe tbody tr th:only-of-type {\n",
       "        vertical-align: middle;\n",
       "    }\n",
       "\n",
       "    .dataframe tbody tr th {\n",
       "        vertical-align: top;\n",
       "    }\n",
       "\n",
       "    .dataframe thead th {\n",
       "        text-align: right;\n",
       "    }\n",
       "</style>\n",
       "<table border=\"1\" class=\"dataframe\">\n",
       "  <thead>\n",
       "    <tr style=\"text-align: right;\">\n",
       "      <th></th>\n",
       "      <th>PageID</th>\n",
       "      <th>Score</th>\n",
       "    </tr>\n",
       "  </thead>\n",
       "  <tbody>\n",
       "    <tr>\n",
       "      <th>count</th>\n",
       "      <td>3.391500e+04</td>\n",
       "      <td>33915.000000</td>\n",
       "    </tr>\n",
       "    <tr>\n",
       "      <th>mean</th>\n",
       "      <td>4.635990e+06</td>\n",
       "      <td>2.744948</td>\n",
       "    </tr>\n",
       "    <tr>\n",
       "      <th>std</th>\n",
       "      <td>9.980400e+06</td>\n",
       "      <td>5.668253</td>\n",
       "    </tr>\n",
       "    <tr>\n",
       "      <th>min</th>\n",
       "      <td>2.500000e+01</td>\n",
       "      <td>0.301103</td>\n",
       "    </tr>\n",
       "    <tr>\n",
       "      <th>25%</th>\n",
       "      <td>4.025400e+04</td>\n",
       "      <td>0.847113</td>\n",
       "    </tr>\n",
       "    <tr>\n",
       "      <th>50%</th>\n",
       "      <td>3.150430e+05</td>\n",
       "      <td>1.468000</td>\n",
       "    </tr>\n",
       "    <tr>\n",
       "      <th>75%</th>\n",
       "      <td>2.627776e+06</td>\n",
       "      <td>2.728520</td>\n",
       "    </tr>\n",
       "    <tr>\n",
       "      <th>max</th>\n",
       "      <td>6.242023e+07</td>\n",
       "      <td>327.924000</td>\n",
       "    </tr>\n",
       "  </tbody>\n",
       "</table>\n",
       "</div>"
      ],
      "text/plain": [
       "             PageID         Score\n",
       "count  3.391500e+04  33915.000000\n",
       "mean   4.635990e+06      2.744948\n",
       "std    9.980400e+06      5.668253\n",
       "min    2.500000e+01      0.301103\n",
       "25%    4.025400e+04      0.847113\n",
       "50%    3.150430e+05      1.468000\n",
       "75%    2.627776e+06      2.728520\n",
       "max    6.242023e+07    327.924000"
      ]
     },
     "execution_count": 18,
     "metadata": {},
     "output_type": "execute_result"
    }
   ],
   "source": [
    "startups_professors_concepts.describe()"
   ]
  },
  {
   "cell_type": "code",
   "execution_count": null,
   "id": "53ac1539-2de3-4d50-b25f-a50f99e41e68",
   "metadata": {},
   "outputs": [],
   "source": []
  },
  {
   "cell_type": "code",
   "execution_count": null,
   "id": "b4fa9a38-0c39-4d3d-90c1-c86790dfdac7",
   "metadata": {},
   "outputs": [],
   "source": []
  },
  {
   "cell_type": "code",
   "execution_count": null,
   "id": "7cf16b65-2514-49d6-9b31-78d9f0dc78fb",
   "metadata": {},
   "outputs": [],
   "source": []
  },
  {
   "cell_type": "code",
   "execution_count": 7,
   "id": "fd503b4e-043e-407a-adbb-c3c0da57d70f",
   "metadata": {},
   "outputs": [],
   "source": [
    "import networkx as nx"
   ]
  },
  {
   "cell_type": "code",
   "execution_count": 8,
   "id": "327a7f56-30e5-4733-9edf-f24117435595",
   "metadata": {},
   "outputs": [],
   "source": [
    "G = nx.Graph()"
   ]
  },
  {
   "cell_type": "code",
   "execution_count": 9,
   "id": "595567d4-3bb9-45ee-bd0b-ca8327ae1d65",
   "metadata": {},
   "outputs": [],
   "source": [
    "nodes = [(i, {'label': i}) for i in range(1, 1 + 6)]\n",
    "G.add_nodes_from(nodes)"
   ]
  },
  {
   "cell_type": "code",
   "execution_count": 10,
   "id": "6af8ab5f-bf5c-4a85-8661-a04b74435058",
   "metadata": {},
   "outputs": [],
   "source": [
    "edges = [(1, 2, {'weight': 0.9}), (1, 3, {'weight': 0.7}), (2, 3, {'weight': 0.5}), (3, 4, {'weight': 0.3}), (3, 5, {'weight': 0.4}), (4, 5, {'weight': 0.8}), (4, 6, {'weight': 0.6}), (5, 6, {'weight': 0.9})]\n",
    "G.add_edges_from(edges)"
   ]
  },
  {
   "cell_type": "code",
   "execution_count": 11,
   "id": "8d7a8359-665a-4668-bbdc-70843ae301fe",
   "metadata": {},
   "outputs": [
    {
     "data": {
      "image/png": "[encoded data removed]",
      "text/plain": [
       "<Figure size 432x288 with 1 Axes>"
      ]
     },
     "metadata": {},
     "output_type": "display_data"
    }
   ],
   "source": [
    "nx.draw(G)"
   ]
  },
  {
   "cell_type": "code",
   "execution_count": 12,
   "id": "5fe02b63-10ce-41fc-bf2b-fe8be1ac2282",
   "metadata": {},
   "outputs": [],
   "source": [
    "nx.write_gexf(G, \"test.gexf\")"
   ]
  },
  {
   "cell_type": "code",
   "execution_count": null,
   "id": "823a416e-3d1e-4874-9401-5c149cdd696f",
   "metadata": {},
   "outputs": [],
   "source": []
  },
  {
   "cell_type": "code",
   "execution_count": null,
   "id": "ae8ca660-2ac4-4f77-bfc1-4005e70b69fb",
   "metadata": {},
   "outputs": [],
   "source": []
  }
 ],
 "metadata": {
  "kernelspec": {
   "display_name": "Python 3 (ipykernel)",
   "language": "python",
   "name": "python3"
  },
  "language_info": {
   "codemirror_mode": {
    "name": "ipython",
    "version": 3
   },
   "file_extension": ".py",
   "mimetype": "text/x-python",
   "name": "python",
   "nbconvert_exporter": "python",
   "pygments_lexer": "ipython3",
   "version": "3.8.13"
  }
 },
 "nbformat": 4,
 "nbformat_minor": 5
}
