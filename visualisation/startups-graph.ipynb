{
 "cells": [
  {
   "cell_type": "code",
   "execution_count": 1,
   "id": "6f7d147f-b653-4d67-aedf-28a6197ed23b",
   "metadata": {},
   "outputs": [],
   "source": [
    "%load_ext autoreload\n",
    "%autoreload 2"
   ]
  },
  {
   "cell_type": "code",
   "execution_count": 2,
   "id": "894cc88a-deb5-4821-ac44-f78c71d24755",
   "metadata": {},
   "outputs": [],
   "source": [
    "import pandas as pd\n",
    "\n",
    "from interfaces.db import DB\n",
    "\n",
    "from investment.concept_configuration import normalise"
   ]
  },
  {
   "cell_type": "code",
   "execution_count": 3,
   "id": "c573737b-2690-4f57-99e4-07039556d7d2",
   "metadata": {},
   "outputs": [],
   "source": [
    "db = DB()"
   ]
  },
  {
   "cell_type": "markdown",
   "id": "12303c9f-e6ac-4e67-ad61-c8f9ae2d0669",
   "metadata": {},
   "source": [
    "## Fetch data from database"
   ]
  },
  {
   "cell_type": "code",
   "execution_count": 4,
   "id": "81a121ac-5268-469d-95df-eba7b8c87c32",
   "metadata": {},
   "outputs": [],
   "source": [
    "# Get EPFLStartups\n",
    "table_name = 'graph_piper.Nodes_N_EPFLStartup'\n",
    "fields = ['EPFLStartupID', 'StartupName', 'Industry']\n",
    "conditions = {'Status': 'Private'}\n",
    "startups = pd.DataFrame(db.find(table_name, fields=fields, conditions=conditions), columns=fields)"
   ]
  },
  {
   "cell_type": "code",
   "execution_count": 5,
   "id": "4a1b2ba5-d0cf-4a48-9d12-524ed6c1feb2",
   "metadata": {},
   "outputs": [],
   "source": [
    "# Get startups' founders\n",
    "table_name = 'graph_piper.Edges_N_EPFLStartup_N_Person_T_Founder'\n",
    "fields = ['EPFLStartupID', 'SCIPER']\n",
    "startups_founders = pd.DataFrame(db.find(table_name, fields=fields), columns=fields)\n",
    "founder_ids = list(startups_founders['SCIPER'].drop_duplicates())"
   ]
  },
  {
   "cell_type": "code",
   "execution_count": 6,
   "id": "2f32e4f1-a423-4b29-9f72-05f983c3421d",
   "metadata": {},
   "outputs": [],
   "source": [
    "# Get startups' professors\n",
    "table_name = 'graph_piper.Edges_N_EPFLStartup_N_Person_T_Professor'\n",
    "fields = ['EPFLStartupID', 'SCIPER']\n",
    "startups_professors = pd.DataFrame(db.find(table_name, fields=fields), columns=fields)\n",
    "professor_ids = list(startups_professors['SCIPER'].drop_duplicates())"
   ]
  },
  {
   "cell_type": "code",
   "execution_count": 7,
   "id": "c4c30481-abfb-441c-af6c-f9f28f6df0d1",
   "metadata": {},
   "outputs": [],
   "source": [
    "# Get founders' concepts\n",
    "table_name = 'graph_piper.Edges_N_Person_N_Concept_T_Research'\n",
    "fields = ['SCIPER', 'PageID', 'Score']\n",
    "conditions = {'SCIPER': founder_ids}\n",
    "founders_concepts = pd.DataFrame(db.find(table_name, fields=fields, conditions=conditions), columns=fields)\n",
    "founders_concept_ids = list(founders_concepts['PageID'].drop_duplicates())"
   ]
  },
  {
   "cell_type": "code",
   "execution_count": 8,
   "id": "d22f9fe5-d45a-47ae-a9a9-68fa1c96181c",
   "metadata": {},
   "outputs": [],
   "source": [
    "# Get professors' concepts\n",
    "table_name = 'graph_piper.Edges_N_Person_N_Concept_T_Research'\n",
    "fields = ['SCIPER', 'PageID', 'Score']\n",
    "conditions = {'SCIPER': professor_ids}\n",
    "professors_concepts = pd.DataFrame(db.find(table_name, fields=fields, conditions=conditions), columns=fields)\n",
    "professors_concept_ids = list(professors_concepts['PageID'].drop_duplicates())"
   ]
  },
  {
   "cell_type": "code",
   "execution_count": 9,
   "id": "be2b35be-d808-476b-a075-aa164bc37bc4",
   "metadata": {},
   "outputs": [],
   "source": [
    "# Get concepts\n",
    "table_name = 'graph_piper.Nodes_N_Concept_T_Title'\n",
    "fields = ['PageID', 'PageTitle']\n",
    "conditions = {'PageID': founders_concept_ids + professors_concept_ids}\n",
    "concepts = pd.DataFrame(db.find(table_name, fields=fields, conditions=conditions), columns=fields)"
   ]
  },
  {
   "cell_type": "markdown",
   "id": "9fbc0b54-5b5a-4f29-9281-3cc1d6fc61ac",
   "metadata": {},
   "source": [
    "## Merge tables to obtain EPFLStartup-Concept edges"
   ]
  },
  {
   "cell_type": "code",
   "execution_count": 10,
   "id": "ee358109-abc2-40ec-bc82-88352fac301c",
   "metadata": {},
   "outputs": [
    {
     "data": {
      "text/html": [
       "<div>\n",
       "<style scoped>\n",
       "    .dataframe tbody tr th:only-of-type {\n",
       "        vertical-align: middle;\n",
       "    }\n",
       "\n",
       "    .dataframe tbody tr th {\n",
       "        vertical-align: top;\n",
       "    }\n",
       "\n",
       "    .dataframe thead th {\n",
       "        text-align: right;\n",
       "    }\n",
       "</style>\n",
       "<table border=\"1\" class=\"dataframe\">\n",
       "  <thead>\n",
       "    <tr style=\"text-align: right;\">\n",
       "      <th></th>\n",
       "      <th>EPFLStartupID</th>\n",
       "      <th>StartupName</th>\n",
       "      <th>Industry</th>\n",
       "    </tr>\n",
       "  </thead>\n",
       "  <tbody>\n",
       "    <tr>\n",
       "      <th>0</th>\n",
       "      <td>es-abionic</td>\n",
       "      <td>Abionic</td>\n",
       "      <td>Medtech</td>\n",
       "    </tr>\n",
       "    <tr>\n",
       "      <th>1</th>\n",
       "      <td>es-aeds</td>\n",
       "      <td>AEDS</td>\n",
       "      <td>Mechanical</td>\n",
       "    </tr>\n",
       "    <tr>\n",
       "      <th>2</th>\n",
       "      <td>es-aeler-technologies</td>\n",
       "      <td>Aeler Technologies</td>\n",
       "      <td>Mechanical</td>\n",
       "    </tr>\n",
       "    <tr>\n",
       "      <th>3</th>\n",
       "      <td>es-aesyra-aesybyte</td>\n",
       "      <td>Aesyra</td>\n",
       "      <td>Medtech</td>\n",
       "    </tr>\n",
       "    <tr>\n",
       "      <th>4</th>\n",
       "      <td>es-aica</td>\n",
       "      <td>Aica</td>\n",
       "      <td>Mechanical</td>\n",
       "    </tr>\n",
       "    <tr>\n",
       "      <th>...</th>\n",
       "      <td>...</td>\n",
       "      <td>...</td>\n",
       "      <td>...</td>\n",
       "    </tr>\n",
       "    <tr>\n",
       "      <th>252</th>\n",
       "      <td>es-xsensio-sarl</td>\n",
       "      <td>Xsensio Sarl</td>\n",
       "      <td>Micro-nanotech</td>\n",
       "    </tr>\n",
       "    <tr>\n",
       "      <th>253</th>\n",
       "      <td>es-xtenso</td>\n",
       "      <td>Xtenso</td>\n",
       "      <td>ICT</td>\n",
       "    </tr>\n",
       "    <tr>\n",
       "      <th>254</th>\n",
       "      <td>es-zace</td>\n",
       "      <td>Zace</td>\n",
       "      <td>ICT</td>\n",
       "    </tr>\n",
       "    <tr>\n",
       "      <th>255</th>\n",
       "      <td>es-zaphiro-technologies</td>\n",
       "      <td>Zaphiro Technologies</td>\n",
       "      <td>Electrical-electronics</td>\n",
       "    </tr>\n",
       "    <tr>\n",
       "      <th>256</th>\n",
       "      <td>es-zebravia-doo</td>\n",
       "      <td>Zebravia d.o.o.</td>\n",
       "      <td>ICT</td>\n",
       "    </tr>\n",
       "  </tbody>\n",
       "</table>\n",
       "<p>257 rows × 3 columns</p>\n",
       "</div>"
      ],
      "text/plain": [
       "               EPFLStartupID           StartupName                Industry\n",
       "0                 es-abionic               Abionic                 Medtech\n",
       "1                    es-aeds                  AEDS              Mechanical\n",
       "2      es-aeler-technologies    Aeler Technologies              Mechanical\n",
       "3         es-aesyra-aesybyte                Aesyra                 Medtech\n",
       "4                    es-aica                  Aica              Mechanical\n",
       "..                       ...                   ...                     ...\n",
       "252          es-xsensio-sarl          Xsensio Sarl          Micro-nanotech\n",
       "253                es-xtenso                Xtenso                     ICT\n",
       "254                  es-zace                  Zace                     ICT\n",
       "255  es-zaphiro-technologies  Zaphiro Technologies  Electrical-electronics\n",
       "256          es-zebravia-doo       Zebravia d.o.o.                     ICT\n",
       "\n",
       "[257 rows x 3 columns]"
      ]
     },
     "execution_count": 10,
     "metadata": {},
     "output_type": "execute_result"
    }
   ],
   "source": [
    "startups"
   ]
  },
  {
   "cell_type": "code",
   "execution_count": 11,
   "id": "a5ace12d-afa6-4884-bac7-c8b9cd0d2d73",
   "metadata": {},
   "outputs": [],
   "source": [
    "startups_founders = pd.merge(startups, startups_founders, how='inner', on='EPFLStartupID')\n",
    "startups_founders_concepts = pd.merge(startups_founders, founders_concepts, how='inner', on='SCIPER')\n",
    "startups_founders_concepts = startups_founders_concepts.groupby(by=['EPFLStartupID', 'PageID']).aggregate({'Score': 'sum'}).reset_index()\n",
    "startups_founders_concepts = pd.merge(startups, startups_founders_concepts, how='inner', on='EPFLStartupID')"
   ]
  },
  {
   "cell_type": "code",
   "execution_count": 12,
   "id": "faeaa6dd-9121-4a61-a34d-0e1c91361b3f",
   "metadata": {},
   "outputs": [],
   "source": [
    "startups_professors = pd.merge(startups, startups_professors, how='inner', on='EPFLStartupID')\n",
    "startups_professors_concepts = pd.merge(startups_professors, professors_concepts, how='inner', on='SCIPER')\n",
    "startups_professors_concepts = startups_professors_concepts.groupby(by=['EPFLStartupID', 'PageID']).aggregate({'Score': 'sum'}).reset_index()\n",
    "startups_professors_concepts = pd.merge(startups, startups_professors_concepts, how='inner', on='EPFLStartupID')"
   ]
  },
  {
   "cell_type": "code",
   "execution_count": 13,
   "id": "86ddb039-360c-4bf8-8670-3c585a8fd40e",
   "metadata": {},
   "outputs": [],
   "source": [
    "# We give priority to the founders' concepts and use the professors' concepts as fallback\n",
    "startup_with_founder_ids = list(startups_founders_concepts['EPFLStartupID'].drop_duplicates())\n",
    "startups_professors_concepts = startups_professors_concepts[~startups_professors_concepts['EPFLStartupID'].isin(startup_with_founder_ids)]"
   ]
  },
  {
   "cell_type": "code",
   "execution_count": 14,
   "id": "ef143d19-6e7e-4673-b533-9e07decaf833",
   "metadata": {},
   "outputs": [],
   "source": [
    "startups_concepts = pd.concat([startups_founders_concepts, startups_professors_concepts]).reset_index(drop=True)"
   ]
  },
  {
   "cell_type": "code",
   "execution_count": 15,
   "id": "b8ae67a8-4c27-4a15-8b96-089a97d136f3",
   "metadata": {},
   "outputs": [],
   "source": [
    "startups_concepts = normalise(startups_concepts)"
   ]
  },
  {
   "cell_type": "code",
   "execution_count": 16,
   "id": "c47457af-8889-4e7a-8894-89ab036cf2eb",
   "metadata": {},
   "outputs": [],
   "source": [
    "startup_ids = list(startups_concepts['EPFLStartupID'].drop_duplicates())\n",
    "startups = startups[startups['EPFLStartupID'].isin(startup_ids)].reset_index(drop=True)"
   ]
  },
  {
   "cell_type": "code",
   "execution_count": 17,
   "id": "68b9ac0c-d869-43da-9be4-8b69238a7ab1",
   "metadata": {},
   "outputs": [],
   "source": [
    "concept_ids = list(startups_concepts['PageID'].drop_duplicates())\n",
    "concepts = concepts[concepts['PageID'].isin(concept_ids)].reset_index(drop=True)"
   ]
  },
  {
   "cell_type": "code",
   "execution_count": 18,
   "id": "bf9824e0-5ba8-466d-b36d-a337f302ac35",
   "metadata": {},
   "outputs": [],
   "source": [
    "nodes = pd.concat([\n",
    "    startups.rename(columns={'EPFLStartupID': 'ID', 'StartupName': 'Name'})[['ID', 'Name']],\n",
    "    concepts.rename(columns={'PageID': 'ID', 'PageTitle': 'Name'})\n",
    "]).reset_index(drop=True)"
   ]
  },
  {
   "cell_type": "code",
   "execution_count": 19,
   "id": "f2221bd9-cc19-4fb4-9a76-7e05da672363",
   "metadata": {},
   "outputs": [],
   "source": [
    "edges = startups_concepts.rename(columns={'EPFLStartupID': 'SourceID', 'StartupName': 'Name', 'PageID': 'TargetID', 'Score': 'Weight'})[['SourceID', 'TargetID', 'Weight']]"
   ]
  },
  {
   "cell_type": "code",
   "execution_count": null,
   "id": "711da830-a291-4850-b2a9-13396765711a",
   "metadata": {},
   "outputs": [],
   "source": []
  },
  {
   "cell_type": "code",
   "execution_count": null,
   "id": "a88435c0-b646-4f30-b174-916fad862251",
   "metadata": {},
   "outputs": [],
   "source": []
  },
  {
   "cell_type": "code",
   "execution_count": null,
   "id": "7f23f5a1-4093-4139-9e7e-e2a51aed4bfa",
   "metadata": {},
   "outputs": [],
   "source": []
  },
  {
   "cell_type": "code",
   "execution_count": null,
   "id": "126a36d0-e214-40bb-8fd1-53390c12ba7a",
   "metadata": {},
   "outputs": [],
   "source": []
  },
  {
   "cell_type": "code",
   "execution_count": null,
   "id": "1c902141-d2b3-45f4-a454-35b9cdbb65c7",
   "metadata": {},
   "outputs": [],
   "source": []
  },
  {
   "cell_type": "code",
   "execution_count": null,
   "id": "b5fc19aa-f7ab-4a02-950c-0b72bccf9d2e",
   "metadata": {},
   "outputs": [],
   "source": []
  },
  {
   "cell_type": "code",
   "execution_count": null,
   "id": "281c845c-e33b-4183-8492-336e0a141f10",
   "metadata": {},
   "outputs": [],
   "source": []
  },
  {
   "cell_type": "code",
   "execution_count": null,
   "id": "55439161-f118-4bef-9e75-fbe8b013d3dd",
   "metadata": {},
   "outputs": [],
   "source": []
  },
  {
   "cell_type": "code",
   "execution_count": null,
   "id": "30225be1-4244-428a-abee-136539631825",
   "metadata": {},
   "outputs": [],
   "source": []
  },
  {
   "cell_type": "code",
   "execution_count": null,
   "id": "9fc2e489-1c5a-4f3f-9f7b-116dc0f202d2",
   "metadata": {},
   "outputs": [],
   "source": []
  },
  {
   "cell_type": "code",
   "execution_count": 20,
   "id": "fd503b4e-043e-407a-adbb-c3c0da57d70f",
   "metadata": {},
   "outputs": [],
   "source": [
    "import networkx as nx"
   ]
  },
  {
   "cell_type": "code",
   "execution_count": 21,
   "id": "50e8222b-64b8-423b-afea-1ae7411ae49b",
   "metadata": {},
   "outputs": [],
   "source": [
    "node_attrs = {node['ID']: {'name': node['Name']} for node in nodes.to_dict(orient='records')}"
   ]
  },
  {
   "cell_type": "code",
   "execution_count": 22,
   "id": "8aa641be-300d-40a9-80f4-812efbdc5f7d",
   "metadata": {},
   "outputs": [],
   "source": [
    "edges = [(edge['SourceID'], edge['TargetID'], {'weight': edge['Weight']}) for edge in edges.to_dict(orient='records')]"
   ]
  },
  {
   "cell_type": "code",
   "execution_count": 23,
   "id": "327a7f56-30e5-4733-9edf-f24117435595",
   "metadata": {},
   "outputs": [],
   "source": [
    "G = nx.Graph()\n",
    "\n",
    "G.add_nodes_from(node_attrs.keys())\n",
    "nx.set_node_attributes(G, node_attrs)\n",
    "G.add_edges_from(edges)"
   ]
  },
  {
   "cell_type": "code",
   "execution_count": 24,
   "id": "595567d4-3bb9-45ee-bd0b-ca8327ae1d65",
   "metadata": {},
   "outputs": [
    {
     "data": {
      "text/plain": [
       "<networkx.classes.graph.Graph at 0x10ff66dc0>"
      ]
     },
     "execution_count": 24,
     "metadata": {},
     "output_type": "execute_result"
    }
   ],
   "source": [
    "G"
   ]
  },
  {
   "cell_type": "code",
   "execution_count": 25,
   "id": "6af8ab5f-bf5c-4a85-8661-a04b74435058",
   "metadata": {},
   "outputs": [
    {
     "data": {
      "text/plain": [
       "(7093, 7093, 7093, 7115)"
      ]
     },
     "execution_count": 25,
     "metadata": {},
     "output_type": "execute_result"
    }
   ],
   "source": [
    "len(nodes), len(node_attrs), len(node_attrs.keys()), len(G.nodes)"
   ]
  },
  {
   "cell_type": "code",
   "execution_count": 12,
   "id": "5fe02b63-10ce-41fc-bf2b-fe8be1ac2282",
   "metadata": {},
   "outputs": [],
   "source": [
    "nx.write_gexf(G, \"test.gexf\")"
   ]
  },
  {
   "cell_type": "code",
   "execution_count": null,
   "id": "823a416e-3d1e-4874-9401-5c149cdd696f",
   "metadata": {},
   "outputs": [],
   "source": []
  },
  {
   "cell_type": "code",
   "execution_count": null,
   "id": "ae8ca660-2ac4-4f77-bfc1-4005e70b69fb",
   "metadata": {},
   "outputs": [],
   "source": []
  }
 ],
 "metadata": {
  "kernelspec": {
   "display_name": "Python 3 (ipykernel)",
   "language": "python",
   "name": "python3"
  },
  "language_info": {
   "codemirror_mode": {
    "name": "ipython",
    "version": 3
   },
   "file_extension": ".py",
   "mimetype": "text/x-python",
   "name": "python",
   "nbconvert_exporter": "python",
   "pygments_lexer": "ipython3",
   "version": "3.8.13"
  }
 },
 "nbformat": 4,
 "nbformat_minor": 5
}
