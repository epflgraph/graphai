{
 "cells": [
  {
   "cell_type": "code",
   "execution_count": 205,
   "id": "816ed499-2325-454b-a869-f68733e8747e",
   "metadata": {},
   "outputs": [
    {
     "name": "stdout",
     "output_type": "stream",
     "text": [
      "The autoreload extension is already loaded. To reload it, use:\n",
      "  %reload_ext autoreload\n"
     ]
    }
   ],
   "source": [
    "%load_ext autoreload\n",
    "%autoreload 2"
   ]
  },
  {
   "cell_type": "code",
   "execution_count": 206,
   "id": "8b9c218a-33e4-409b-aedd-0975fab737f7",
   "metadata": {},
   "outputs": [],
   "source": [
    "import pandas as pd\n",
    "\n",
    "from itertools import combinations\n",
    "\n",
    "from interfaces.db import DB"
   ]
  },
  {
   "cell_type": "code",
   "execution_count": 207,
   "id": "97d7da44-8574-421d-b93a-452c9b42715b",
   "metadata": {},
   "outputs": [],
   "source": [
    "db = DB()"
   ]
  },
  {
   "cell_type": "code",
   "execution_count": 261,
   "id": "e2a0f21f-d338-46af-9215-ef10e1fd6d04",
   "metadata": {},
   "outputs": [],
   "source": [
    "min_date = '2018-01-01'\n",
    "max_date = '2019-01-01'\n",
    "\n",
    "# fields = ['FundingRoundID', 'FundingRoundType', 'FundingRoundName', 'FundingRoundDate', 'FundingAmount_USD', 'CB_InvestorCount', 'City', 'Region', 'CountryISO3']\n",
    "# columns = ['fr_id', 'fr_type', 'fr_name', 'fr_date', 'fr_amount', 'fr_n_investors', 'fr_city', 'fr_region', 'fr_country']\n",
    "fields = ['FundingRoundID', 'FundingRoundDate', 'FundingAmount_USD', 'CB_InvestorCount']\n",
    "columns = ['fr_id', 'fr_date', 'fr_amount', 'fr_n_investors']\n",
    "frs = pd.DataFrame(db.get_funding_rounds(min_date=min_date, max_date=max_date, fields=fields), columns=columns)"
   ]
  },
  {
   "cell_type": "code",
   "execution_count": 262,
   "id": "c400c6e7-ebcd-4ef8-bbff-c34ad80bdd0b",
   "metadata": {},
   "outputs": [
    {
     "data": {
      "text/html": [
       "<div>\n",
       "<style scoped>\n",
       "    .dataframe tbody tr th:only-of-type {\n",
       "        vertical-align: middle;\n",
       "    }\n",
       "\n",
       "    .dataframe tbody tr th {\n",
       "        vertical-align: top;\n",
       "    }\n",
       "\n",
       "    .dataframe thead th {\n",
       "        text-align: right;\n",
       "    }\n",
       "</style>\n",
       "<table border=\"1\" class=\"dataframe\">\n",
       "  <thead>\n",
       "    <tr style=\"text-align: right;\">\n",
       "      <th></th>\n",
       "      <th>fr_id</th>\n",
       "      <th>fr_date</th>\n",
       "      <th>fr_amount</th>\n",
       "      <th>fr_n_investors</th>\n",
       "    </tr>\n",
       "  </thead>\n",
       "  <tbody>\n",
       "    <tr>\n",
       "      <th>0</th>\n",
       "      <td>00015b5a-54e6-4285-9c9e-2374cb608dd7</td>\n",
       "      <td>2018-01-01</td>\n",
       "      <td>NaN</td>\n",
       "      <td>1.0</td>\n",
       "    </tr>\n",
       "    <tr>\n",
       "      <th>1</th>\n",
       "      <td>00041522-caa6-48d9-b78d-60224a11f992</td>\n",
       "      <td>2018-02-12</td>\n",
       "      <td>5000000.0</td>\n",
       "      <td>NaN</td>\n",
       "    </tr>\n",
       "    <tr>\n",
       "      <th>2</th>\n",
       "      <td>0005a8e9-d910-405c-9f47-5c11cd952870</td>\n",
       "      <td>2018-10-14</td>\n",
       "      <td>3400000.0</td>\n",
       "      <td>1.0</td>\n",
       "    </tr>\n",
       "    <tr>\n",
       "      <th>3</th>\n",
       "      <td>0009e556-8abe-4fda-8f08-3b63bce06d70</td>\n",
       "      <td>2018-09-26</td>\n",
       "      <td>NaN</td>\n",
       "      <td>1.0</td>\n",
       "    </tr>\n",
       "    <tr>\n",
       "      <th>4</th>\n",
       "      <td>000bc110-4778-4a82-887c-c7c576cd6179</td>\n",
       "      <td>2018-10-10</td>\n",
       "      <td>250000.0</td>\n",
       "      <td>2.0</td>\n",
       "    </tr>\n",
       "    <tr>\n",
       "      <th>...</th>\n",
       "      <td>...</td>\n",
       "      <td>...</td>\n",
       "      <td>...</td>\n",
       "      <td>...</td>\n",
       "    </tr>\n",
       "    <tr>\n",
       "      <th>48334</th>\n",
       "      <td>fff65475-5026-4578-bb31-486605181eb1</td>\n",
       "      <td>2018-11-01</td>\n",
       "      <td>NaN</td>\n",
       "      <td>2.0</td>\n",
       "    </tr>\n",
       "    <tr>\n",
       "      <th>48335</th>\n",
       "      <td>fff7c23f-81b1-433a-9314-d4176b629ba0</td>\n",
       "      <td>2018-12-01</td>\n",
       "      <td>10000000.0</td>\n",
       "      <td>1.0</td>\n",
       "    </tr>\n",
       "    <tr>\n",
       "      <th>48336</th>\n",
       "      <td>fff9030d-ff4c-4e89-883c-6966dd3661b6</td>\n",
       "      <td>2018-03-30</td>\n",
       "      <td>1590680.0</td>\n",
       "      <td>1.0</td>\n",
       "    </tr>\n",
       "    <tr>\n",
       "      <th>48337</th>\n",
       "      <td>ffface20-141b-42ac-a82a-8ef0461c1c29</td>\n",
       "      <td>2018-05-01</td>\n",
       "      <td>NaN</td>\n",
       "      <td>1.0</td>\n",
       "    </tr>\n",
       "    <tr>\n",
       "      <th>48338</th>\n",
       "      <td>ffffe563-0029-4523-ac49-5384d064b878</td>\n",
       "      <td>2018-05-07</td>\n",
       "      <td>100000.0</td>\n",
       "      <td>2.0</td>\n",
       "    </tr>\n",
       "  </tbody>\n",
       "</table>\n",
       "<p>48339 rows × 4 columns</p>\n",
       "</div>"
      ],
      "text/plain": [
       "                                      fr_id     fr_date   fr_amount  \\\n",
       "0      00015b5a-54e6-4285-9c9e-2374cb608dd7  2018-01-01         NaN   \n",
       "1      00041522-caa6-48d9-b78d-60224a11f992  2018-02-12   5000000.0   \n",
       "2      0005a8e9-d910-405c-9f47-5c11cd952870  2018-10-14   3400000.0   \n",
       "3      0009e556-8abe-4fda-8f08-3b63bce06d70  2018-09-26         NaN   \n",
       "4      000bc110-4778-4a82-887c-c7c576cd6179  2018-10-10    250000.0   \n",
       "...                                     ...         ...         ...   \n",
       "48334  fff65475-5026-4578-bb31-486605181eb1  2018-11-01         NaN   \n",
       "48335  fff7c23f-81b1-433a-9314-d4176b629ba0  2018-12-01  10000000.0   \n",
       "48336  fff9030d-ff4c-4e89-883c-6966dd3661b6  2018-03-30   1590680.0   \n",
       "48337  ffface20-141b-42ac-a82a-8ef0461c1c29  2018-05-01         NaN   \n",
       "48338  ffffe563-0029-4523-ac49-5384d064b878  2018-05-07    100000.0   \n",
       "\n",
       "       fr_n_investors  \n",
       "0                 1.0  \n",
       "1                 NaN  \n",
       "2                 1.0  \n",
       "3                 1.0  \n",
       "4                 2.0  \n",
       "...               ...  \n",
       "48334             2.0  \n",
       "48335             1.0  \n",
       "48336             1.0  \n",
       "48337             1.0  \n",
       "48338             2.0  \n",
       "\n",
       "[48339 rows x 4 columns]"
      ]
     },
     "execution_count": 262,
     "metadata": {},
     "output_type": "execute_result"
    }
   ],
   "source": [
    "frs"
   ]
  },
  {
   "cell_type": "code",
   "execution_count": 263,
   "id": "80f79c08-bf1c-40a5-986d-21e3cd88119b",
   "metadata": {},
   "outputs": [],
   "source": [
    "frs['fr_amount_per_investor'] = frs['fr_amount'] / frs['fr_n_investors']"
   ]
  },
  {
   "cell_type": "code",
   "execution_count": 264,
   "id": "72d39786-62ce-4176-84c4-c0f715bd2976",
   "metadata": {},
   "outputs": [
    {
     "data": {
      "text/html": [
       "<div>\n",
       "<style scoped>\n",
       "    .dataframe tbody tr th:only-of-type {\n",
       "        vertical-align: middle;\n",
       "    }\n",
       "\n",
       "    .dataframe tbody tr th {\n",
       "        vertical-align: top;\n",
       "    }\n",
       "\n",
       "    .dataframe thead th {\n",
       "        text-align: right;\n",
       "    }\n",
       "</style>\n",
       "<table border=\"1\" class=\"dataframe\">\n",
       "  <thead>\n",
       "    <tr style=\"text-align: right;\">\n",
       "      <th></th>\n",
       "      <th>fr_id</th>\n",
       "      <th>fr_date</th>\n",
       "      <th>fr_amount</th>\n",
       "      <th>fr_n_investors</th>\n",
       "      <th>fr_amount_per_investor</th>\n",
       "    </tr>\n",
       "  </thead>\n",
       "  <tbody>\n",
       "    <tr>\n",
       "      <th>0</th>\n",
       "      <td>00015b5a-54e6-4285-9c9e-2374cb608dd7</td>\n",
       "      <td>2018-01-01</td>\n",
       "      <td>NaN</td>\n",
       "      <td>1.0</td>\n",
       "      <td>NaN</td>\n",
       "    </tr>\n",
       "    <tr>\n",
       "      <th>1</th>\n",
       "      <td>00041522-caa6-48d9-b78d-60224a11f992</td>\n",
       "      <td>2018-02-12</td>\n",
       "      <td>5000000.0</td>\n",
       "      <td>NaN</td>\n",
       "      <td>NaN</td>\n",
       "    </tr>\n",
       "    <tr>\n",
       "      <th>2</th>\n",
       "      <td>0005a8e9-d910-405c-9f47-5c11cd952870</td>\n",
       "      <td>2018-10-14</td>\n",
       "      <td>3400000.0</td>\n",
       "      <td>1.0</td>\n",
       "      <td>3400000.0</td>\n",
       "    </tr>\n",
       "    <tr>\n",
       "      <th>3</th>\n",
       "      <td>0009e556-8abe-4fda-8f08-3b63bce06d70</td>\n",
       "      <td>2018-09-26</td>\n",
       "      <td>NaN</td>\n",
       "      <td>1.0</td>\n",
       "      <td>NaN</td>\n",
       "    </tr>\n",
       "    <tr>\n",
       "      <th>4</th>\n",
       "      <td>000bc110-4778-4a82-887c-c7c576cd6179</td>\n",
       "      <td>2018-10-10</td>\n",
       "      <td>250000.0</td>\n",
       "      <td>2.0</td>\n",
       "      <td>125000.0</td>\n",
       "    </tr>\n",
       "    <tr>\n",
       "      <th>...</th>\n",
       "      <td>...</td>\n",
       "      <td>...</td>\n",
       "      <td>...</td>\n",
       "      <td>...</td>\n",
       "      <td>...</td>\n",
       "    </tr>\n",
       "    <tr>\n",
       "      <th>48334</th>\n",
       "      <td>fff65475-5026-4578-bb31-486605181eb1</td>\n",
       "      <td>2018-11-01</td>\n",
       "      <td>NaN</td>\n",
       "      <td>2.0</td>\n",
       "      <td>NaN</td>\n",
       "    </tr>\n",
       "    <tr>\n",
       "      <th>48335</th>\n",
       "      <td>fff7c23f-81b1-433a-9314-d4176b629ba0</td>\n",
       "      <td>2018-12-01</td>\n",
       "      <td>10000000.0</td>\n",
       "      <td>1.0</td>\n",
       "      <td>10000000.0</td>\n",
       "    </tr>\n",
       "    <tr>\n",
       "      <th>48336</th>\n",
       "      <td>fff9030d-ff4c-4e89-883c-6966dd3661b6</td>\n",
       "      <td>2018-03-30</td>\n",
       "      <td>1590680.0</td>\n",
       "      <td>1.0</td>\n",
       "      <td>1590680.0</td>\n",
       "    </tr>\n",
       "    <tr>\n",
       "      <th>48337</th>\n",
       "      <td>ffface20-141b-42ac-a82a-8ef0461c1c29</td>\n",
       "      <td>2018-05-01</td>\n",
       "      <td>NaN</td>\n",
       "      <td>1.0</td>\n",
       "      <td>NaN</td>\n",
       "    </tr>\n",
       "    <tr>\n",
       "      <th>48338</th>\n",
       "      <td>ffffe563-0029-4523-ac49-5384d064b878</td>\n",
       "      <td>2018-05-07</td>\n",
       "      <td>100000.0</td>\n",
       "      <td>2.0</td>\n",
       "      <td>50000.0</td>\n",
       "    </tr>\n",
       "  </tbody>\n",
       "</table>\n",
       "<p>48339 rows × 5 columns</p>\n",
       "</div>"
      ],
      "text/plain": [
       "                                      fr_id     fr_date   fr_amount  \\\n",
       "0      00015b5a-54e6-4285-9c9e-2374cb608dd7  2018-01-01         NaN   \n",
       "1      00041522-caa6-48d9-b78d-60224a11f992  2018-02-12   5000000.0   \n",
       "2      0005a8e9-d910-405c-9f47-5c11cd952870  2018-10-14   3400000.0   \n",
       "3      0009e556-8abe-4fda-8f08-3b63bce06d70  2018-09-26         NaN   \n",
       "4      000bc110-4778-4a82-887c-c7c576cd6179  2018-10-10    250000.0   \n",
       "...                                     ...         ...         ...   \n",
       "48334  fff65475-5026-4578-bb31-486605181eb1  2018-11-01         NaN   \n",
       "48335  fff7c23f-81b1-433a-9314-d4176b629ba0  2018-12-01  10000000.0   \n",
       "48336  fff9030d-ff4c-4e89-883c-6966dd3661b6  2018-03-30   1590680.0   \n",
       "48337  ffface20-141b-42ac-a82a-8ef0461c1c29  2018-05-01         NaN   \n",
       "48338  ffffe563-0029-4523-ac49-5384d064b878  2018-05-07    100000.0   \n",
       "\n",
       "       fr_n_investors  fr_amount_per_investor  \n",
       "0                 1.0                     NaN  \n",
       "1                 NaN                     NaN  \n",
       "2                 1.0               3400000.0  \n",
       "3                 1.0                     NaN  \n",
       "4                 2.0                125000.0  \n",
       "...               ...                     ...  \n",
       "48334             2.0                     NaN  \n",
       "48335             1.0              10000000.0  \n",
       "48336             1.0               1590680.0  \n",
       "48337             1.0                     NaN  \n",
       "48338             2.0                 50000.0  \n",
       "\n",
       "[48339 rows x 5 columns]"
      ]
     },
     "execution_count": 264,
     "metadata": {},
     "output_type": "execute_result"
    }
   ],
   "source": [
    "frs"
   ]
  },
  {
   "cell_type": "code",
   "execution_count": 265,
   "id": "b1760439-9656-4908-9ce2-46c2f209ce50",
   "metadata": {},
   "outputs": [],
   "source": [
    "fr_ids = list(frs['fr_id'])"
   ]
  },
  {
   "cell_type": "code",
   "execution_count": 266,
   "id": "532caa9a-4e8b-4162-a798-805800cec992",
   "metadata": {},
   "outputs": [],
   "source": [
    "investees_frs = pd.DataFrame(db.get_investees_funding_rounds(fr_ids=fr_ids), columns=['investee_id', 'fr_id'])"
   ]
  },
  {
   "cell_type": "code",
   "execution_count": 267,
   "id": "d1dd8ea9-771b-4a1b-a635-bf2c4b3522ec",
   "metadata": {},
   "outputs": [],
   "source": [
    "org_investors_frs = pd.DataFrame(db.get_org_investors_funding_rounds(fr_ids=fr_ids), columns=['investor_id', 'fr_id'])"
   ]
  },
  {
   "cell_type": "code",
   "execution_count": 268,
   "id": "7cb9f658-64e9-4ff9-aad7-a4ebf2695a7a",
   "metadata": {},
   "outputs": [],
   "source": [
    "person_investors_frs = pd.DataFrame(db.get_person_investors_funding_rounds(fr_ids=fr_ids), columns=['investor_id', 'fr_id'])"
   ]
  },
  {
   "cell_type": "code",
   "execution_count": 269,
   "id": "d882a4fa-4dc5-4e4a-a9ce-e2113fc67539",
   "metadata": {},
   "outputs": [],
   "source": [
    "investors_frs = pd.concat([org_investors_frs, person_investors_frs])"
   ]
  },
  {
   "cell_type": "code",
   "execution_count": 270,
   "id": "6354769c-570b-41ec-ad0c-59fece7c1ea5",
   "metadata": {},
   "outputs": [
    {
     "data": {
      "text/html": [
       "<div>\n",
       "<style scoped>\n",
       "    .dataframe tbody tr th:only-of-type {\n",
       "        vertical-align: middle;\n",
       "    }\n",
       "\n",
       "    .dataframe tbody tr th {\n",
       "        vertical-align: top;\n",
       "    }\n",
       "\n",
       "    .dataframe thead th {\n",
       "        text-align: right;\n",
       "    }\n",
       "</style>\n",
       "<table border=\"1\" class=\"dataframe\">\n",
       "  <thead>\n",
       "    <tr style=\"text-align: right;\">\n",
       "      <th></th>\n",
       "      <th>investor_id</th>\n",
       "      <th>fr_id</th>\n",
       "    </tr>\n",
       "  </thead>\n",
       "  <tbody>\n",
       "    <tr>\n",
       "      <th>0</th>\n",
       "      <td>00020a85-a4c1-43dc-9fa0-1217fceb8a9a</td>\n",
       "      <td>dc57d471-abce-4ba9-b6c7-a7fbbda1be76</td>\n",
       "    </tr>\n",
       "    <tr>\n",
       "      <th>1</th>\n",
       "      <td>0003f244-79d0-6178-353e-33dabaf3b2c6</td>\n",
       "      <td>03798d6c-6a2a-470e-873d-7070d7da66c3</td>\n",
       "    </tr>\n",
       "    <tr>\n",
       "      <th>2</th>\n",
       "      <td>0003f244-79d0-6178-353e-33dabaf3b2c6</td>\n",
       "      <td>04218949-9c5d-4da5-b0e9-22178dc03021</td>\n",
       "    </tr>\n",
       "    <tr>\n",
       "      <th>3</th>\n",
       "      <td>0003f244-79d0-6178-353e-33dabaf3b2c6</td>\n",
       "      <td>10e46d06-47f4-4e22-b8fd-0c74d1820bcd</td>\n",
       "    </tr>\n",
       "    <tr>\n",
       "      <th>4</th>\n",
       "      <td>0003f244-79d0-6178-353e-33dabaf3b2c6</td>\n",
       "      <td>35d3964f-e5ed-466e-8a26-70270282cf3c</td>\n",
       "    </tr>\n",
       "    <tr>\n",
       "      <th>...</th>\n",
       "      <td>...</td>\n",
       "      <td>...</td>\n",
       "    </tr>\n",
       "    <tr>\n",
       "      <th>8064</th>\n",
       "      <td>ffc84602-9456-87d9-c539-7dd16b14df89</td>\n",
       "      <td>53e3c200-d811-4e3b-9d36-96155d592dc7</td>\n",
       "    </tr>\n",
       "    <tr>\n",
       "      <th>8065</th>\n",
       "      <td>ffdfc425-c8da-8a83-32d5-e64d18166bd1</td>\n",
       "      <td>10d74a37-e698-45f7-9cfb-d1b144802a9d</td>\n",
       "    </tr>\n",
       "    <tr>\n",
       "      <th>8066</th>\n",
       "      <td>ffdfc425-c8da-8a83-32d5-e64d18166bd1</td>\n",
       "      <td>546ba51d-a350-4a84-ac08-c604810c9f55</td>\n",
       "    </tr>\n",
       "    <tr>\n",
       "      <th>8067</th>\n",
       "      <td>ffdfc425-c8da-8a83-32d5-e64d18166bd1</td>\n",
       "      <td>f92ad5bb-9b3c-4065-940c-b451daba587e</td>\n",
       "    </tr>\n",
       "    <tr>\n",
       "      <th>8068</th>\n",
       "      <td>fff689b3-87ce-4c97-aee2-5c0e78ffe68e</td>\n",
       "      <td>5d7888e8-b937-4a83-99d4-e4c83a73d713</td>\n",
       "    </tr>\n",
       "  </tbody>\n",
       "</table>\n",
       "<p>72170 rows × 2 columns</p>\n",
       "</div>"
      ],
      "text/plain": [
       "                               investor_id  \\\n",
       "0     00020a85-a4c1-43dc-9fa0-1217fceb8a9a   \n",
       "1     0003f244-79d0-6178-353e-33dabaf3b2c6   \n",
       "2     0003f244-79d0-6178-353e-33dabaf3b2c6   \n",
       "3     0003f244-79d0-6178-353e-33dabaf3b2c6   \n",
       "4     0003f244-79d0-6178-353e-33dabaf3b2c6   \n",
       "...                                    ...   \n",
       "8064  ffc84602-9456-87d9-c539-7dd16b14df89   \n",
       "8065  ffdfc425-c8da-8a83-32d5-e64d18166bd1   \n",
       "8066  ffdfc425-c8da-8a83-32d5-e64d18166bd1   \n",
       "8067  ffdfc425-c8da-8a83-32d5-e64d18166bd1   \n",
       "8068  fff689b3-87ce-4c97-aee2-5c0e78ffe68e   \n",
       "\n",
       "                                     fr_id  \n",
       "0     dc57d471-abce-4ba9-b6c7-a7fbbda1be76  \n",
       "1     03798d6c-6a2a-470e-873d-7070d7da66c3  \n",
       "2     04218949-9c5d-4da5-b0e9-22178dc03021  \n",
       "3     10e46d06-47f4-4e22-b8fd-0c74d1820bcd  \n",
       "4     35d3964f-e5ed-466e-8a26-70270282cf3c  \n",
       "...                                    ...  \n",
       "8064  53e3c200-d811-4e3b-9d36-96155d592dc7  \n",
       "8065  10d74a37-e698-45f7-9cfb-d1b144802a9d  \n",
       "8066  546ba51d-a350-4a84-ac08-c604810c9f55  \n",
       "8067  f92ad5bb-9b3c-4065-940c-b451daba587e  \n",
       "8068  5d7888e8-b937-4a83-99d4-e4c83a73d713  \n",
       "\n",
       "[72170 rows x 2 columns]"
      ]
     },
     "execution_count": 270,
     "metadata": {},
     "output_type": "execute_result"
    }
   ],
   "source": [
    "investors_frs"
   ]
  },
  {
   "cell_type": "code",
   "execution_count": 271,
   "id": "bec96fbb-ec14-4aaf-ba5c-08985717cbe3",
   "metadata": {},
   "outputs": [
    {
     "name": "stdout",
     "output_type": "stream",
     "text": [
      "CPU times: user 1min 25s, sys: 185 ms, total: 1min 25s\n",
      "Wall time: 1min 25s\n"
     ]
    }
   ],
   "source": [
    "def combine(group):\n",
    "    return pd.DataFrame.from_records(combinations(group['investor_id'], 2))\n",
    "\n",
    "%time investor_pairs = investors_frs.groupby('fr_id').apply(combine).reset_index(level=0)"
   ]
  },
  {
   "cell_type": "code",
   "execution_count": 272,
   "id": "b312daf6-b9aa-48a8-8b08-789c3357d75c",
   "metadata": {},
   "outputs": [],
   "source": [
    "investor_pairs.columns = ['fr_id', 'investor_id_1', 'investor_id_2']\n",
    "investor_pairs = investor_pairs.merge(frs, how='left', on='fr_id')\n",
    "investor_pairs = investor_pairs.to_dict(orient='records')"
   ]
  },
  {
   "cell_type": "code",
   "execution_count": 273,
   "id": "967a0534-5873-4d27-b5a7-8fa2d152a021",
   "metadata": {},
   "outputs": [],
   "source": [
    "investor_edges = {}\n",
    "for pair in investor_pairs:\n",
    "    key = f\"{pair['investor_id_1']}x{pair['investor_id_2']}\"\n",
    "    \n",
    "    fr = {\n",
    "        'fr_id': pair['fr_id'],\n",
    "        'date': pair['fr_date'],\n",
    "        'amount': pair['fr_amount'],\n",
    "        'n_investors': pair['fr_n_investors'],\n",
    "        'amount_per_investor': pair['fr_amount_per_investor']\n",
    "    }\n",
    "    \n",
    "    if key in investor_edges:\n",
    "        investor_edges[key]['d'].append(fr)\n",
    "    else:\n",
    "        investor_edges[key] = {\n",
    "            's': pair['investor_id_1'],\n",
    "            't': pair['investor_id_2'],\n",
    "            'd': [fr]\n",
    "        }"
   ]
  },
  {
   "cell_type": "code",
   "execution_count": 274,
   "id": "968418f1-4d53-40a2-834e-19df06bb15fa",
   "metadata": {},
   "outputs": [],
   "source": [
    "investor_edges = [(investor_edges[key]['s'], investor_edges[key]['t'], {'hist': investor_edges[key]['d']}) for key in investor_edges]"
   ]
  },
  {
   "cell_type": "code",
   "execution_count": 275,
   "id": "899d76b9-b21a-4277-8889-9be458689b2e",
   "metadata": {},
   "outputs": [
    {
     "data": {
      "text/plain": [
       "99488"
      ]
     },
     "execution_count": 275,
     "metadata": {},
     "output_type": "execute_result"
    }
   ],
   "source": [
    "len(investor_edges)"
   ]
  },
  {
   "cell_type": "code",
   "execution_count": 276,
   "id": "7f9225b4-1ef1-404e-8419-77c2ff0f89c3",
   "metadata": {},
   "outputs": [],
   "source": [
    "import networkx as nx\n",
    "\n",
    "G = nx.Graph()"
   ]
  },
  {
   "cell_type": "code",
   "execution_count": 277,
   "id": "1424e946-118d-4ee9-95fc-a0410b959a42",
   "metadata": {},
   "outputs": [],
   "source": [
    "G.add_edges_from(investor_edges)\n",
    "G.remove_nodes_from(list(nx.isolates(G)))"
   ]
  },
  {
   "cell_type": "code",
   "execution_count": 279,
   "id": "c6547239-36ba-4608-8cf7-4c306b3df43b",
   "metadata": {},
   "outputs": [
    {
     "data": {
      "text/plain": [
       "18281"
      ]
     },
     "execution_count": 279,
     "metadata": {},
     "output_type": "execute_result"
    }
   ],
   "source": [
    "len(G.nodes)"
   ]
  },
  {
   "cell_type": "code",
   "execution_count": 280,
   "id": "8b992709-e666-4111-95fb-b5e23e78f491",
   "metadata": {},
   "outputs": [
    {
     "data": {
      "text/plain": [
       "99488"
      ]
     },
     "execution_count": 280,
     "metadata": {},
     "output_type": "execute_result"
    }
   ],
   "source": [
    "len(G.edges)"
   ]
  },
  {
   "cell_type": "code",
   "execution_count": 281,
   "id": "0794951e-4a81-474f-9d4f-1a4a2ca454b5",
   "metadata": {},
   "outputs": [],
   "source": [
    "cc_sizes = [len(c) for c in sorted(nx.connected_components(G), key=len, reverse=True)]"
   ]
  },
  {
   "cell_type": "code",
   "execution_count": 282,
   "id": "d3ac2b8a-6e16-43e2-ba92-d0897a2031ef",
   "metadata": {},
   "outputs": [
    {
     "data": {
      "text/plain": [
       "1105"
      ]
     },
     "execution_count": 282,
     "metadata": {},
     "output_type": "execute_result"
    }
   ],
   "source": [
    "len(cc_sizes)"
   ]
  },
  {
   "cell_type": "code",
   "execution_count": 284,
   "id": "9df6cf4a-2ab6-4be7-b3bd-0d6204d3c6e0",
   "metadata": {},
   "outputs": [
    {
     "data": {
      "text/plain": [
       "[15279, 16, 12, 12, 11]"
      ]
     },
     "execution_count": 284,
     "metadata": {},
     "output_type": "execute_result"
    }
   ],
   "source": [
    "cc_sizes[:5]"
   ]
  },
  {
   "cell_type": "code",
   "execution_count": null,
   "id": "804cab1c-25db-40cc-8808-ac73381e8161",
   "metadata": {},
   "outputs": [],
   "source": []
  }
 ],
 "metadata": {
  "kernelspec": {
   "display_name": "Python 3 (ipykernel)",
   "language": "python",
   "name": "python3"
  },
  "language_info": {
   "codemirror_mode": {
    "name": "ipython",
    "version": 3
   },
   "file_extension": ".py",
   "mimetype": "text/x-python",
   "name": "python",
   "nbconvert_exporter": "python",
   "pygments_lexer": "ipython3",
   "version": "3.8.13"
  }
 },
 "nbformat": 4,
 "nbformat_minor": 5
}
