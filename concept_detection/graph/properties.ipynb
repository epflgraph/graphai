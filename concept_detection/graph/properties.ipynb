{
 "cells": [
  {
   "cell_type": "code",
   "execution_count": 1,
   "id": "d2d992c4-5c37-4ecd-92fc-df36b091d0ae",
   "metadata": {},
   "outputs": [],
   "source": [
    "%load_ext autoreload\n",
    "%autoreload 2"
   ]
  },
  {
   "cell_type": "code",
   "execution_count": 2,
   "id": "71d21a1e-087c-4b3f-80dc-8c3152d00430",
   "metadata": {},
   "outputs": [],
   "source": [
    "import json\n",
    "import random\n",
    "\n",
    "from definitions import DATA_DIR\n",
    "from concept_detection.text.io import ProgressBar"
   ]
  },
  {
   "cell_type": "code",
   "execution_count": 3,
   "id": "64b9326d-0039-48f9-961e-c7f65ef06ed7",
   "metadata": {},
   "outputs": [
    {
     "name": "stdout",
     "output_type": "stream",
     "text": [
      "Loading successors adjacency list...\n",
      "Loaded\n",
      "Loading predecessors adjacency list...\n",
      "Loaded\n"
     ]
    }
   ],
   "source": [
    "# Load successors adjacency list\n",
    "print('Loading successors adjacency list...')\n",
    "with open(f'{DATA_DIR}/successors.json') as f:\n",
    "    successors = json.load(f)\n",
    "successors = {int(k): v for k, v in successors.items()}\n",
    "print('Loaded')\n",
    "\n",
    "# Load predecessors adjacency list\n",
    "print('Loading predecessors adjacency list...')\n",
    "with open(f'{DATA_DIR}/predecessors.json') as f:\n",
    "    predecessors = json.load(f)\n",
    "predecessors = {int(k): v for k, v in predecessors.items()}\n",
    "print('Loaded')"
   ]
  },
  {
   "cell_type": "code",
   "execution_count": 4,
   "id": "81103e2f-e804-46e9-ab79-8da1d083d9da",
   "metadata": {},
   "outputs": [],
   "source": [
    "def get_random_pairs():\n",
    "    sources = random.sample(successors.keys(), 100)\n",
    "    targets = random.sample(predecessors.keys(), 100)\n",
    "\n",
    "    return list(zip(sources, targets))"
   ]
  },
  {
   "cell_type": "code",
   "execution_count": 5,
   "id": "5bb1c957-b1ab-4c38-8964-611aac6b8510",
   "metadata": {},
   "outputs": [],
   "source": [
    "pairs = get_random_pairs()"
   ]
  },
  {
   "cell_type": "code",
   "execution_count": 6,
   "id": "8daf8167-b77a-4fe0-abbc-70021abaf016",
   "metadata": {},
   "outputs": [],
   "source": [
    "def B(u, n):\n",
    "    if n == 0:\n",
    "        return {u}\n",
    "    \n",
    "    if n == 1:\n",
    "        return {u} | set(successors[u])\n",
    "    \n",
    "    ball = set()\n",
    "    for v in B(u, 1):\n",
    "        ball |= B(v, n-1)\n",
    "\n",
    "    return ball\n",
    "\n",
    "\n",
    "def antiB(u, n):\n",
    "    if n == 0:\n",
    "        return {u}\n",
    "    \n",
    "    if n == 1:\n",
    "        return {u} | set(predecessors[u])\n",
    "    \n",
    "    ball = set()\n",
    "    for v in antiB(u, 1):\n",
    "        ball |= antiB(v, n-1)\n",
    "\n",
    "    return ball\n",
    "\n",
    "\n",
    "def min_dist(s, t):    \n",
    "    n = 0\n",
    "    s_out_prev = set()\n",
    "    t_in_prev = set()\n",
    "    s_stable = False\n",
    "    t_stable = False\n",
    "    while True:\n",
    "        if not s_stable:\n",
    "            s_out = B(s, n)\n",
    "\n",
    "            if s_out == s_out_prev:\n",
    "                s_stable = True\n",
    "            else:\n",
    "                s_out_prev = s_out\n",
    "\n",
    "        if not t_stable:\n",
    "            t_in = antiB(t, n)\n",
    "\n",
    "            if t_in == t_in_prev:\n",
    "                t_stable = True\n",
    "            else:\n",
    "                t_in_prev = t_in\n",
    "        \n",
    "        if s_out & t_in:\n",
    "            return n\n",
    "        \n",
    "        if s_stable or t_stable:\n",
    "            return 999999999\n",
    "\n",
    "        n += 1"
   ]
  },
  {
   "cell_type": "code",
   "execution_count": 133,
   "id": "7ff7c352-e1f1-477f-a6ee-79e93cf5382a",
   "metadata": {},
   "outputs": [
    {
     "name": "stdout",
     "output_type": "stream",
     "text": [
      "[##################################################] 100.00%\n"
     ]
    }
   ],
   "source": [
    "min_dists = []\n",
    "\n",
    "pb = ProgressBar(len(pairs))\n",
    "for s, t in pairs:\n",
    "    min_dists.append(min_dist(s, t))\n",
    "    pb.update()"
   ]
  },
  {
   "cell_type": "code",
   "execution_count": 145,
   "id": "03183139-736b-4265-99ef-727e4fcb802d",
   "metadata": {},
   "outputs": [
    {
     "name": "stdout",
     "output_type": "stream",
     "text": [
      "[##################################################] 100.00%\n"
     ]
    }
   ],
   "source": [
    "are_6_connected = []\n",
    "\n",
    "pb = ProgressBar(len(pairs))\n",
    "for s, t in pairs:\n",
    "    are_6_connected.append(len(B(s, 3) & antiB(t, 3)) > 0)\n",
    "    pb.update()"
   ]
  },
  {
   "cell_type": "code",
   "execution_count": 146,
   "id": "d35a3418-d643-4809-8321-c2d8a6e7f958",
   "metadata": {},
   "outputs": [
    {
     "data": {
      "text/plain": [
       "(25, 75)"
      ]
     },
     "execution_count": 146,
     "metadata": {},
     "output_type": "execute_result"
    }
   ],
   "source": [
    "are_6_connected.count(True), are_6_connected.count(False)"
   ]
  },
  {
   "cell_type": "code",
   "execution_count": 29,
   "id": "206ff449-b903-4703-865b-9035a7a1bb9b",
   "metadata": {},
   "outputs": [],
   "source": [
    "sources = []\n",
    "sinks = []\n",
    "isolated = []\n",
    "\n",
    "for u in successors:\n",
    "    if not successors[u]:\n",
    "        sinks.append(u)\n",
    "        \n",
    "    if not predecessors[u]:\n",
    "        sources.append(u)\n",
    "    \n",
    "    if not successors[u] and not predecessors[u]:\n",
    "        isolated.append(u)"
   ]
  },
  {
   "cell_type": "code",
   "execution_count": 33,
   "id": "0d90ecf0-e1a2-400d-bed2-6dd9b38b33cb",
   "metadata": {},
   "outputs": [
    {
     "data": {
      "text/plain": [
       "(5282817, 5282817, 6044, 3776202, 0)"
      ]
     },
     "execution_count": 33,
     "metadata": {},
     "output_type": "execute_result"
    }
   ],
   "source": [
    "len(successors), len(predecessors), len(sources), len(sinks), len(isolated)"
   ]
  },
  {
   "cell_type": "code",
   "execution_count": null,
   "id": "2ab50cd4-d007-43f7-94b3-e0e28ac8e3c0",
   "metadata": {},
   "outputs": [],
   "source": []
  }
 ],
 "metadata": {
  "kernelspec": {
   "display_name": "Python 3 (ipykernel)",
   "language": "python",
   "name": "python3"
  },
  "language_info": {
   "codemirror_mode": {
    "name": "ipython",
    "version": 3
   },
   "file_extension": ".py",
   "mimetype": "text/x-python",
   "name": "python",
   "nbconvert_exporter": "python",
   "pygments_lexer": "ipython3",
   "version": "3.8.13"
  }
 },
 "nbformat": 4,
 "nbformat_minor": 5
}
