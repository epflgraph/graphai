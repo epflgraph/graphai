{
 "cells": [
  {
   "cell_type": "code",
   "execution_count": 1,
   "id": "1a26a0d0-b188-415f-a5c4-f46d7c3f9ae8",
   "metadata": {},
   "outputs": [],
   "source": [
    "%load_ext autoreload\n",
    "%autoreload 2"
   ]
  },
  {
   "cell_type": "code",
   "execution_count": 2,
   "id": "b35a0642-40f9-4406-9522-d995f272696d",
   "metadata": {},
   "outputs": [],
   "source": [
    "from concept_detection.text.io import read_json"
   ]
  },
  {
   "cell_type": "code",
   "execution_count": 3,
   "id": "26d2b90f-ef6b-4736-82e1-4e331ca46c95",
   "metadata": {},
   "outputs": [],
   "source": [
    "data = read_json('enwiki-20220421-20180215-query_explorer.json')"
   ]
  },
  {
   "cell_type": "code",
   "execution_count": null,
   "id": "398e4037-a2df-46db-95d6-1c878180e1e5",
   "metadata": {},
   "outputs": [],
   "source": []
  }
 ],
 "metadata": {
  "kernelspec": {
   "display_name": "Python 3 (ipykernel)",
   "language": "python",
   "name": "python3"
  },
  "language_info": {
   "codemirror_mode": {
    "name": "ipython",
    "version": 3
   },
   "file_extension": ".py",
   "mimetype": "text/x-python",
   "name": "python",
   "nbconvert_exporter": "python",
   "pygments_lexer": "ipython3",
   "version": "3.8.13"
  }
 },
 "nbformat": 4,
 "nbformat_minor": 5
}
