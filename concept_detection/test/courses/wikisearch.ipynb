{
 "cells": [
  {
   "cell_type": "code",
   "execution_count": 82,
   "id": "3a19460a-f5a8-40db-ba8f-787cf6f22d51",
   "metadata": {},
   "outputs": [
    {
     "name": "stdout",
     "output_type": "stream",
     "text": [
      "The autoreload extension is already loaded. To reload it, use:\n",
      "  %reload_ext autoreload\n"
     ]
    }
   ],
   "source": [
    "%load_ext autoreload\n",
    "%autoreload 2"
   ]
  },
  {
   "cell_type": "code",
   "execution_count": 83,
   "id": "f8b9b77b-16e6-4cb2-9b89-51ffc2d2be18",
   "metadata": {},
   "outputs": [],
   "source": [
    "import numpy as np\n",
    "import matplotlib.pyplot as plt\n",
    "\n",
    "from concept_detection.interfaces.es import ES\n",
    "from concept_detection.interfaces.wp import WP\n",
    "from concept_detection.interfaces.db import DB\n",
    "\n",
    "from concept_detection.test.courses.compare import *"
   ]
  },
  {
   "cell_type": "code",
   "execution_count": 84,
   "id": "3593c579-8ff6-4329-bb2b-d434eed52ba2",
   "metadata": {},
   "outputs": [],
   "source": [
    "db = DB()\n",
    "wikified_course_descriptions = db.query_wikified_course_descriptions()\n",
    "\n",
    "# Set of all keywords manually tagged by students in the course descriptions\n",
    "keyword_list = list(set([result.keywords for course_id in wikified_course_descriptions for result in wikified_course_descriptions[course_id]]))"
   ]
  },
  {
   "cell_type": "code",
   "execution_count": 85,
   "id": "98852b41-2346-48c4-9cb1-a3c1842d8f80",
   "metadata": {},
   "outputs": [],
   "source": [
    "es = ES()\n",
    "wp = WP()"
   ]
  },
  {
   "cell_type": "code",
   "execution_count": 55,
   "id": "99b7221f-9d45-41ba-a824-3188dc910068",
   "metadata": {},
   "outputs": [],
   "source": [
    "def compare_keywords(keyword_list):\n",
    "    sizes = [10, 3, 1]\n",
    "    \n",
    "    stats = {size: [] for size in sizes}\n",
    "    for keywords in keyword_list:\n",
    "        # Get results from wikipedia-api\n",
    "        wp_results = wp.search(keywords)\n",
    "        wp_page_ids = [result.page_id for result in wp_results]\n",
    "        \n",
    "        # Get results from elasticsearch\n",
    "        es_results = es.search(keywords)\n",
    "        es_page_ids = [result.page_id for result in es_results]\n",
    "\n",
    "        for size in sizes:\n",
    "            stats[size].append(confusion_stats(es_page_ids[:size], wp_page_ids[:size]))\n",
    "\n",
    "    return stats"
   ]
  },
  {
   "cell_type": "code",
   "execution_count": 56,
   "id": "87b5b729-81a3-4850-976a-015d19109ae2",
   "metadata": {},
   "outputs": [],
   "source": [
    "stats = compare_keywords(keyword_list[:10])"
   ]
  },
  {
   "cell_type": "code",
   "execution_count": 58,
   "id": "2e9d75b5-27b7-4434-a35b-fc39fcf1571a",
   "metadata": {},
   "outputs": [],
   "source": [
    "avgs = {\n",
    "    size: np.mean([confusion['r'] for confusion in stats[size]])\n",
    "    for size in sizes\n",
    "}"
   ]
  },
  {
   "cell_type": "code",
   "execution_count": 60,
   "id": "1b50f103-0d3f-4a9c-aa6a-83c211bd6a32",
   "metadata": {},
   "outputs": [
    {
     "data": {
      "text/plain": [
       "{10: 0.25, 3: 0.23333333333333334, 1: 0.4}"
      ]
     },
     "execution_count": 60,
     "metadata": {},
     "output_type": "execute_result"
    }
   ],
   "source": [
    "avgs"
   ]
  },
  {
   "cell_type": "code",
   "execution_count": null,
   "id": "88df435c-5845-47d9-a9a8-3e9956c468ef",
   "metadata": {},
   "outputs": [],
   "source": []
  }
 ],
 "metadata": {
  "kernelspec": {
   "display_name": "Python 3 (ipykernel)",
   "language": "python",
   "name": "python3"
  },
  "language_info": {
   "codemirror_mode": {
    "name": "ipython",
    "version": 3
   },
   "file_extension": ".py",
   "mimetype": "text/x-python",
   "name": "python",
   "nbconvert_exporter": "python",
   "pygments_lexer": "ipython3",
   "version": "3.8.13"
  }
 },
 "nbformat": 4,
 "nbformat_minor": 5
}
