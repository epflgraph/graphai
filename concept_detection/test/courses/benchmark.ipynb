{
 "cells": [
  {
   "cell_type": "markdown",
   "id": "e202f3d9-df12-488e-bc6a-2768facbd71c",
   "metadata": {
    "tags": []
   },
   "source": [
    "# Performance benchmark\n",
    "\n",
    "The aim of this notebook is to compare different elasticsearch settings in terms of performance and quality of results (closeness to ground truth).\n",
    "\n",
    "## Variables to fine-tune\n",
    "We establish the following values for different elasticsearch settings:\n",
    "\n",
    "1. Number of shards: 1, 3, 6, 12\n",
    "2. Max num segments: 1 (optimal for read-only indices)\n",
    "3. Query: We take as base query the mediawiki query (most complete, slow), and perform the following modifications to it:\n",
    "    * [`base`] No modification\n",
    "    * [`no-rescoring`] Skip rescoring\n",
    "    * [`no-plain`] Restrict to non-plain fields\n",
    "    * [`restrict-4`] Restrict to title, text, opening_text and heading\n",
    "    * [`restrict-2`] Restrict to title and text\n",
    "   \n",
    "   These modifications are independent (e.g. there is rescoring in `no-plain` and plain fields are used in `restrict-4`)\n",
    "\n",
    "## Data\n",
    "\n",
    "The data with which the benchmark will be carried out is composed of keywords in course descriptions, for which we know the relevant wikipage from manual tagging.\n",
    "\n",
    "A random subset of keywords will be selected every time to prevent caching at both elasticsearch level and file system level.\n",
    "\n",
    "## Procedure\n",
    "\n",
    "For each setting (i.e. choice of (number_of_shards, query)), we will randomly select *n* keywords from the course descriptions, then run both a wikipedia api request and an elasticsearch request for each of them. We will keep track of the execution time and we will evaluate the quality of the results by checking whether the manually-tagged page associated to the keywords is contained in the list of results.\n",
    "\n",
    "## Disclaimer\n",
    "\n",
    "All requests will be directed to the graph-ai-test server, which runs elasticsearch on a regular HDD. Replacing that with an SDD would improve performance presumably 5 to 10-fold."
   ]
  },
  {
   "cell_type": "code",
   "execution_count": 1,
   "id": "490f0216-1c90-42b6-91d3-4ff31f34c4b6",
   "metadata": {},
   "outputs": [],
   "source": [
    "%load_ext autoreload\n",
    "%autoreload 2"
   ]
  },
  {
   "cell_type": "code",
   "execution_count": 13,
   "id": "9ec47e33-96b0-493e-bc1b-0729f5d8f36c",
   "metadata": {},
   "outputs": [],
   "source": [
    "import random\n",
    "import pandas as pd\n",
    "import numpy as np\n",
    "import matplotlib.pyplot as plt\n",
    "\n",
    "import unicodedata\n",
    "\n",
    "from concept_detection.interfaces.es import ES\n",
    "from concept_detection.interfaces.wp import WP\n",
    "from concept_detection.interfaces.db import DB\n",
    "\n",
    "from concept_detection.text.utils import normalize\n",
    "\n",
    "from concept_detection.time.stopwatch import Stopwatch\n",
    "\n",
    "from concept_detection.test.courses.compare import *"
   ]
  },
  {
   "cell_type": "markdown",
   "id": "38e436df-d5ec-49e2-8302-51644a9a0c91",
   "metadata": {},
   "source": [
    "## Initialization\n",
    "\n",
    "We instantiate the interfaces to communicate with the database and the wikipedia api."
   ]
  },
  {
   "cell_type": "code",
   "execution_count": 3,
   "id": "9d04cae3-62b5-4c63-bec5-a3909264e876",
   "metadata": {},
   "outputs": [],
   "source": [
    "db = DB()\n",
    "wp = WP()"
   ]
  },
  {
   "cell_type": "markdown",
   "id": "ec0ec603-7653-4e86-a901-1a3ff0848157",
   "metadata": {},
   "source": [
    "We define the grids of values for each variable and the interfaces to communicate with elasticsearch."
   ]
  },
  {
   "cell_type": "code",
   "execution_count": 4,
   "id": "bee5e65f-cd31-41d8-a710-fc172eaa007c",
   "metadata": {},
   "outputs": [],
   "source": [
    "queries = ['base', 'no-rescoring', 'no-plain', 'restrict-4', 'restrict-2']\n",
    "\n",
    "es = {1: ES('wikipages-1-shards'), 3: ES('wikipages-3-shards'), 6: ES('wikipages-6-shards'), 12: ES('wikipages')}\n",
    "es = {12: ES('wikipages')}\n",
    "shards = list(es.keys())"
   ]
  },
  {
   "cell_type": "markdown",
   "id": "c85b8623-9320-4061-8e2b-32129452cbd4",
   "metadata": {},
   "source": [
    "We also set several constants that we will use later."
   ]
  },
  {
   "cell_type": "code",
   "execution_count": 60,
   "id": "e08ccbe0-299d-4ba3-b788-34daa6fb315d",
   "metadata": {},
   "outputs": [],
   "source": [
    "batch_size = 100    # number of keywords per setting\n",
    "random_seed = 0     # seed for randomness"
   ]
  },
  {
   "cell_type": "markdown",
   "id": "ab53cb8e-f7a5-4899-b458-880788f913dc",
   "metadata": {},
   "source": [
    "We finally initialize a variable to hold all results of the execution, so that we can analyze them later."
   ]
  },
  {
   "cell_type": "code",
   "execution_count": 61,
   "id": "db1dc5b1-e06c-4f0d-bffc-fe17d7e5da8e",
   "metadata": {},
   "outputs": [],
   "source": [
    "results = []"
   ]
  },
  {
   "cell_type": "markdown",
   "id": "2146edc8-57cf-4b6e-b91e-2a425f7c4c4b",
   "metadata": {},
   "source": [
    "## Ground truth\n",
    "\n",
    "We obtain the ground truth keywords to pages"
   ]
  },
  {
   "cell_type": "code",
   "execution_count": 62,
   "id": "51a4ad72-89b0-4c7d-add8-2a9dcb814996",
   "metadata": {},
   "outputs": [
    {
     "data": {
      "text/html": [
       "<div>\n",
       "<style scoped>\n",
       "    .dataframe tbody tr th:only-of-type {\n",
       "        vertical-align: middle;\n",
       "    }\n",
       "\n",
       "    .dataframe tbody tr th {\n",
       "        vertical-align: top;\n",
       "    }\n",
       "\n",
       "    .dataframe thead th {\n",
       "        text-align: right;\n",
       "    }\n",
       "</style>\n",
       "<table border=\"1\" class=\"dataframe\">\n",
       "  <thead>\n",
       "    <tr style=\"text-align: right;\">\n",
       "      <th></th>\n",
       "      <th>Keywords</th>\n",
       "      <th>PageID</th>\n",
       "      <th>PageTitle</th>\n",
       "    </tr>\n",
       "  </thead>\n",
       "  <tbody>\n",
       "    <tr>\n",
       "      <th>0</th>\n",
       "      <td>architectural</td>\n",
       "      <td>12319895</td>\n",
       "      <td>Architectural_firm</td>\n",
       "    </tr>\n",
       "    <tr>\n",
       "      <th>1</th>\n",
       "      <td>architectural production</td>\n",
       "      <td>21296224</td>\n",
       "      <td>Architecture</td>\n",
       "    </tr>\n",
       "    <tr>\n",
       "      <th>2</th>\n",
       "      <td>architectural thinking</td>\n",
       "      <td>7217678</td>\n",
       "      <td>Enterprise_Architecture_Body_of_Knowledge</td>\n",
       "    </tr>\n",
       "    <tr>\n",
       "      <th>3</th>\n",
       "      <td>architecture</td>\n",
       "      <td>25596555</td>\n",
       "      <td>Lego_Architecture</td>\n",
       "    </tr>\n",
       "    <tr>\n",
       "      <th>4</th>\n",
       "      <td>casts</td>\n",
       "      <td>1006266</td>\n",
       "      <td>Plaster_cast</td>\n",
       "    </tr>\n",
       "    <tr>\n",
       "      <th>...</th>\n",
       "      <td>...</td>\n",
       "      <td>...</td>\n",
       "      <td>...</td>\n",
       "    </tr>\n",
       "    <tr>\n",
       "      <th>29162</th>\n",
       "      <td>voice</td>\n",
       "      <td>38481</td>\n",
       "      <td>Human_voice</td>\n",
       "    </tr>\n",
       "    <tr>\n",
       "      <th>29163</th>\n",
       "      <td>architectures</td>\n",
       "      <td>25652303</td>\n",
       "      <td>Computer_architecture</td>\n",
       "    </tr>\n",
       "    <tr>\n",
       "      <th>29164</th>\n",
       "      <td>distributed architectures</td>\n",
       "      <td>8501</td>\n",
       "      <td>Distributed_computing</td>\n",
       "    </tr>\n",
       "    <tr>\n",
       "      <th>29165</th>\n",
       "      <td>information systems</td>\n",
       "      <td>237495</td>\n",
       "      <td>Information_system</td>\n",
       "    </tr>\n",
       "    <tr>\n",
       "      <th>29166</th>\n",
       "      <td>middleware</td>\n",
       "      <td>34658368</td>\n",
       "      <td>Middleware</td>\n",
       "    </tr>\n",
       "  </tbody>\n",
       "</table>\n",
       "<p>29167 rows × 3 columns</p>\n",
       "</div>"
      ],
      "text/plain": [
       "                        Keywords    PageID  \\\n",
       "0                  architectural  12319895   \n",
       "1       architectural production  21296224   \n",
       "2         architectural thinking   7217678   \n",
       "3                   architecture  25596555   \n",
       "4                          casts   1006266   \n",
       "...                          ...       ...   \n",
       "29162                      voice     38481   \n",
       "29163              architectures  25652303   \n",
       "29164  distributed architectures      8501   \n",
       "29165        information systems    237495   \n",
       "29166                 middleware  34658368   \n",
       "\n",
       "                                       PageTitle  \n",
       "0                             Architectural_firm  \n",
       "1                                   Architecture  \n",
       "2      Enterprise_Architecture_Body_of_Knowledge  \n",
       "3                              Lego_Architecture  \n",
       "4                                   Plaster_cast  \n",
       "...                                          ...  \n",
       "29162                                Human_voice  \n",
       "29163                      Computer_architecture  \n",
       "29164                      Distributed_computing  \n",
       "29165                         Information_system  \n",
       "29166                                 Middleware  \n",
       "\n",
       "[29167 rows x 3 columns]"
      ]
     },
     "execution_count": 62,
     "metadata": {},
     "output_type": "execute_result"
    }
   ],
   "source": [
    "wikified_course_descriptions = db.query_wikified_course_descriptions()\n",
    "ground_truth = pd.DataFrame([(normalize(result.keywords), result.page_id, result.page_title) for course_id in wikified_course_descriptions for result in wikified_course_descriptions[course_id]], columns=['Keywords', 'PageID', 'PageTitle'])\n",
    "\n",
    "ground_truth"
   ]
  },
  {
   "cell_type": "markdown",
   "id": "96842f62-9ad7-48ad-906b-8f1e850eeade",
   "metadata": {},
   "source": [
    "Also we need the ids of all pages in the database so we can filter them in the computation of the recall. Otherwise we might penalize elasticsearch for not finding pages **not present** in the database."
   ]
  },
  {
   "cell_type": "code",
   "execution_count": 63,
   "id": "ebdb1570-82a0-40bd-81a7-57e9ece7eccd",
   "metadata": {},
   "outputs": [],
   "source": [
    "db_page_ids = db.get_wikipage_ids()"
   ]
  },
  {
   "cell_type": "markdown",
   "id": "bd197515-9e58-4a8b-93c1-1887ba1304be",
   "metadata": {},
   "source": [
    "## Helper functions\n",
    "\n",
    "The following function processes a batch of keywords in a given setting and returns a list of the results."
   ]
  },
  {
   "cell_type": "code",
   "execution_count": 64,
   "id": "ee1ad23b-2bbd-479a-8426-91e146931d8e",
   "metadata": {},
   "outputs": [],
   "source": [
    "def es_search(query, shard):\n",
    "    if query == 'base':\n",
    "        return es[shard].search_mediawiki\n",
    "    if query == 'no-rescoring':\n",
    "        return es[shard].search_mediawiki_no_rescore\n",
    "    if query == 'no-plain':\n",
    "        return es[shard].search_mediawiki_no_plain\n",
    "    if query == 'restrict-4':\n",
    "        return es[shard].search_mediawiki_restrict_4\n",
    "    if query == 'restrict-2':\n",
    "        return es[shard].search_mediawiki_restrict_2"
   ]
  },
  {
   "cell_type": "code",
   "execution_count": 65,
   "id": "2aa23dc1-71ca-43ed-8d94-99e265e48ac2",
   "metadata": {},
   "outputs": [],
   "source": [
    "def process_batch(batch, query, shard):\n",
    "    wp_time = 0\n",
    "    es_time = 0\n",
    "    sw = Stopwatch()\n",
    "    \n",
    "    es_wp_recalls = []\n",
    "    es_gt_recalls = []\n",
    "    wp_gt_recalls = []\n",
    "    \n",
    "    for index, row in batch.iterrows():\n",
    "        keywords = row['Keywords']\n",
    "        \n",
    "        sw.reset()\n",
    "        wp_results = wp.search(keywords)\n",
    "        wp_time += sw.delta()\n",
    "        \n",
    "        sw.reset()\n",
    "        es_results = es_search(query, shard)(keywords)\n",
    "        es_time += sw.delta()\n",
    "        \n",
    "        wp_page_ids = set(r.page_id for r in wp_results if r.page_id in db_page_ids)\n",
    "        es_page_ids = set(r.page_id for r in es_results)\n",
    "        gt_page_ids = {row['PageID']}\n",
    "        \n",
    "        es_wp_recalls.append(len(es_page_ids & wp_page_ids) / len(wp_page_ids) if wp_page_ids else 1)\n",
    "        es_gt_recalls.append(len(es_page_ids & gt_page_ids) / len(gt_page_ids) if gt_page_ids else 1)\n",
    "        wp_gt_recalls.append(len(wp_page_ids & gt_page_ids) / len(gt_page_ids) if gt_page_ids else 1)\n",
    "    \n",
    "    wp_avg_time = wp_time / len(batch)\n",
    "    es_avg_time = es_time / len(batch)\n",
    "    \n",
    "    es_wp_avg_recall = np.mean(es_wp_recalls)\n",
    "    es_gt_avg_recall = np.mean(es_gt_recalls)\n",
    "    wp_gt_avg_recall = np.mean(wp_gt_recalls)\n",
    "    \n",
    "    return [query, shard, wp_avg_time, es_avg_time, es_wp_avg_recall, es_gt_avg_recall, wp_gt_avg_recall]"
   ]
  },
  {
   "cell_type": "code",
   "execution_count": 66,
   "id": "debeb912-7022-4adb-ba1a-dd7f49746c60",
   "metadata": {},
   "outputs": [
    {
     "name": "stdout",
     "output_type": "stream",
     "text": [
      "100\n",
      "100\n",
      "100\n",
      "100\n",
      "100\n"
     ]
    }
   ],
   "source": [
    "for query in queries:\n",
    "    for shard in shards:\n",
    "        batch = ground_truth.sample(batch_size)\n",
    "        print(len(batch))\n",
    "        batch_results = process_batch(batch, query, shard)\n",
    "        results.append(batch_results)"
   ]
  },
  {
   "cell_type": "code",
   "execution_count": 98,
   "id": "ed9b0bd9-57db-4d3f-8c3c-3c21e9eed362",
   "metadata": {},
   "outputs": [
    {
     "data": {
      "text/html": [
       "<div>\n",
       "<style scoped>\n",
       "    .dataframe tbody tr th:only-of-type {\n",
       "        vertical-align: middle;\n",
       "    }\n",
       "\n",
       "    .dataframe tbody tr th {\n",
       "        vertical-align: top;\n",
       "    }\n",
       "\n",
       "    .dataframe thead th {\n",
       "        text-align: right;\n",
       "    }\n",
       "</style>\n",
       "<table border=\"1\" class=\"dataframe\">\n",
       "  <thead>\n",
       "    <tr style=\"text-align: right;\">\n",
       "      <th></th>\n",
       "      <th>query</th>\n",
       "      <th>shards</th>\n",
       "      <th>wp_avg_time</th>\n",
       "      <th>es_avg_time</th>\n",
       "      <th>es_wp_avg_recall</th>\n",
       "      <th>es_gt_avg_recall</th>\n",
       "      <th>wp_gt_avg_recall</th>\n",
       "    </tr>\n",
       "  </thead>\n",
       "  <tbody>\n",
       "    <tr>\n",
       "      <th>0</th>\n",
       "      <td>base</td>\n",
       "      <td>12</td>\n",
       "      <td>0.368070</td>\n",
       "      <td>1.118079</td>\n",
       "      <td>0.525778</td>\n",
       "      <td>0.85</td>\n",
       "      <td>0.95</td>\n",
       "    </tr>\n",
       "    <tr>\n",
       "      <th>1</th>\n",
       "      <td>no-rescoring</td>\n",
       "      <td>12</td>\n",
       "      <td>0.410892</td>\n",
       "      <td>0.576981</td>\n",
       "      <td>0.459032</td>\n",
       "      <td>0.89</td>\n",
       "      <td>0.97</td>\n",
       "    </tr>\n",
       "    <tr>\n",
       "      <th>2</th>\n",
       "      <td>no-plain</td>\n",
       "      <td>12</td>\n",
       "      <td>0.370886</td>\n",
       "      <td>0.909987</td>\n",
       "      <td>0.526694</td>\n",
       "      <td>0.87</td>\n",
       "      <td>0.97</td>\n",
       "    </tr>\n",
       "    <tr>\n",
       "      <th>3</th>\n",
       "      <td>restrict-4</td>\n",
       "      <td>12</td>\n",
       "      <td>0.373028</td>\n",
       "      <td>0.849056</td>\n",
       "      <td>0.551183</td>\n",
       "      <td>0.94</td>\n",
       "      <td>0.99</td>\n",
       "    </tr>\n",
       "    <tr>\n",
       "      <th>4</th>\n",
       "      <td>restrict-2</td>\n",
       "      <td>12</td>\n",
       "      <td>0.370322</td>\n",
       "      <td>0.790405</td>\n",
       "      <td>0.548651</td>\n",
       "      <td>0.85</td>\n",
       "      <td>0.96</td>\n",
       "    </tr>\n",
       "  </tbody>\n",
       "</table>\n",
       "</div>"
      ],
      "text/plain": [
       "          query  shards  wp_avg_time  es_avg_time  es_wp_avg_recall  \\\n",
       "0          base      12     0.368070     1.118079          0.525778   \n",
       "1  no-rescoring      12     0.410892     0.576981          0.459032   \n",
       "2      no-plain      12     0.370886     0.909987          0.526694   \n",
       "3    restrict-4      12     0.373028     0.849056          0.551183   \n",
       "4    restrict-2      12     0.370322     0.790405          0.548651   \n",
       "\n",
       "   es_gt_avg_recall  wp_gt_avg_recall  \n",
       "0              0.85              0.95  \n",
       "1              0.89              0.97  \n",
       "2              0.87              0.97  \n",
       "3              0.94              0.99  \n",
       "4              0.85              0.96  "
      ]
     },
     "execution_count": 98,
     "metadata": {},
     "output_type": "execute_result"
    }
   ],
   "source": [
    "results_df = pd.DataFrame(results, columns=['query', 'shards', 'wp_avg_time', 'es_avg_time', 'es_wp_avg_recall', 'es_gt_avg_recall', 'wp_gt_avg_recall'])\n",
    "\n",
    "results_df"
   ]
  },
  {
   "cell_type": "code",
   "execution_count": 99,
   "id": "b10b467b-ab27-4f14-8587-af5c7280c8c5",
   "metadata": {},
   "outputs": [
    {
     "data": {
      "text/plain": [
       "Text(0.5, 1.0, 'Average time WP vs ES for each of the queries,\\n with 100 keywords per setting')"
      ]
     },
     "execution_count": 99,
     "metadata": {},
     "output_type": "execute_result"
    },
    {
     "data": {
      "image/png": "[encoded data removed]",
      "text/plain": [
       "<Figure size 720x480 with 1 Axes>"
      ]
     },
     "metadata": {
      "needs_background": "light"
     },
     "output_type": "display_data"
    }
   ],
   "source": [
    "fig, ax = plt.subplots(dpi=120)\n",
    "\n",
    "ax.plot(results_df['query'], results_df['wp_avg_time'], label='WP avg time')\n",
    "ax.plot(results_df['query'], results_df['es_avg_time'], label='ES avg time')\n",
    "\n",
    "ax.set_ylim(0)\n",
    "ax.legend()\n",
    "ax.set_title(f'Average time WP vs ES for each of the queries,\\n with {batch_size} keywords per setting')"
   ]
  },
  {
   "cell_type": "code",
   "execution_count": 100,
   "id": "f8c1a6ba-0f5c-4651-b3c2-152350aa0174",
   "metadata": {},
   "outputs": [
    {
     "data": {
      "text/plain": [
       "Text(0.5, 1.0, 'Average recall for each of the queries,\\n with 100 keywords per setting')"
      ]
     },
     "execution_count": 100,
     "metadata": {},
     "output_type": "execute_result"
    },
    {
     "data": {
      "image/png": "[encoded data removed]",
      "text/plain": [
       "<Figure size 720x480 with 1 Axes>"
      ]
     },
     "metadata": {
      "needs_background": "light"
     },
     "output_type": "display_data"
    }
   ],
   "source": [
    "fig, ax = plt.subplots(dpi=120)\n",
    "\n",
    "ax.plot(results_df['query'], results_df['es_wp_avg_recall'], label='ES/WP avg recall')\n",
    "ax.plot(results_df['query'], results_df['es_gt_avg_recall'], label='ES/GT avg recall')\n",
    "ax.plot(results_df['query'], results_df['wp_gt_avg_recall'], label='WP/GT avg recall')\n",
    "\n",
    "ax.set_ylim([0, 1])\n",
    "ax.legend()\n",
    "ax.set_title(f'Average recall for each of the queries,\\n with {batch_size} keywords per setting')"
   ]
  },
  {
   "cell_type": "code",
   "execution_count": null,
   "id": "385bf53a-ffb2-42de-8dd8-e685be362ff4",
   "metadata": {},
   "outputs": [],
   "source": []
  }
 ],
 "metadata": {
  "kernelspec": {
   "display_name": "Python 3 (ipykernel)",
   "language": "python",
   "name": "python3"
  },
  "language_info": {
   "codemirror_mode": {
    "name": "ipython",
    "version": 3
   },
   "file_extension": ".py",
   "mimetype": "text/x-python",
   "name": "python",
   "nbconvert_exporter": "python",
   "pygments_lexer": "ipython3",
   "version": "3.8.13"
  }
 },
 "nbformat": 4,
 "nbformat_minor": 5
}
