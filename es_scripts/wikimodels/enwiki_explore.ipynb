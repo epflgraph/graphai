{
 "cells": [
  {
   "cell_type": "code",
   "execution_count": 1,
   "id": "1a26a0d0-b188-415f-a5c4-f46d7c3f9ae8",
   "metadata": {},
   "outputs": [],
   "source": [
    "%load_ext autoreload\n",
    "%autoreload 2"
   ]
  },
  {
   "cell_type": "code",
   "execution_count": 2,
   "id": "b35a0642-40f9-4406-9522-d995f272696d",
   "metadata": {},
   "outputs": [],
   "source": [
    "import re\n",
    "import pandas as pd\n",
    "import matplotlib.pyplot as plt\n",
    "\n",
    "from concept_detection.text.io import read_json"
   ]
  },
  {
   "cell_type": "code",
   "execution_count": 3,
   "id": "26d2b90f-ef6b-4736-82e1-4e331ca46c95",
   "metadata": {},
   "outputs": [],
   "source": [
    "data = read_json('enwiki-20220421-20180215-query_explorer.json')"
   ]
  },
  {
   "cell_type": "code",
   "execution_count": 4,
   "id": "398e4037-a2df-46db-95d6-1c878180e1e5",
   "metadata": {},
   "outputs": [
    {
     "data": {
      "text/html": [
       "<div>\n",
       "<style scoped>\n",
       "    .dataframe tbody tr th:only-of-type {\n",
       "        vertical-align: middle;\n",
       "    }\n",
       "\n",
       "    .dataframe tbody tr th {\n",
       "        vertical-align: top;\n",
       "    }\n",
       "\n",
       "    .dataframe thead th {\n",
       "        text-align: right;\n",
       "    }\n",
       "</style>\n",
       "<table border=\"1\" class=\"dataframe\">\n",
       "  <thead>\n",
       "    <tr style=\"text-align: right;\">\n",
       "      <th></th>\n",
       "      <th>name</th>\n",
       "      <th>params</th>\n",
       "      <th>template_language</th>\n",
       "      <th>template</th>\n",
       "      <th>type</th>\n",
       "      <th>split_name</th>\n",
       "    </tr>\n",
       "  </thead>\n",
       "  <tbody>\n",
       "    <tr>\n",
       "      <th>0</th>\n",
       "      <td>title_match</td>\n",
       "      <td>[query_string]</td>\n",
       "      <td>mustache</td>\n",
       "      <td>{'match': {'title': '{{query_string}}'}}</td>\n",
       "      <td>match</td>\n",
       "      <td>[title, match]</td>\n",
       "    </tr>\n",
       "    <tr>\n",
       "      <th>1</th>\n",
       "      <td>title_stddev_classic_idf</td>\n",
       "      <td>[query_string]</td>\n",
       "      <td>mustache</td>\n",
       "      <td>{'match_explorer': {'query': {'match': {'title...</td>\n",
       "      <td>match_explorer</td>\n",
       "      <td>[title, stddev, classic_idf]</td>\n",
       "    </tr>\n",
       "    <tr>\n",
       "      <th>2</th>\n",
       "      <td>title_plain_match</td>\n",
       "      <td>[query_string]</td>\n",
       "      <td>mustache</td>\n",
       "      <td>{'match': {'title.plain': '{{query_string}}'}}</td>\n",
       "      <td>match</td>\n",
       "      <td>[title_plain, match]</td>\n",
       "    </tr>\n",
       "    <tr>\n",
       "      <th>3</th>\n",
       "      <td>title_plain_max_classic_idf</td>\n",
       "      <td>[query_string]</td>\n",
       "      <td>mustache</td>\n",
       "      <td>{'match_explorer': {'query': {'match': {'title...</td>\n",
       "      <td>match_explorer</td>\n",
       "      <td>[title_plain, max, classic_idf]</td>\n",
       "    </tr>\n",
       "    <tr>\n",
       "      <th>4</th>\n",
       "      <td>title_plain_mean_classic_idf</td>\n",
       "      <td>[query_string]</td>\n",
       "      <td>mustache</td>\n",
       "      <td>{'match_explorer': {'query': {'match': {'title...</td>\n",
       "      <td>match_explorer</td>\n",
       "      <td>[title_plain, mean, classic_idf]</td>\n",
       "    </tr>\n",
       "  </tbody>\n",
       "</table>\n",
       "</div>"
      ],
      "text/plain": [
       "                           name          params template_language  \\\n",
       "0                   title_match  [query_string]          mustache   \n",
       "1      title_stddev_classic_idf  [query_string]          mustache   \n",
       "2             title_plain_match  [query_string]          mustache   \n",
       "3   title_plain_max_classic_idf  [query_string]          mustache   \n",
       "4  title_plain_mean_classic_idf  [query_string]          mustache   \n",
       "\n",
       "                                            template            type  \\\n",
       "0           {'match': {'title': '{{query_string}}'}}           match   \n",
       "1  {'match_explorer': {'query': {'match': {'title...  match_explorer   \n",
       "2     {'match': {'title.plain': '{{query_string}}'}}           match   \n",
       "3  {'match_explorer': {'query': {'match': {'title...  match_explorer   \n",
       "4  {'match_explorer': {'query': {'match': {'title...  match_explorer   \n",
       "\n",
       "                         split_name  \n",
       "0                    [title, match]  \n",
       "1      [title, stddev, classic_idf]  \n",
       "2              [title_plain, match]  \n",
       "3   [title_plain, max, classic_idf]  \n",
       "4  [title_plain, mean, classic_idf]  "
      ]
     },
     "execution_count": 4,
     "metadata": {},
     "output_type": "execute_result"
    }
   ],
   "source": [
    "features = data['_source']['model']['feature_set']['features']\n",
    "feature_names = [feature['name'] for feature in features]\n",
    "\n",
    "model = data['_source']['model']['model']['definition']\n",
    "\n",
    "features = pd.DataFrame(features)\n",
    "features['type'] = features['template'].astype(str).str.extract(r\"\\{\\'(.*?)\\'\")\n",
    "\n",
    "features['type'][features['type'].isna()] = features['template_language'][features['type'].isna()]\n",
    "\n",
    "def split_name(row):\n",
    "    if row['type'] == 'match':\n",
    "        matches = re.split(r\"(.*)_(match)\", row['name'])\n",
    "        return [match for match in matches if match]\n",
    "\n",
    "    if row['type'] == 'match_explorer':\n",
    "        matches = re.split(r\"(.*)_(classic_idf|raw_ttf|unique_terms)\", row['name'])\n",
    "        matches = [match for match in matches if match]\n",
    "        submatches = re.split(r\"(.*)_(min|max|mean|stddev)\", matches[0])\n",
    "        submatches = [submatch for submatch in submatches if submatch]\n",
    "        return submatches + matches[1:]\n",
    "\n",
    "    if row['type'] == 'derived_expression':\n",
    "        matches = re.split(r\"(.*)_(?:dismax|unique_terms_diff)_(.*)\", row['name'])\n",
    "        if len(matches) > 1:\n",
    "            matches = [match for match in matches if match]\n",
    "            if 'plain' in matches:\n",
    "                matches.remove('plain')\n",
    "                matches.append(matches[0] + '_plain')\n",
    "                return matches\n",
    "        \n",
    "        matches = re.split(r\"(.*)_or_(.*)_dismax\", row['name'])\n",
    "        return [match for match in matches if match]\n",
    "    \n",
    "    if row['type'] == 'token_count_router':\n",
    "        matches = re.split(r\"(.*)_(phrase_match)\", row['name'])\n",
    "        return [match for match in matches if match]\n",
    "\n",
    "    if row['type'] == 'function_score':\n",
    "        return [row['name']]\n",
    "    \n",
    "    return []\n",
    "\n",
    "features['split_name'] = features.apply(split_name, axis=1)\n",
    "\n",
    "features.head()"
   ]
  },
  {
   "cell_type": "code",
   "execution_count": 5,
   "id": "27002033-45bf-4b06-ba3b-8b14c6b75d38",
   "metadata": {},
   "outputs": [],
   "source": [
    "def get_tree_fields(tree):\n",
    "    if 'leaf' in tree:\n",
    "        return set()\n",
    "\n",
    "    assert len(tree['children']) == 2\n",
    "    assert tree['yes'] == tree['missing']\n",
    "    fields_0 = get_tree_fields(tree['children'][0])\n",
    "    fields_1 = get_tree_fields(tree['children'][1])\n",
    "    \n",
    "    return set([tree['split']]) | fields_0 | fields_1"
   ]
  },
  {
   "cell_type": "code",
   "execution_count": 6,
   "id": "130fbb4c-da14-4622-8422-95fd15a59f60",
   "metadata": {},
   "outputs": [],
   "source": [
    "field_matches = []\n",
    "\n",
    "for tree in model:\n",
    "    fields = get_tree_fields(tree)\n",
    "    field_matches.append([name in fields for name in feature_names])"
   ]
  },
  {
   "cell_type": "code",
   "execution_count": 7,
   "id": "0923e4bf-3fc4-4aaa-bdcc-f085fde26c1b",
   "metadata": {},
   "outputs": [],
   "source": [
    "fields = pd.DataFrame(field_matches, columns=feature_names)"
   ]
  },
  {
   "cell_type": "code",
   "execution_count": 8,
   "id": "d2c2bdfd-701e-4276-a1f3-4916778bd6b6",
   "metadata": {},
   "outputs": [
    {
     "data": {
      "text/plain": [
       "<matplotlib.image.AxesImage at 0x10fd09910>"
      ]
     },
     "execution_count": 8,
     "metadata": {},
     "output_type": "execute_result"
    },
    {
     "data": {
      "image/png": "[encoded data removed]",
      "text/plain": [
       "<Figure size 432x288 with 1 Axes>"
      ]
     },
     "metadata": {
      "needs_background": "light"
     },
     "output_type": "display_data"
    }
   ],
   "source": [
    "fig, ax = plt.subplots()\n",
    "ax.matshow(fields)"
   ]
  },
  {
   "cell_type": "code",
   "execution_count": 9,
   "id": "e3d1ec31-6cfa-4e54-be22-d1b360e622ef",
   "metadata": {},
   "outputs": [
    {
     "data": {
      "text/plain": [
       "[<matplotlib.lines.Line2D at 0x10ffca7f0>]"
      ]
     },
     "execution_count": 9,
     "metadata": {},
     "output_type": "execute_result"
    },
    {
     "data": {
      "image/png": "[encoded data removed]",
      "text/plain": [
       "<Figure size 432x288 with 1 Axes>"
      ]
     },
     "metadata": {
      "needs_background": "light"
     },
     "output_type": "display_data"
    }
   ],
   "source": [
    "agg_fields = fields.sum().sort_values()\n",
    "\n",
    "fig, ax = plt.subplots()\n",
    "ax.plot(agg_fields)"
   ]
  },
  {
   "cell_type": "code",
   "execution_count": 10,
   "id": "990df68a-97d8-4047-a6ba-7339eec7fe29",
   "metadata": {},
   "outputs": [
    {
     "data": {
      "text/plain": [
       "title_plain_unique_terms         0\n",
       "text_dismax_plain                0\n",
       "text_match                       0\n",
       "title_unique_terms               0\n",
       "opening_text_dismax_plain        0\n",
       "title_unique_terms_diff_plain    6\n",
       "dtype: int64"
      ]
     },
     "execution_count": 10,
     "metadata": {},
     "output_type": "execute_result"
    }
   ],
   "source": [
    "agg_fields[agg_fields < 20]"
   ]
  },
  {
   "cell_type": "code",
   "execution_count": 11,
   "id": "ec97a7ad-6807-4e48-9803-730cfa0d9cd0",
   "metadata": {},
   "outputs": [
    {
     "data": {
      "text/plain": [
       "redirect_title_plain_match     82\n",
       "title_plain_match              84\n",
       "popularity_score               85\n",
       "all_phrase_match               86\n",
       "text_word_count                86\n",
       "incoming_links                 87\n",
       "text_sum_classic_idf           87\n",
       "category_match                 88\n",
       "text_or_opening_text_dismax    89\n",
       "text_plain_match               90\n",
       "redirect_title_match           91\n",
       "title_match                    91\n",
       "dtype: int64"
      ]
     },
     "execution_count": 11,
     "metadata": {},
     "output_type": "execute_result"
    }
   ],
   "source": [
    "agg_fields[agg_fields > 80]"
   ]
  },
  {
   "cell_type": "code",
   "execution_count": 12,
   "id": "4ea34cf7-cf28-4119-9653-f97657693354",
   "metadata": {},
   "outputs": [
    {
     "data": {
      "text/plain": [
       "{'nodeid': 83,\n",
       " 'split': 'redirect_title_match',\n",
       " 'split_condition': 19.2012424,\n",
       " 'yes': 165,\n",
       " 'no': 166,\n",
       " 'missing': 165,\n",
       " 'depth': 6,\n",
       " 'children': [{'nodeid': 165, 'leaf': 0.994905859},\n",
       "  {'nodeid': 166, 'leaf': 1.2001237869999999}]}"
      ]
     },
     "execution_count": 12,
     "metadata": {},
     "output_type": "execute_result"
    }
   ],
   "source": [
    "def nav(tree, path=None):\n",
    "    if path is None or not path:\n",
    "        return tree\n",
    "    \n",
    "    return nav(tree['children'][path[0]], path[1:])\n",
    "\n",
    "nav(model[0], [0, 1, 0, 1, 0, 0])"
   ]
  },
  {
   "cell_type": "code",
   "execution_count": 13,
   "id": "9520727d-db55-4b41-b78a-c814b07e9042",
   "metadata": {},
   "outputs": [
    {
     "data": {
      "text/plain": [
       "17098"
      ]
     },
     "execution_count": 13,
     "metadata": {},
     "output_type": "execute_result"
    }
   ],
   "source": [
    "def get_n_nodes(tree):\n",
    "    if 'leaf' in tree:\n",
    "        return 1\n",
    "    \n",
    "    n_nodes_0 = get_n_nodes(tree['children'][0])\n",
    "    n_nodes_1 = get_n_nodes(tree['children'][1])\n",
    "    \n",
    "    return 1 + n_nodes_0 + n_nodes_1\n",
    "\n",
    "total_n_nodes = sum([get_n_nodes(tree) for tree in model])\n",
    "total_n_nodes"
   ]
  },
  {
   "cell_type": "code",
   "execution_count": 14,
   "id": "2038e2a8-e88b-4388-8f04-733c42bbc69f",
   "metadata": {},
   "outputs": [],
   "source": [
    "def reduce(tree, threshold=1e-4):\n",
    "    if 'leaf' in tree:\n",
    "        return tree\n",
    "    \n",
    "    if tree['split_condition'] < threshold:\n",
    "        return reduce(tree['children'][1], threshold)\n",
    "    \n",
    "    tree['children'][0] = reduce(tree['children'][0])\n",
    "    tree['children'][1] = reduce(tree['children'][1])\n",
    "\n",
    "    return tree"
   ]
  },
  {
   "cell_type": "code",
   "execution_count": null,
   "id": "54dbc304-c74d-40e4-a36c-2a590a9ef7a7",
   "metadata": {},
   "outputs": [],
   "source": []
  }
 ],
 "metadata": {
  "kernelspec": {
   "display_name": "Python 3 (ipykernel)",
   "language": "python",
   "name": "python3"
  },
  "language_info": {
   "codemirror_mode": {
    "name": "ipython",
    "version": 3
   },
   "file_extension": ".py",
   "mimetype": "text/x-python",
   "name": "python",
   "nbconvert_exporter": "python",
   "pygments_lexer": "ipython3",
   "version": "3.8.13"
  }
 },
 "nbformat": 4,
 "nbformat_minor": 5
}
